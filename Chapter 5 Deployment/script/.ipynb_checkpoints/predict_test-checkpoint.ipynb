{
 "cells": [
  {
   "cell_type": "code",
   "execution_count": 1,
   "id": "8b8bb719",
   "metadata": {},
   "outputs": [
    {
     "data": {
      "application/javascript": [
       "IPython.notebook.set_autosave_interval(0)"
      ]
     },
     "metadata": {},
     "output_type": "display_data"
    },
    {
     "name": "stdout",
     "output_type": "stream",
     "text": [
      "Autosave disabled\n"
     ]
    }
   ],
   "source": [
    "%autosave 0"
   ]
  },
  {
   "cell_type": "code",
   "execution_count": 3,
   "id": "268276d5",
   "metadata": {},
   "outputs": [],
   "source": [
    "import requests"
   ]
  },
  {
   "cell_type": "code",
   "execution_count": 9,
   "id": "2180f1cb",
   "metadata": {},
   "outputs": [],
   "source": [
    "url = \"http://localhost:9696/predict\""
   ]
  },
  {
   "cell_type": "code",
   "execution_count": 24,
   "id": "af487870",
   "metadata": {},
   "outputs": [],
   "source": [
    "customer = {\n",
    " \"gender\": \"female\",\n",
    " \"seniorcitizen\": 0,\n",
    " \"partner\": \"no\",\n",
    " \"dependents\": \"no\",\n",
    " \"tenure\": 8,\n",
    " \"phoneservice\": \"yes\",\n",
    " \"multiplelines\": \"yes\",\n",
    " \"internetservice\": \"fiber_optic\",\n",
    " \"onlinesecurity\": \"no\",\n",
    " \"onlinebackup\": \"no\",\n",
    " \"deviceprotection\": \"yes\",\n",
    " \"techsupport\": \"yes\",\n",
    " \"streamingtv\": \"yes\",\n",
    " \"streamingmovies\": \"yes\",\n",
    " \"contract\": \"month-to-month\",\n",
    " \"paperlessbilling\": \"yes\",\n",
    " \"paymentmethod\": \"electronic_check\",\n",
    " \"monthlycharges\": 19.65,\n",
    " \"totalcharges\": 200.5}\n"
   ]
  },
  {
   "cell_type": "code",
   "execution_count": 25,
   "id": "45c701a7",
   "metadata": {},
   "outputs": [
    {
     "data": {
      "text/plain": [
       "{'Churn': True, 'Churn Probability': 0.5701148809918408}"
      ]
     },
     "execution_count": 25,
     "metadata": {},
     "output_type": "execute_result"
    }
   ],
   "source": [
    "response = requests.post(url, json = customer).json()\n",
    "response"
   ]
  },
  {
   "cell_type": "code",
   "execution_count": 26,
   "id": "bca81fbf",
   "metadata": {},
   "outputs": [
    {
     "name": "stdout",
     "output_type": "stream",
     "text": [
      "sending email to customer 9305-cdskc\n"
     ]
    }
   ],
   "source": [
    "if response['Churn'] == True:\n",
    "    print('sending email to customer %s' % ('9305-cdskc'))"
   ]
  },
  {
   "cell_type": "code",
   "execution_count": null,
   "id": "af6de47b",
   "metadata": {},
   "outputs": [],
   "source": []
  }
 ],
 "metadata": {
  "kernelspec": {
   "display_name": "Python 3 (ipykernel)",
   "language": "python",
   "name": "python3"
  },
  "language_info": {
   "codemirror_mode": {
    "name": "ipython",
    "version": 3
   },
   "file_extension": ".py",
   "mimetype": "text/x-python",
   "name": "python",
   "nbconvert_exporter": "python",
   "pygments_lexer": "ipython3",
   "version": "3.9.18"
  }
 },
 "nbformat": 4,
 "nbformat_minor": 5
}
