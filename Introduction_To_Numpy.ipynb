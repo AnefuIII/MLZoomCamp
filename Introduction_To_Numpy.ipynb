{
 "cells": [
  {
   "cell_type": "markdown",
   "id": "e0529a38",
   "metadata": {},
   "source": [
    "## CREATING ARRAYS"
   ]
  },
  {
   "cell_type": "code",
   "execution_count": 1,
   "id": "46ed8bb1",
   "metadata": {},
   "outputs": [],
   "source": [
    "import numpy as np"
   ]
  },
  {
   "cell_type": "code",
   "execution_count": 2,
   "id": "af356211",
   "metadata": {},
   "outputs": [
    {
     "data": {
      "text/plain": [
       "<module 'numpy' from 'C:\\\\Users\\\\HP\\\\anaconda3\\\\lib\\\\site-packages\\\\numpy\\\\__init__.py'>"
      ]
     },
     "execution_count": 2,
     "metadata": {},
     "output_type": "execute_result"
    }
   ],
   "source": [
    "np"
   ]
  },
  {
   "cell_type": "code",
   "execution_count": 4,
   "id": "15e3785c",
   "metadata": {},
   "outputs": [
    {
     "data": {
      "text/plain": [
       "array([0., 0., 0., 0., 0.])"
      ]
     },
     "execution_count": 4,
     "metadata": {},
     "output_type": "execute_result"
    }
   ],
   "source": [
    "np.zeros(5)"
   ]
  },
  {
   "cell_type": "code",
   "execution_count": 5,
   "id": "03927a6b",
   "metadata": {},
   "outputs": [
    {
     "data": {
      "text/plain": [
       "array([1., 1., 1., 1., 1., 1., 1., 1., 1., 1.])"
      ]
     },
     "execution_count": 5,
     "metadata": {},
     "output_type": "execute_result"
    }
   ],
   "source": [
    "np.ones(10)"
   ]
  },
  {
   "cell_type": "code",
   "execution_count": 6,
   "id": "300ae9c0",
   "metadata": {},
   "outputs": [
    {
     "data": {
      "text/plain": [
       "array([200, 200, 200, 200, 200, 200, 200, 200, 200, 200])"
      ]
     },
     "execution_count": 6,
     "metadata": {},
     "output_type": "execute_result"
    }
   ],
   "source": [
    "np.full(10, 200)"
   ]
  },
  {
   "cell_type": "code",
   "execution_count": 11,
   "id": "48b86d5a",
   "metadata": {},
   "outputs": [
    {
     "data": {
      "text/plain": [
       "array([1, 2, 3, 4, 5])"
      ]
     },
     "execution_count": 11,
     "metadata": {},
     "output_type": "execute_result"
    }
   ],
   "source": [
    "# converting a list to array\n",
    "lst = [1,2,3,4,5]\n",
    "a = np.array(lst)\n",
    "\n",
    "a"
   ]
  },
  {
   "cell_type": "code",
   "execution_count": 12,
   "id": "0a86097a",
   "metadata": {},
   "outputs": [
    {
     "data": {
      "text/plain": [
       "2"
      ]
     },
     "execution_count": 12,
     "metadata": {},
     "output_type": "execute_result"
    }
   ],
   "source": [
    "#Access an element in the array\n",
    "\n",
    "a[1]"
   ]
  },
  {
   "cell_type": "code",
   "execution_count": 13,
   "id": "24a209f8",
   "metadata": {},
   "outputs": [
    {
     "data": {
      "text/plain": [
       "array([  1, 100,   3,   4,   5])"
      ]
     },
     "execution_count": 13,
     "metadata": {},
     "output_type": "execute_result"
    }
   ],
   "source": [
    "a[1] = 100\n",
    "a"
   ]
  },
  {
   "cell_type": "code",
   "execution_count": 14,
   "id": "9ac13820",
   "metadata": {},
   "outputs": [
    {
     "data": {
      "text/plain": [
       "array([0, 1, 2, 3, 4, 5, 6, 7, 8, 9])"
      ]
     },
     "execution_count": 14,
     "metadata": {},
     "output_type": "execute_result"
    }
   ],
   "source": [
    "np.arange(10)"
   ]
  },
  {
   "cell_type": "code",
   "execution_count": 19,
   "id": "d1e73fb0",
   "metadata": {},
   "outputs": [
    {
     "data": {
      "text/plain": [
       "array([ 0,  1,  2,  3,  4,  5,  6,  7,  8,  9, 10, 11, 12, 13, 14, 15])"
      ]
     },
     "execution_count": 19,
     "metadata": {},
     "output_type": "execute_result"
    }
   ],
   "source": [
    "# to create a range of numbers\n",
    "\n",
    "#by default it starts from 0\n",
    "np.arange(16)"
   ]
  },
  {
   "cell_type": "code",
   "execution_count": 21,
   "id": "ce60d302",
   "metadata": {},
   "outputs": [
    {
     "data": {
      "text/plain": [
       "array([ 4,  5,  6,  7,  8,  9, 10, 11, 12, 13, 14, 15])"
      ]
     },
     "execution_count": 21,
     "metadata": {},
     "output_type": "execute_result"
    }
   ],
   "source": [
    "# we can specify the number it starts from\n",
    "\n",
    "np.arange(4, 16)"
   ]
  },
  {
   "cell_type": "code",
   "execution_count": 26,
   "id": "4e40cfea",
   "metadata": {},
   "outputs": [
    {
     "data": {
      "text/plain": [
       "array([  0.        ,  55.55555556, 111.11111111, 166.66666667,\n",
       "       222.22222222, 277.77777778, 333.33333333, 388.88888889,\n",
       "       444.44444444, 500.        ])"
      ]
     },
     "execution_count": 26,
     "metadata": {},
     "output_type": "execute_result"
    }
   ],
   "source": [
    "# linspace creates an array filled with numbers between the first and second parameter\n",
    "\n",
    "np.linspace(0, 500, 10)"
   ]
  },
  {
   "cell_type": "markdown",
   "id": "2441c77e",
   "metadata": {},
   "source": [
    "### MULTIDIMENSIONAL ARRAYS"
   ]
  },
  {
   "cell_type": "code",
   "execution_count": 27,
   "id": "bfeb34b9",
   "metadata": {},
   "outputs": [
    {
     "data": {
      "text/plain": [
       "array([[0., 0.],\n",
       "       [0., 0.],\n",
       "       [0., 0.],\n",
       "       [0., 0.],\n",
       "       [0., 0.]])"
      ]
     },
     "execution_count": 27,
     "metadata": {},
     "output_type": "execute_result"
    }
   ],
   "source": [
    "np.zeros((5,2))"
   ]
  },
  {
   "cell_type": "code",
   "execution_count": 28,
   "id": "63f46e7f",
   "metadata": {},
   "outputs": [
    {
     "data": {
      "text/plain": [
       "array([[1., 1.],\n",
       "       [1., 1.]])"
      ]
     },
     "execution_count": 28,
     "metadata": {},
     "output_type": "execute_result"
    }
   ],
   "source": [
    "np.ones((2,2))"
   ]
  },
  {
   "cell_type": "code",
   "execution_count": 33,
   "id": "3197fd4f",
   "metadata": {},
   "outputs": [],
   "source": [
    "n = np.array([\n",
    "    [1,2,3],\n",
    "    [4,5,6],\n",
    "    [7,8,9]\n",
    "    ])"
   ]
  },
  {
   "cell_type": "code",
   "execution_count": 35,
   "id": "26ce7a2d",
   "metadata": {},
   "outputs": [
    {
     "data": {
      "text/plain": [
       "6"
      ]
     },
     "execution_count": 35,
     "metadata": {},
     "output_type": "execute_result"
    }
   ],
   "source": [
    "# to select an item in [row, column]\n",
    "\n",
    "n[1,2]"
   ]
  },
  {
   "cell_type": "code",
   "execution_count": 37,
   "id": "fa41ad9e",
   "metadata": {},
   "outputs": [
    {
     "data": {
      "text/plain": [
       "array([[ 1,  2,  3],\n",
       "       [ 4,  5, 30],\n",
       "       [ 7,  8,  9]])"
      ]
     },
     "execution_count": 37,
     "metadata": {},
     "output_type": "execute_result"
    }
   ],
   "source": [
    "# To change an item in column\n",
    "\n",
    "n[1,2] = 30\n",
    "n"
   ]
  },
  {
   "cell_type": "code",
   "execution_count": 40,
   "id": "1916cc17",
   "metadata": {},
   "outputs": [],
   "source": [
    "#To change an entire row\n",
    "\n",
    "n[2] = [1,1,1]"
   ]
  },
  {
   "cell_type": "code",
   "execution_count": 41,
   "id": "b8e81f77",
   "metadata": {},
   "outputs": [
    {
     "data": {
      "text/plain": [
       "array([[ 1,  2,  3],\n",
       "       [ 4,  5, 30],\n",
       "       [ 1,  1,  1]])"
      ]
     },
     "execution_count": 41,
     "metadata": {},
     "output_type": "execute_result"
    }
   ],
   "source": [
    "n"
   ]
  },
  {
   "cell_type": "code",
   "execution_count": 43,
   "id": "a3c5d93c",
   "metadata": {},
   "outputs": [
    {
     "data": {
      "text/plain": [
       "array([ 3, 30,  1])"
      ]
     },
     "execution_count": 43,
     "metadata": {},
     "output_type": "execute_result"
    }
   ],
   "source": [
    "# To select a column\n",
    "\n",
    "n[:, 2]"
   ]
  },
  {
   "cell_type": "code",
   "execution_count": 44,
   "id": "1f578d4a",
   "metadata": {},
   "outputs": [],
   "source": [
    "# To change a column\n",
    "\n",
    "n[:, 2] = [12,11,14]"
   ]
  },
  {
   "cell_type": "code",
   "execution_count": 45,
   "id": "1e7ca6c4",
   "metadata": {},
   "outputs": [
    {
     "data": {
      "text/plain": [
       "array([[ 1,  2, 12],\n",
       "       [ 4,  5, 11],\n",
       "       [ 1,  1, 14]])"
      ]
     },
     "execution_count": 45,
     "metadata": {},
     "output_type": "execute_result"
    }
   ],
   "source": [
    "n"
   ]
  },
  {
   "cell_type": "markdown",
   "id": "1550453b",
   "metadata": {},
   "source": [
    "## Randomly generated arrays"
   ]
  },
  {
   "cell_type": "code",
   "execution_count": 56,
   "id": "e18949e6",
   "metadata": {},
   "outputs": [
    {
     "data": {
      "text/plain": [
       "array([[0.62113383, 0.52914209],\n",
       "       [0.13457995, 0.51357812],\n",
       "       [0.18443987, 0.78533515],\n",
       "       [0.85397529, 0.49423684],\n",
       "       [0.84656149, 0.07964548]])"
      ]
     },
     "execution_count": 56,
     "metadata": {},
     "output_type": "execute_result"
    }
   ],
   "source": [
    "np.random.rand(5,2)"
   ]
  },
  {
   "cell_type": "code",
   "execution_count": 57,
   "id": "42e6e88a",
   "metadata": {},
   "outputs": [
    {
     "data": {
      "text/plain": [
       "array([[0.4359949 , 0.02592623],\n",
       "       [0.54966248, 0.43532239],\n",
       "       [0.4203678 , 0.33033482],\n",
       "       [0.20464863, 0.61927097],\n",
       "       [0.29965467, 0.26682728]])"
      ]
     },
     "execution_count": 57,
     "metadata": {},
     "output_type": "execute_result"
    }
   ],
   "source": [
    "# use seed to fix the randomly generated values\n",
    "\n",
    "np.random.seed(2)\n",
    "np.random.rand(5,2)"
   ]
  },
  {
   "cell_type": "code",
   "execution_count": 60,
   "id": "53f948a1",
   "metadata": {},
   "outputs": [
    {
     "data": {
      "text/plain": [
       "array([[-0.41675785, -0.05626683],\n",
       "       [-2.1361961 ,  1.64027081],\n",
       "       [-1.79343559, -0.84174737],\n",
       "       [ 0.50288142, -1.24528809],\n",
       "       [-1.05795222, -0.90900761]])"
      ]
     },
     "execution_count": 60,
     "metadata": {},
     "output_type": "execute_result"
    }
   ],
   "source": [
    "# standard normal distribution RANDN\n",
    "\n",
    "np.random.seed(2)\n",
    "np.random.randn(5,2)"
   ]
  },
  {
   "cell_type": "code",
   "execution_count": 62,
   "id": "0204f44d",
   "metadata": {},
   "outputs": [
    {
     "data": {
      "text/plain": [
       "array([[43.59949021,  2.59262318],\n",
       "       [54.96624779, 43.53223926],\n",
       "       [42.03678021, 33.0334821 ],\n",
       "       [20.4648634 , 61.92709664],\n",
       "       [29.96546737, 26.68272751]])"
      ]
     },
     "execution_count": 62,
     "metadata": {},
     "output_type": "execute_result"
    }
   ],
   "source": [
    "# to make the values between 0 and 100, multiply by 100\n",
    "\n",
    "np.random.seed(2)\n",
    "100 * np.random.rand(5,2)"
   ]
  },
  {
   "cell_type": "code",
   "execution_count": 64,
   "id": "3813c99a",
   "metadata": {},
   "outputs": [
    {
     "data": {
      "text/plain": [
       "array([[42, 44],\n",
       "       [72,  9],\n",
       "       [47, 56],\n",
       "       [43, 38],\n",
       "       [63, 72]])"
      ]
     },
     "execution_count": 64,
     "metadata": {},
     "output_type": "execute_result"
    }
   ],
   "source": [
    "# to generate integers\n",
    "\n",
    "np.random.randint(low = 5, high = 100, size= (5,2))"
   ]
  },
  {
   "cell_type": "markdown",
   "id": "29c3897b",
   "metadata": {},
   "source": [
    "## Element wise operation"
   ]
  },
  {
   "cell_type": "code",
   "execution_count": 66,
   "id": "c7ceb659",
   "metadata": {},
   "outputs": [
    {
     "data": {
      "text/plain": [
       "array([0, 1, 2, 3, 4])"
      ]
     },
     "execution_count": 66,
     "metadata": {},
     "output_type": "execute_result"
    }
   ],
   "source": [
    "b = np.arange(5)\n",
    "b"
   ]
  },
  {
   "cell_type": "code",
   "execution_count": 67,
   "id": "ed31af2c",
   "metadata": {},
   "outputs": [
    {
     "data": {
      "text/plain": [
       "array([1, 2, 3, 4, 5])"
      ]
     },
     "execution_count": 67,
     "metadata": {},
     "output_type": "execute_result"
    }
   ],
   "source": [
    "b + 1"
   ]
  },
  {
   "cell_type": "code",
   "execution_count": 68,
   "id": "942dce04",
   "metadata": {},
   "outputs": [
    {
     "data": {
      "text/plain": [
       "array([1.  , 1.44, 1.96, 2.56, 3.24])"
      ]
     },
     "execution_count": 68,
     "metadata": {},
     "output_type": "execute_result"
    }
   ],
   "source": [
    "# chaining operations\n",
    "\n",
    "b = (b *2 +10) **2 / 100\n",
    "b"
   ]
  },
  {
   "cell_type": "code",
   "execution_count": 69,
   "id": "b5b51b8d",
   "metadata": {},
   "outputs": [],
   "source": [
    "c = a + b"
   ]
  },
  {
   "cell_type": "code",
   "execution_count": 70,
   "id": "14e4eaf1",
   "metadata": {},
   "outputs": [
    {
     "data": {
      "text/plain": [
       "array([  2.  , 101.44,   4.96,   6.56,   8.24])"
      ]
     },
     "execution_count": 70,
     "metadata": {},
     "output_type": "execute_result"
    }
   ],
   "source": [
    "c"
   ]
  },
  {
   "cell_type": "code",
   "execution_count": 71,
   "id": "fae5c392",
   "metadata": {},
   "outputs": [
    {
     "data": {
      "text/plain": [
       "array([0.06666667, 3.38133333, 0.16533333, 0.21866667, 0.27466667])"
      ]
     },
     "execution_count": 71,
     "metadata": {},
     "output_type": "execute_result"
    }
   ],
   "source": [
    "d = (a + b)/30\n",
    "d"
   ]
  },
  {
   "cell_type": "markdown",
   "id": "5a7243e3",
   "metadata": {},
   "source": [
    "## Comparison operators"
   ]
  },
  {
   "cell_type": "code",
   "execution_count": 72,
   "id": "498f788e",
   "metadata": {},
   "outputs": [
    {
     "data": {
      "text/plain": [
       "array([  1, 100,   3,   4,   5])"
      ]
     },
     "execution_count": 72,
     "metadata": {},
     "output_type": "execute_result"
    }
   ],
   "source": [
    "a"
   ]
  },
  {
   "cell_type": "code",
   "execution_count": 73,
   "id": "c6a29328",
   "metadata": {},
   "outputs": [
    {
     "data": {
      "text/plain": [
       "array([1.  , 1.44, 1.96, 2.56, 3.24])"
      ]
     },
     "execution_count": 73,
     "metadata": {},
     "output_type": "execute_result"
    }
   ],
   "source": [
    "b"
   ]
  },
  {
   "cell_type": "code",
   "execution_count": 74,
   "id": "43637962",
   "metadata": {},
   "outputs": [
    {
     "data": {
      "text/plain": [
       "array([False,  True,  True,  True,  True])"
      ]
     },
     "execution_count": 74,
     "metadata": {},
     "output_type": "execute_result"
    }
   ],
   "source": [
    "a >= 3"
   ]
  },
  {
   "cell_type": "code",
   "execution_count": 77,
   "id": "a1429797",
   "metadata": {},
   "outputs": [
    {
     "data": {
      "text/plain": [
       "array([ True,  True,  True,  True,  True])"
      ]
     },
     "execution_count": 77,
     "metadata": {},
     "output_type": "execute_result"
    }
   ],
   "source": [
    "a < c"
   ]
  },
  {
   "cell_type": "code",
   "execution_count": 82,
   "id": "dcb705fe",
   "metadata": {},
   "outputs": [
    {
     "data": {
      "text/plain": [
       "array([  1, 100,   3,   4,   5])"
      ]
     },
     "execution_count": 82,
     "metadata": {},
     "output_type": "execute_result"
    }
   ],
   "source": [
    "# returns the values/elements that are true\n",
    "\n",
    "a[a >= b]"
   ]
  },
  {
   "cell_type": "code",
   "execution_count": 83,
   "id": "77ee59b5",
   "metadata": {},
   "outputs": [
    {
     "data": {
      "text/plain": [
       "array([ True,  True,  True,  True,  True])"
      ]
     },
     "execution_count": 83,
     "metadata": {},
     "output_type": "execute_result"
    }
   ],
   "source": [
    "a >= b"
   ]
  },
  {
   "cell_type": "markdown",
   "id": "625df4b7",
   "metadata": {},
   "source": [
    "## Summarizing operators"
   ]
  },
  {
   "cell_type": "code",
   "execution_count": 84,
   "id": "a26da07f",
   "metadata": {},
   "outputs": [
    {
     "data": {
      "text/plain": [
       "1"
      ]
     },
     "execution_count": 84,
     "metadata": {},
     "output_type": "execute_result"
    }
   ],
   "source": [
    "a.min()"
   ]
  },
  {
   "cell_type": "code",
   "execution_count": 85,
   "id": "fa0c59ff",
   "metadata": {},
   "outputs": [
    {
     "data": {
      "text/plain": [
       "3.24"
      ]
     },
     "execution_count": 85,
     "metadata": {},
     "output_type": "execute_result"
    }
   ],
   "source": [
    "b.max()"
   ]
  },
  {
   "cell_type": "code",
   "execution_count": 86,
   "id": "6f84152a",
   "metadata": {},
   "outputs": [
    {
     "data": {
      "text/plain": [
       "1.2818353508413887"
      ]
     },
     "execution_count": 86,
     "metadata": {},
     "output_type": "execute_result"
    }
   ],
   "source": [
    "d.std()"
   ]
  },
  {
   "cell_type": "code",
   "execution_count": 88,
   "id": "5225ab85",
   "metadata": {},
   "outputs": [
    {
     "data": {
      "text/plain": [
       "14"
      ]
     },
     "execution_count": 88,
     "metadata": {},
     "output_type": "execute_result"
    }
   ],
   "source": [
    "n.max()"
   ]
  },
  {
   "cell_type": "code",
   "execution_count": 89,
   "id": "808d95f1",
   "metadata": {},
   "outputs": [
    {
     "data": {
      "text/plain": [
       "51"
      ]
     },
     "execution_count": 89,
     "metadata": {},
     "output_type": "execute_result"
    }
   ],
   "source": [
    "n.sum()"
   ]
  },
  {
   "cell_type": "code",
   "execution_count": null,
   "id": "874fb750",
   "metadata": {},
   "outputs": [],
   "source": []
  }
 ],
 "metadata": {
  "kernelspec": {
   "display_name": "Python 3 (ipykernel)",
   "language": "python",
   "name": "python3"
  },
  "language_info": {
   "codemirror_mode": {
    "name": "ipython",
    "version": 3
   },
   "file_extension": ".py",
   "mimetype": "text/x-python",
   "name": "python",
   "nbconvert_exporter": "python",
   "pygments_lexer": "ipython3",
   "version": "3.9.18"
  }
 },
 "nbformat": 4,
 "nbformat_minor": 5
}
