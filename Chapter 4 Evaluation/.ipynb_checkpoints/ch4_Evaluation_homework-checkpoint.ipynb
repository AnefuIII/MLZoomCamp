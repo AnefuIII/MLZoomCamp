{
 "cells": [
  {
   "cell_type": "code",
   "execution_count": 1,
   "id": "7e27a12f",
   "metadata": {},
   "outputs": [],
   "source": [
    "import pandas as pd\n",
    "import numpy as np\n",
    "\n",
    "import seaborn as sns\n",
    "from matplotlib import pyplot as plt\n",
    "%matplotlib inline\n",
    "\n",
    "from sklearn.metrics import roc_auc_score"
   ]
  },
  {
   "cell_type": "code",
   "execution_count": 2,
   "id": "f17c01c7",
   "metadata": {},
   "outputs": [],
   "source": [
    "# data = 'wget https://archive.ics.uci.edu/static/public/222/bank+marketing.zip'\n",
    "# !wget $data"
   ]
  },
  {
   "cell_type": "code",
   "execution_count": 3,
   "id": "aa7c49f4",
   "metadata": {},
   "outputs": [
    {
     "data": {
      "text/html": [
       "<div>\n",
       "<style scoped>\n",
       "    .dataframe tbody tr th:only-of-type {\n",
       "        vertical-align: middle;\n",
       "    }\n",
       "\n",
       "    .dataframe tbody tr th {\n",
       "        vertical-align: top;\n",
       "    }\n",
       "\n",
       "    .dataframe thead th {\n",
       "        text-align: right;\n",
       "    }\n",
       "</style>\n",
       "<table border=\"1\" class=\"dataframe\">\n",
       "  <thead>\n",
       "    <tr style=\"text-align: right;\">\n",
       "      <th></th>\n",
       "      <th>age</th>\n",
       "      <th>job</th>\n",
       "      <th>marital</th>\n",
       "      <th>education</th>\n",
       "      <th>default</th>\n",
       "      <th>balance</th>\n",
       "      <th>housing</th>\n",
       "      <th>loan</th>\n",
       "      <th>contact</th>\n",
       "      <th>day</th>\n",
       "      <th>month</th>\n",
       "      <th>duration</th>\n",
       "      <th>campaign</th>\n",
       "      <th>pdays</th>\n",
       "      <th>previous</th>\n",
       "      <th>poutcome</th>\n",
       "      <th>y</th>\n",
       "    </tr>\n",
       "  </thead>\n",
       "  <tbody>\n",
       "    <tr>\n",
       "      <th>0</th>\n",
       "      <td>58</td>\n",
       "      <td>management</td>\n",
       "      <td>married</td>\n",
       "      <td>tertiary</td>\n",
       "      <td>no</td>\n",
       "      <td>2143</td>\n",
       "      <td>yes</td>\n",
       "      <td>no</td>\n",
       "      <td>unknown</td>\n",
       "      <td>5</td>\n",
       "      <td>may</td>\n",
       "      <td>261</td>\n",
       "      <td>1</td>\n",
       "      <td>-1</td>\n",
       "      <td>0</td>\n",
       "      <td>unknown</td>\n",
       "      <td>no</td>\n",
       "    </tr>\n",
       "    <tr>\n",
       "      <th>1</th>\n",
       "      <td>44</td>\n",
       "      <td>technician</td>\n",
       "      <td>single</td>\n",
       "      <td>secondary</td>\n",
       "      <td>no</td>\n",
       "      <td>29</td>\n",
       "      <td>yes</td>\n",
       "      <td>no</td>\n",
       "      <td>unknown</td>\n",
       "      <td>5</td>\n",
       "      <td>may</td>\n",
       "      <td>151</td>\n",
       "      <td>1</td>\n",
       "      <td>-1</td>\n",
       "      <td>0</td>\n",
       "      <td>unknown</td>\n",
       "      <td>no</td>\n",
       "    </tr>\n",
       "    <tr>\n",
       "      <th>2</th>\n",
       "      <td>33</td>\n",
       "      <td>entrepreneur</td>\n",
       "      <td>married</td>\n",
       "      <td>secondary</td>\n",
       "      <td>no</td>\n",
       "      <td>2</td>\n",
       "      <td>yes</td>\n",
       "      <td>yes</td>\n",
       "      <td>unknown</td>\n",
       "      <td>5</td>\n",
       "      <td>may</td>\n",
       "      <td>76</td>\n",
       "      <td>1</td>\n",
       "      <td>-1</td>\n",
       "      <td>0</td>\n",
       "      <td>unknown</td>\n",
       "      <td>no</td>\n",
       "    </tr>\n",
       "    <tr>\n",
       "      <th>3</th>\n",
       "      <td>47</td>\n",
       "      <td>blue-collar</td>\n",
       "      <td>married</td>\n",
       "      <td>unknown</td>\n",
       "      <td>no</td>\n",
       "      <td>1506</td>\n",
       "      <td>yes</td>\n",
       "      <td>no</td>\n",
       "      <td>unknown</td>\n",
       "      <td>5</td>\n",
       "      <td>may</td>\n",
       "      <td>92</td>\n",
       "      <td>1</td>\n",
       "      <td>-1</td>\n",
       "      <td>0</td>\n",
       "      <td>unknown</td>\n",
       "      <td>no</td>\n",
       "    </tr>\n",
       "    <tr>\n",
       "      <th>4</th>\n",
       "      <td>33</td>\n",
       "      <td>unknown</td>\n",
       "      <td>single</td>\n",
       "      <td>unknown</td>\n",
       "      <td>no</td>\n",
       "      <td>1</td>\n",
       "      <td>no</td>\n",
       "      <td>no</td>\n",
       "      <td>unknown</td>\n",
       "      <td>5</td>\n",
       "      <td>may</td>\n",
       "      <td>198</td>\n",
       "      <td>1</td>\n",
       "      <td>-1</td>\n",
       "      <td>0</td>\n",
       "      <td>unknown</td>\n",
       "      <td>no</td>\n",
       "    </tr>\n",
       "  </tbody>\n",
       "</table>\n",
       "</div>"
      ],
      "text/plain": [
       "   age           job  marital  education default  balance housing loan  \\\n",
       "0   58    management  married   tertiary      no     2143     yes   no   \n",
       "1   44    technician   single  secondary      no       29     yes   no   \n",
       "2   33  entrepreneur  married  secondary      no        2     yes  yes   \n",
       "3   47   blue-collar  married    unknown      no     1506     yes   no   \n",
       "4   33       unknown   single    unknown      no        1      no   no   \n",
       "\n",
       "   contact  day month  duration  campaign  pdays  previous poutcome   y  \n",
       "0  unknown    5   may       261         1     -1         0  unknown  no  \n",
       "1  unknown    5   may       151         1     -1         0  unknown  no  \n",
       "2  unknown    5   may        76         1     -1         0  unknown  no  \n",
       "3  unknown    5   may        92         1     -1         0  unknown  no  \n",
       "4  unknown    5   may       198         1     -1         0  unknown  no  "
      ]
     },
     "execution_count": 3,
     "metadata": {},
     "output_type": "execute_result"
    }
   ],
   "source": [
    "df = pd.read_csv('bank-full.csv', sep=';')\n",
    "df.head()"
   ]
  },
  {
   "cell_type": "code",
   "execution_count": 4,
   "id": "67e0c56a",
   "metadata": {},
   "outputs": [
    {
     "data": {
      "text/plain": [
       "(45211, 17)"
      ]
     },
     "execution_count": 4,
     "metadata": {},
     "output_type": "execute_result"
    }
   ],
   "source": [
    "df.shape"
   ]
  },
  {
   "cell_type": "code",
   "execution_count": 5,
   "id": "fcfcf6b6",
   "metadata": {},
   "outputs": [],
   "source": [
    "remove = ['default', 'loan']\n",
    "\n",
    "df = df.drop(remove, axis = 1)"
   ]
  },
  {
   "cell_type": "code",
   "execution_count": 6,
   "id": "15c62331",
   "metadata": {},
   "outputs": [
    {
     "data": {
      "text/plain": [
       "(45211, 15)"
      ]
     },
     "execution_count": 6,
     "metadata": {},
     "output_type": "execute_result"
    }
   ],
   "source": [
    "df.shape"
   ]
  },
  {
   "cell_type": "code",
   "execution_count": 7,
   "id": "9845c613",
   "metadata": {},
   "outputs": [
    {
     "data": {
      "text/html": [
       "<div>\n",
       "<style scoped>\n",
       "    .dataframe tbody tr th:only-of-type {\n",
       "        vertical-align: middle;\n",
       "    }\n",
       "\n",
       "    .dataframe tbody tr th {\n",
       "        vertical-align: top;\n",
       "    }\n",
       "\n",
       "    .dataframe thead th {\n",
       "        text-align: right;\n",
       "    }\n",
       "</style>\n",
       "<table border=\"1\" class=\"dataframe\">\n",
       "  <thead>\n",
       "    <tr style=\"text-align: right;\">\n",
       "      <th></th>\n",
       "      <th>age</th>\n",
       "      <th>job</th>\n",
       "      <th>marital</th>\n",
       "      <th>education</th>\n",
       "      <th>balance</th>\n",
       "      <th>housing</th>\n",
       "      <th>contact</th>\n",
       "      <th>day</th>\n",
       "      <th>month</th>\n",
       "      <th>duration</th>\n",
       "      <th>campaign</th>\n",
       "      <th>pdays</th>\n",
       "      <th>previous</th>\n",
       "      <th>poutcome</th>\n",
       "      <th>y</th>\n",
       "    </tr>\n",
       "  </thead>\n",
       "  <tbody>\n",
       "    <tr>\n",
       "      <th>0</th>\n",
       "      <td>58</td>\n",
       "      <td>management</td>\n",
       "      <td>married</td>\n",
       "      <td>tertiary</td>\n",
       "      <td>2143</td>\n",
       "      <td>yes</td>\n",
       "      <td>unknown</td>\n",
       "      <td>5</td>\n",
       "      <td>may</td>\n",
       "      <td>261</td>\n",
       "      <td>1</td>\n",
       "      <td>-1</td>\n",
       "      <td>0</td>\n",
       "      <td>unknown</td>\n",
       "      <td>no</td>\n",
       "    </tr>\n",
       "    <tr>\n",
       "      <th>1</th>\n",
       "      <td>44</td>\n",
       "      <td>technician</td>\n",
       "      <td>single</td>\n",
       "      <td>secondary</td>\n",
       "      <td>29</td>\n",
       "      <td>yes</td>\n",
       "      <td>unknown</td>\n",
       "      <td>5</td>\n",
       "      <td>may</td>\n",
       "      <td>151</td>\n",
       "      <td>1</td>\n",
       "      <td>-1</td>\n",
       "      <td>0</td>\n",
       "      <td>unknown</td>\n",
       "      <td>no</td>\n",
       "    </tr>\n",
       "    <tr>\n",
       "      <th>2</th>\n",
       "      <td>33</td>\n",
       "      <td>entrepreneur</td>\n",
       "      <td>married</td>\n",
       "      <td>secondary</td>\n",
       "      <td>2</td>\n",
       "      <td>yes</td>\n",
       "      <td>unknown</td>\n",
       "      <td>5</td>\n",
       "      <td>may</td>\n",
       "      <td>76</td>\n",
       "      <td>1</td>\n",
       "      <td>-1</td>\n",
       "      <td>0</td>\n",
       "      <td>unknown</td>\n",
       "      <td>no</td>\n",
       "    </tr>\n",
       "    <tr>\n",
       "      <th>3</th>\n",
       "      <td>47</td>\n",
       "      <td>blue-collar</td>\n",
       "      <td>married</td>\n",
       "      <td>unknown</td>\n",
       "      <td>1506</td>\n",
       "      <td>yes</td>\n",
       "      <td>unknown</td>\n",
       "      <td>5</td>\n",
       "      <td>may</td>\n",
       "      <td>92</td>\n",
       "      <td>1</td>\n",
       "      <td>-1</td>\n",
       "      <td>0</td>\n",
       "      <td>unknown</td>\n",
       "      <td>no</td>\n",
       "    </tr>\n",
       "    <tr>\n",
       "      <th>4</th>\n",
       "      <td>33</td>\n",
       "      <td>unknown</td>\n",
       "      <td>single</td>\n",
       "      <td>unknown</td>\n",
       "      <td>1</td>\n",
       "      <td>no</td>\n",
       "      <td>unknown</td>\n",
       "      <td>5</td>\n",
       "      <td>may</td>\n",
       "      <td>198</td>\n",
       "      <td>1</td>\n",
       "      <td>-1</td>\n",
       "      <td>0</td>\n",
       "      <td>unknown</td>\n",
       "      <td>no</td>\n",
       "    </tr>\n",
       "  </tbody>\n",
       "</table>\n",
       "</div>"
      ],
      "text/plain": [
       "   age           job  marital  education  balance housing  contact  day month  \\\n",
       "0   58    management  married   tertiary     2143     yes  unknown    5   may   \n",
       "1   44    technician   single  secondary       29     yes  unknown    5   may   \n",
       "2   33  entrepreneur  married  secondary        2     yes  unknown    5   may   \n",
       "3   47   blue-collar  married    unknown     1506     yes  unknown    5   may   \n",
       "4   33       unknown   single    unknown        1      no  unknown    5   may   \n",
       "\n",
       "   duration  campaign  pdays  previous poutcome   y  \n",
       "0       261         1     -1         0  unknown  no  \n",
       "1       151         1     -1         0  unknown  no  \n",
       "2        76         1     -1         0  unknown  no  \n",
       "3        92         1     -1         0  unknown  no  \n",
       "4       198         1     -1         0  unknown  no  "
      ]
     },
     "execution_count": 7,
     "metadata": {},
     "output_type": "execute_result"
    }
   ],
   "source": [
    "df.head()"
   ]
  },
  {
   "cell_type": "code",
   "execution_count": 8,
   "id": "f8df1bfc",
   "metadata": {},
   "outputs": [
    {
     "data": {
      "text/plain": [
       "age          0\n",
       "job          0\n",
       "marital      0\n",
       "education    0\n",
       "balance      0\n",
       "housing      0\n",
       "contact      0\n",
       "day          0\n",
       "month        0\n",
       "duration     0\n",
       "campaign     0\n",
       "pdays        0\n",
       "previous     0\n",
       "poutcome     0\n",
       "y            0\n",
       "dtype: int64"
      ]
     },
     "execution_count": 8,
     "metadata": {},
     "output_type": "execute_result"
    }
   ],
   "source": [
    "df.isnull().sum()"
   ]
  },
  {
   "cell_type": "code",
   "execution_count": 9,
   "id": "00d1ca1f",
   "metadata": {},
   "outputs": [
    {
     "data": {
      "text/plain": [
       "age           int64\n",
       "job          object\n",
       "marital      object\n",
       "education    object\n",
       "balance       int64\n",
       "housing      object\n",
       "contact      object\n",
       "day           int64\n",
       "month        object\n",
       "duration      int64\n",
       "campaign      int64\n",
       "pdays         int64\n",
       "previous      int64\n",
       "poutcome     object\n",
       "y            object\n",
       "dtype: object"
      ]
     },
     "execution_count": 9,
     "metadata": {},
     "output_type": "execute_result"
    }
   ],
   "source": [
    "df.dtypes"
   ]
  },
  {
   "cell_type": "code",
   "execution_count": 10,
   "id": "0ba65c57",
   "metadata": {},
   "outputs": [
    {
     "data": {
      "text/plain": [
       "Index(['age', 'job', 'marital', 'education', 'balance', 'housing', 'contact',\n",
       "       'day', 'month', 'duration', 'campaign', 'pdays', 'previous', 'poutcome',\n",
       "       'y'],\n",
       "      dtype='object')"
      ]
     },
     "execution_count": 10,
     "metadata": {},
     "output_type": "execute_result"
    }
   ],
   "source": [
    "df.columns"
   ]
  },
  {
   "cell_type": "code",
   "execution_count": 11,
   "id": "bbf7a2a8",
   "metadata": {},
   "outputs": [],
   "source": [
    "numerical = ['age', 'balance', 'day', 'duration', 'campaign', 'pdays', 'previous']\n",
    "\n",
    "categorical = ['job', 'marital', 'education', 'housing', 'contact', 'month', 'poutcome']"
   ]
  },
  {
   "cell_type": "markdown",
   "id": "e327713b",
   "metadata": {},
   "source": [
    "### Question 1"
   ]
  },
  {
   "cell_type": "code",
   "execution_count": 12,
   "id": "8695f064",
   "metadata": {},
   "outputs": [
    {
     "data": {
      "text/plain": [
       "secondary    23202\n",
       "tertiary     13301\n",
       "primary       6851\n",
       "unknown       1857\n",
       "Name: education, dtype: int64"
      ]
     },
     "execution_count": 12,
     "metadata": {},
     "output_type": "execute_result"
    }
   ],
   "source": [
    "df.education.value_counts()"
   ]
  },
  {
   "cell_type": "markdown",
   "id": "b4848068",
   "metadata": {},
   "source": [
    "### Question 2"
   ]
  },
  {
   "cell_type": "code",
   "execution_count": 13,
   "id": "389759c4",
   "metadata": {},
   "outputs": [
    {
     "data": {
      "text/html": [
       "<div>\n",
       "<style scoped>\n",
       "    .dataframe tbody tr th:only-of-type {\n",
       "        vertical-align: middle;\n",
       "    }\n",
       "\n",
       "    .dataframe tbody tr th {\n",
       "        vertical-align: top;\n",
       "    }\n",
       "\n",
       "    .dataframe thead th {\n",
       "        text-align: right;\n",
       "    }\n",
       "</style>\n",
       "<table border=\"1\" class=\"dataframe\">\n",
       "  <thead>\n",
       "    <tr style=\"text-align: right;\">\n",
       "      <th></th>\n",
       "      <th>age</th>\n",
       "      <th>balance</th>\n",
       "      <th>day</th>\n",
       "      <th>duration</th>\n",
       "      <th>campaign</th>\n",
       "      <th>pdays</th>\n",
       "      <th>previous</th>\n",
       "    </tr>\n",
       "  </thead>\n",
       "  <tbody>\n",
       "    <tr>\n",
       "      <th>age</th>\n",
       "      <td>1.000000</td>\n",
       "      <td>0.097783</td>\n",
       "      <td>-0.009120</td>\n",
       "      <td>-0.004648</td>\n",
       "      <td>0.004760</td>\n",
       "      <td>-0.023758</td>\n",
       "      <td>0.001288</td>\n",
       "    </tr>\n",
       "    <tr>\n",
       "      <th>balance</th>\n",
       "      <td>0.097783</td>\n",
       "      <td>1.000000</td>\n",
       "      <td>0.004503</td>\n",
       "      <td>0.021560</td>\n",
       "      <td>-0.014578</td>\n",
       "      <td>0.003435</td>\n",
       "      <td>0.016674</td>\n",
       "    </tr>\n",
       "    <tr>\n",
       "      <th>day</th>\n",
       "      <td>-0.009120</td>\n",
       "      <td>0.004503</td>\n",
       "      <td>1.000000</td>\n",
       "      <td>-0.030206</td>\n",
       "      <td>0.162490</td>\n",
       "      <td>-0.093044</td>\n",
       "      <td>-0.051710</td>\n",
       "    </tr>\n",
       "    <tr>\n",
       "      <th>duration</th>\n",
       "      <td>-0.004648</td>\n",
       "      <td>0.021560</td>\n",
       "      <td>-0.030206</td>\n",
       "      <td>1.000000</td>\n",
       "      <td>-0.084570</td>\n",
       "      <td>-0.001565</td>\n",
       "      <td>0.001203</td>\n",
       "    </tr>\n",
       "    <tr>\n",
       "      <th>campaign</th>\n",
       "      <td>0.004760</td>\n",
       "      <td>-0.014578</td>\n",
       "      <td>0.162490</td>\n",
       "      <td>-0.084570</td>\n",
       "      <td>1.000000</td>\n",
       "      <td>-0.088628</td>\n",
       "      <td>-0.032855</td>\n",
       "    </tr>\n",
       "    <tr>\n",
       "      <th>pdays</th>\n",
       "      <td>-0.023758</td>\n",
       "      <td>0.003435</td>\n",
       "      <td>-0.093044</td>\n",
       "      <td>-0.001565</td>\n",
       "      <td>-0.088628</td>\n",
       "      <td>1.000000</td>\n",
       "      <td>0.454820</td>\n",
       "    </tr>\n",
       "    <tr>\n",
       "      <th>previous</th>\n",
       "      <td>0.001288</td>\n",
       "      <td>0.016674</td>\n",
       "      <td>-0.051710</td>\n",
       "      <td>0.001203</td>\n",
       "      <td>-0.032855</td>\n",
       "      <td>0.454820</td>\n",
       "      <td>1.000000</td>\n",
       "    </tr>\n",
       "  </tbody>\n",
       "</table>\n",
       "</div>"
      ],
      "text/plain": [
       "               age   balance       day  duration  campaign     pdays  previous\n",
       "age       1.000000  0.097783 -0.009120 -0.004648  0.004760 -0.023758  0.001288\n",
       "balance   0.097783  1.000000  0.004503  0.021560 -0.014578  0.003435  0.016674\n",
       "day      -0.009120  0.004503  1.000000 -0.030206  0.162490 -0.093044 -0.051710\n",
       "duration -0.004648  0.021560 -0.030206  1.000000 -0.084570 -0.001565  0.001203\n",
       "campaign  0.004760 -0.014578  0.162490 -0.084570  1.000000 -0.088628 -0.032855\n",
       "pdays    -0.023758  0.003435 -0.093044 -0.001565 -0.088628  1.000000  0.454820\n",
       "previous  0.001288  0.016674 -0.051710  0.001203 -0.032855  0.454820  1.000000"
      ]
     },
     "execution_count": 13,
     "metadata": {},
     "output_type": "execute_result"
    }
   ],
   "source": [
    "df[numerical].corr()"
   ]
  },
  {
   "cell_type": "code",
   "execution_count": 14,
   "id": "e127137c",
   "metadata": {},
   "outputs": [
    {
     "data": {
      "text/plain": [
       "<Axes: >"
      ]
     },
     "execution_count": 14,
     "metadata": {},
     "output_type": "execute_result"
    },
    {
     "data": {
      "image/png": "[encoded data removed]",
      "text/plain": [
       "<Figure size 640x480 with 2 Axes>"
      ]
     },
     "metadata": {},
     "output_type": "display_data"
    }
   ],
   "source": [
    "sns.heatmap(df[numerical].corr(), annot=True)"
   ]
  },
  {
   "cell_type": "code",
   "execution_count": 15,
   "id": "0cd82705",
   "metadata": {},
   "outputs": [
    {
     "data": {
      "image/png": "[encoded data removed]",
      "text/plain": [
       "<Figure size 700x700 with 2 Axes>"
      ]
     },
     "metadata": {},
     "output_type": "display_data"
    }
   ],
   "source": [
    "# plot the heatmap showing calculated correlations\n",
    "plt.subplots(figsize=(7, 7))\n",
    "plt.title('Pearson Correlation of continous features')\n",
    "ax = sns.heatmap(df.corr(), \n",
    "                 annot=True, \n",
    "                 linewidths=.5, \n",
    "                 cmap=\"YlGnBu\",\n",
    "                 square=True\n",
    "                )"
   ]
  },
  {
   "cell_type": "markdown",
   "id": "ceb9f69f",
   "metadata": {},
   "source": [
    "#### Observation: Age and balance are the most correlating"
   ]
  },
  {
   "cell_type": "markdown",
   "id": "81d6bde2",
   "metadata": {},
   "source": [
    "### Target encoding"
   ]
  },
  {
   "cell_type": "code",
   "execution_count": 16,
   "id": "77158522",
   "metadata": {},
   "outputs": [],
   "source": [
    "#convert to numbers\n",
    "\n",
    "df.y = (df.y == 'yes').astype(int)"
   ]
  },
  {
   "cell_type": "code",
   "execution_count": 17,
   "id": "ac537d45",
   "metadata": {},
   "outputs": [
    {
     "data": {
      "text/plain": [
       "dtype('int32')"
      ]
     },
     "execution_count": 17,
     "metadata": {},
     "output_type": "execute_result"
    }
   ],
   "source": [
    "df.y.dtypes"
   ]
  },
  {
   "cell_type": "markdown",
   "id": "112335de",
   "metadata": {},
   "source": [
    "### Splitting"
   ]
  },
  {
   "cell_type": "code",
   "execution_count": 19,
   "id": "2443d4b8",
   "metadata": {},
   "outputs": [],
   "source": [
    "from sklearn.model_selection import train_test_split"
   ]
  },
  {
   "cell_type": "code",
   "execution_count": 20,
   "id": "346e57be",
   "metadata": {},
   "outputs": [],
   "source": [
    "df_full_train, df_test = train_test_split(df, test_size = 0.2) #, random_state = 42"
   ]
  },
  {
   "cell_type": "code",
   "execution_count": 21,
   "id": "4f19eca6",
   "metadata": {},
   "outputs": [
    {
     "name": "stdout",
     "output_type": "stream",
     "text": [
      "lenght of full train is 36168,\n",
      "lenght of test is 9043\n"
     ]
    }
   ],
   "source": [
    "print(f'lenght of full train is {len(df_full_train)},\\nlenght of test is {len(df_test)}')"
   ]
  },
  {
   "cell_type": "code",
   "execution_count": 22,
   "id": "109ce7c3",
   "metadata": {},
   "outputs": [
    {
     "name": "stdout",
     "output_type": "stream",
     "text": [
      "lenght of full train is 36168,\n",
      "lenght of test is 9043\n",
      "length of validation is 9042\n"
     ]
    }
   ],
   "source": [
    "# further divide the full train to obtain 20 percent for the validation\n",
    "# 25% of 80% is 20% of the original dataset length\n",
    "\n",
    "df_train, df_val = train_test_split(df_full_train, test_size = 0.25) #, random_state = 42\n",
    "\n",
    "print(f'lenght of full train is {len(df_full_train)},\\nlenght of test is {len(df_test)}\\n'\n",
    "      f'length of validation is {len(df_val)}')"
   ]
  },
  {
   "cell_type": "code",
   "execution_count": 23,
   "id": "7105e665",
   "metadata": {},
   "outputs": [
    {
     "data": {
      "text/html": [
       "<div>\n",
       "<style scoped>\n",
       "    .dataframe tbody tr th:only-of-type {\n",
       "        vertical-align: middle;\n",
       "    }\n",
       "\n",
       "    .dataframe tbody tr th {\n",
       "        vertical-align: top;\n",
       "    }\n",
       "\n",
       "    .dataframe thead th {\n",
       "        text-align: right;\n",
       "    }\n",
       "</style>\n",
       "<table border=\"1\" class=\"dataframe\">\n",
       "  <thead>\n",
       "    <tr style=\"text-align: right;\">\n",
       "      <th></th>\n",
       "      <th>age</th>\n",
       "      <th>job</th>\n",
       "      <th>marital</th>\n",
       "      <th>education</th>\n",
       "      <th>balance</th>\n",
       "      <th>housing</th>\n",
       "      <th>contact</th>\n",
       "      <th>day</th>\n",
       "      <th>month</th>\n",
       "      <th>duration</th>\n",
       "      <th>campaign</th>\n",
       "      <th>pdays</th>\n",
       "      <th>previous</th>\n",
       "      <th>poutcome</th>\n",
       "      <th>y</th>\n",
       "    </tr>\n",
       "  </thead>\n",
       "  <tbody>\n",
       "    <tr>\n",
       "      <th>14539</th>\n",
       "      <td>47</td>\n",
       "      <td>admin.</td>\n",
       "      <td>married</td>\n",
       "      <td>secondary</td>\n",
       "      <td>0</td>\n",
       "      <td>yes</td>\n",
       "      <td>cellular</td>\n",
       "      <td>15</td>\n",
       "      <td>jul</td>\n",
       "      <td>56</td>\n",
       "      <td>4</td>\n",
       "      <td>-1</td>\n",
       "      <td>0</td>\n",
       "      <td>unknown</td>\n",
       "      <td>0</td>\n",
       "    </tr>\n",
       "    <tr>\n",
       "      <th>31053</th>\n",
       "      <td>33</td>\n",
       "      <td>management</td>\n",
       "      <td>married</td>\n",
       "      <td>tertiary</td>\n",
       "      <td>1778</td>\n",
       "      <td>no</td>\n",
       "      <td>cellular</td>\n",
       "      <td>12</td>\n",
       "      <td>feb</td>\n",
       "      <td>388</td>\n",
       "      <td>1</td>\n",
       "      <td>-1</td>\n",
       "      <td>0</td>\n",
       "      <td>unknown</td>\n",
       "      <td>1</td>\n",
       "    </tr>\n",
       "    <tr>\n",
       "      <th>4714</th>\n",
       "      <td>39</td>\n",
       "      <td>blue-collar</td>\n",
       "      <td>divorced</td>\n",
       "      <td>secondary</td>\n",
       "      <td>226</td>\n",
       "      <td>yes</td>\n",
       "      <td>unknown</td>\n",
       "      <td>20</td>\n",
       "      <td>may</td>\n",
       "      <td>221</td>\n",
       "      <td>2</td>\n",
       "      <td>-1</td>\n",
       "      <td>0</td>\n",
       "      <td>unknown</td>\n",
       "      <td>0</td>\n",
       "    </tr>\n",
       "  </tbody>\n",
       "</table>\n",
       "</div>"
      ],
      "text/plain": [
       "       age          job   marital  education  balance housing   contact  day  \\\n",
       "14539   47       admin.   married  secondary        0     yes  cellular   15   \n",
       "31053   33   management   married   tertiary     1778      no  cellular   12   \n",
       "4714    39  blue-collar  divorced  secondary      226     yes   unknown   20   \n",
       "\n",
       "      month  duration  campaign  pdays  previous poutcome  y  \n",
       "14539   jul        56         4     -1         0  unknown  0  \n",
       "31053   feb       388         1     -1         0  unknown  1  \n",
       "4714    may       221         2     -1         0  unknown  0  "
      ]
     },
     "execution_count": 23,
     "metadata": {},
     "output_type": "execute_result"
    }
   ],
   "source": [
    "df_full_train.head(3)"
   ]
  },
  {
   "cell_type": "code",
   "execution_count": 24,
   "id": "a0a32f78",
   "metadata": {},
   "outputs": [],
   "source": [
    "# reset index because the elements are now shuffled\n",
    "\n",
    "df_train = df_train.reset_index(drop = True)\n",
    "df_val = df_val.reset_index(drop = True)\n",
    "df_test = df_test.reset_index(drop = True)"
   ]
  },
  {
   "cell_type": "code",
   "execution_count": 25,
   "id": "4c022090",
   "metadata": {},
   "outputs": [],
   "source": [
    "# target values\n",
    "\n",
    "y_train = df_train.y.values\n",
    "y_val = df_val.y.values\n",
    "y_test = df_test.y.values"
   ]
  },
  {
   "cell_type": "code",
   "execution_count": 26,
   "id": "331bc178",
   "metadata": {},
   "outputs": [],
   "source": [
    "#Delet churn variable from the data frame\n",
    "\n",
    "del df_train['y']\n",
    "del df_val['y']\n",
    "del df_test['y']"
   ]
  },
  {
   "cell_type": "markdown",
   "id": "def4fc5e",
   "metadata": {},
   "source": [
    "### Question 3 Mutual information"
   ]
  },
  {
   "cell_type": "code",
   "execution_count": 27,
   "id": "fb550a1b",
   "metadata": {},
   "outputs": [],
   "source": [
    "from sklearn.metrics import mutual_info_score"
   ]
  },
  {
   "cell_type": "code",
   "execution_count": 28,
   "id": "eca7cdfc",
   "metadata": {},
   "outputs": [
    {
     "data": {
      "text/plain": [
       "contact      0.013829\n",
       "education    0.002566\n",
       "housing      0.009282\n",
       "poutcome     0.030080\n",
       "dtype: float64"
      ]
     },
     "execution_count": 28,
     "metadata": {},
     "output_type": "execute_result"
    }
   ],
   "source": [
    "# we can use Apply\n",
    "\n",
    "series = ['contact', 'education', 'housing', 'poutcome']\n",
    "\n",
    "\n",
    "def mutual_info_churn_score(series):\n",
    "    return mutual_info_score(df_full_train.y, series)\n",
    "\n",
    "df_full_train[series].apply(mutual_info_churn_score)"
   ]
  },
  {
   "cell_type": "code",
   "execution_count": 29,
   "id": "832c60c1",
   "metadata": {},
   "outputs": [
    {
     "data": {
      "text/plain": [
       "0.013829306255458362"
      ]
     },
     "execution_count": 29,
     "metadata": {},
     "output_type": "execute_result"
    }
   ],
   "source": [
    "mutual_info_score(df_full_train.y, df_full_train.contact )"
   ]
  },
  {
   "cell_type": "code",
   "execution_count": 30,
   "id": "b2172271",
   "metadata": {},
   "outputs": [
    {
     "data": {
      "text/plain": [
       "0.0025663486080264065"
      ]
     },
     "execution_count": 30,
     "metadata": {},
     "output_type": "execute_result"
    }
   ],
   "source": [
    "mutual_info_score(df_full_train.y, df_full_train.education )"
   ]
  },
  {
   "cell_type": "code",
   "execution_count": 31,
   "id": "be76597a",
   "metadata": {},
   "outputs": [
    {
     "data": {
      "text/plain": [
       "0.009282356910226774"
      ]
     },
     "execution_count": 31,
     "metadata": {},
     "output_type": "execute_result"
    }
   ],
   "source": [
    "mutual_info_score(df_full_train.y, df_full_train.housing )"
   ]
  },
  {
   "cell_type": "code",
   "execution_count": 32,
   "id": "cb1ada86",
   "metadata": {},
   "outputs": [
    {
     "data": {
      "text/plain": [
       "0.03007974092622738"
      ]
     },
     "execution_count": 32,
     "metadata": {},
     "output_type": "execute_result"
    }
   ],
   "source": [
    "mutual_info_score(df_full_train.y, df_full_train.poutcome )"
   ]
  },
  {
   "cell_type": "markdown",
   "id": "67a93892",
   "metadata": {},
   "source": [
    "#### observation: poutcome has the highest mutual information score"
   ]
  },
  {
   "cell_type": "markdown",
   "id": "18289d11",
   "metadata": {},
   "source": [
    "### Categorical encoding"
   ]
  },
  {
   "cell_type": "code",
   "execution_count": 33,
   "id": "fe17cdaa",
   "metadata": {},
   "outputs": [],
   "source": [
    "from sklearn.feature_extraction import DictVectorizer"
   ]
  },
  {
   "cell_type": "code",
   "execution_count": 34,
   "id": "c304d1e7",
   "metadata": {},
   "outputs": [
    {
     "data": {
      "text/plain": [
       "{'job': 'management',\n",
       " 'marital': 'married',\n",
       " 'education': 'tertiary',\n",
       " 'housing': 'yes',\n",
       " 'contact': 'unknown',\n",
       " 'month': 'may',\n",
       " 'poutcome': 'unknown',\n",
       " 'age': 49,\n",
       " 'balance': 1304,\n",
       " 'day': 27,\n",
       " 'duration': 144,\n",
       " 'campaign': 1,\n",
       " 'pdays': -1,\n",
       " 'previous': 0}"
      ]
     },
     "execution_count": 34,
     "metadata": {},
     "output_type": "execute_result"
    }
   ],
   "source": [
    "train_dict = df_train[categorical + numerical].to_dict(orient = 'records') \n",
    "train_dict[0]"
   ]
  },
  {
   "cell_type": "code",
   "execution_count": 35,
   "id": "3bd1a373",
   "metadata": {},
   "outputs": [
    {
     "data": {
      "text/plain": [
       "(27126, 47)"
      ]
     },
     "execution_count": 35,
     "metadata": {},
     "output_type": "execute_result"
    }
   ],
   "source": [
    "# Vectorise train set\n",
    "\n",
    "dv = DictVectorizer(sparse = False)\n",
    "\n",
    "X_train = dv.fit_transform(train_dict)\n",
    "\n",
    "X_train.shape"
   ]
  },
  {
   "cell_type": "code",
   "execution_count": 36,
   "id": "7f8daf6f",
   "metadata": {},
   "outputs": [
    {
     "data": {
      "text/plain": [
       "(9042, 47)"
      ]
     },
     "execution_count": 36,
     "metadata": {},
     "output_type": "execute_result"
    }
   ],
   "source": [
    "#Vectorise validation set\n",
    "\n",
    "val_dict = df_val[categorical + numerical].to_dict(orient = 'records')\n",
    "\n",
    "#dv = DictVectorizer(sparse = False)\n",
    "\n",
    "X_val = dv.transform(val_dict)\n",
    "\n",
    "X_val.shape"
   ]
  },
  {
   "cell_type": "code",
   "execution_count": null,
   "id": "aa22cd9b",
   "metadata": {},
   "outputs": [],
   "source": []
  },
  {
   "cell_type": "markdown",
   "id": "27d93e9f",
   "metadata": {},
   "source": [
    "### Question 4"
   ]
  },
  {
   "cell_type": "code",
   "execution_count": 37,
   "id": "ff6f7517",
   "metadata": {},
   "outputs": [],
   "source": [
    "from sklearn.linear_model import LogisticRegression"
   ]
  },
  {
   "cell_type": "code",
   "execution_count": 38,
   "id": "0d05706f",
   "metadata": {},
   "outputs": [
    {
     "data": {
      "text/html": [
       "<style>#sk-container-id-1 {color: black;}#sk-container-id-1 pre{padding: 0;}#sk-container-id-1 div.sk-toggleable {background-color: white;}#sk-container-id-1 label.sk-toggleable__label {cursor: pointer;display: block;width: 100%;margin-bottom: 0;padding: 0.3em;box-sizing: border-box;text-align: center;}#sk-container-id-1 label.sk-toggleable__label-arrow:before {content: \"▸\";float: left;margin-right: 0.25em;color: #696969;}#sk-container-id-1 label.sk-toggleable__label-arrow:hover:before {color: black;}#sk-container-id-1 div.sk-estimator:hover label.sk-toggleable__label-arrow:before {color: black;}#sk-container-id-1 div.sk-toggleable__content {max-height: 0;max-width: 0;overflow: hidden;text-align: left;background-color: #f0f8ff;}#sk-container-id-1 div.sk-toggleable__content pre {margin: 0.2em;color: black;border-radius: 0.25em;background-color: #f0f8ff;}#sk-container-id-1 input.sk-toggleable__control:checked~div.sk-toggleable__content {max-height: 200px;max-width: 100%;overflow: auto;}#sk-container-id-1 input.sk-toggleable__control:checked~label.sk-toggleable__label-arrow:before {content: \"▾\";}#sk-container-id-1 div.sk-estimator input.sk-toggleable__control:checked~label.sk-toggleable__label {background-color: #d4ebff;}#sk-container-id-1 div.sk-label input.sk-toggleable__control:checked~label.sk-toggleable__label {background-color: #d4ebff;}#sk-container-id-1 input.sk-hidden--visually {border: 0;clip: rect(1px 1px 1px 1px);clip: rect(1px, 1px, 1px, 1px);height: 1px;margin: -1px;overflow: hidden;padding: 0;position: absolute;width: 1px;}#sk-container-id-1 div.sk-estimator {font-family: monospace;background-color: #f0f8ff;border: 1px dotted black;border-radius: 0.25em;box-sizing: border-box;margin-bottom: 0.5em;}#sk-container-id-1 div.sk-estimator:hover {background-color: #d4ebff;}#sk-container-id-1 div.sk-parallel-item::after {content: \"\";width: 100%;border-bottom: 1px solid gray;flex-grow: 1;}#sk-container-id-1 div.sk-label:hover label.sk-toggleable__label {background-color: #d4ebff;}#sk-container-id-1 div.sk-serial::before {content: \"\";position: absolute;border-left: 1px solid gray;box-sizing: border-box;top: 0;bottom: 0;left: 50%;z-index: 0;}#sk-container-id-1 div.sk-serial {display: flex;flex-direction: column;align-items: center;background-color: white;padding-right: 0.2em;padding-left: 0.2em;position: relative;}#sk-container-id-1 div.sk-item {position: relative;z-index: 1;}#sk-container-id-1 div.sk-parallel {display: flex;align-items: stretch;justify-content: center;background-color: white;position: relative;}#sk-container-id-1 div.sk-item::before, #sk-container-id-1 div.sk-parallel-item::before {content: \"\";position: absolute;border-left: 1px solid gray;box-sizing: border-box;top: 0;bottom: 0;left: 50%;z-index: -1;}#sk-container-id-1 div.sk-parallel-item {display: flex;flex-direction: column;z-index: 1;position: relative;background-color: white;}#sk-container-id-1 div.sk-parallel-item:first-child::after {align-self: flex-end;width: 50%;}#sk-container-id-1 div.sk-parallel-item:last-child::after {align-self: flex-start;width: 50%;}#sk-container-id-1 div.sk-parallel-item:only-child::after {width: 0;}#sk-container-id-1 div.sk-dashed-wrapped {border: 1px dashed gray;margin: 0 0.4em 0.5em 0.4em;box-sizing: border-box;padding-bottom: 0.4em;background-color: white;}#sk-container-id-1 div.sk-label label {font-family: monospace;font-weight: bold;display: inline-block;line-height: 1.2em;}#sk-container-id-1 div.sk-label-container {text-align: center;}#sk-container-id-1 div.sk-container {/* jupyter's `normalize.less` sets `[hidden] { display: none; }` but bootstrap.min.css set `[hidden] { display: none !important; }` so we also need the `!important` here to be able to override the default hidden behavior on the sphinx rendered scikit-learn.org. See: https://github.com/scikit-learn/scikit-learn/issues/21755 */display: inline-block !important;position: relative;}#sk-container-id-1 div.sk-text-repr-fallback {display: none;}</style><div id=\"sk-container-id-1\" class=\"sk-top-container\"><div class=\"sk-text-repr-fallback\"><pre>LogisticRegression(max_iter=1000, random_state=42, solver=&#x27;liblinear&#x27;)</pre><b>In a Jupyter environment, please rerun this cell to show the HTML representation or trust the notebook. <br />On GitHub, the HTML representation is unable to render, please try loading this page with nbviewer.org.</b></div><div class=\"sk-container\" hidden><div class=\"sk-item\"><div class=\"sk-estimator sk-toggleable\"><input class=\"sk-toggleable__control sk-hidden--visually\" id=\"sk-estimator-id-1\" type=\"checkbox\" checked><label for=\"sk-estimator-id-1\" class=\"sk-toggleable__label sk-toggleable__label-arrow\">LogisticRegression</label><div class=\"sk-toggleable__content\"><pre>LogisticRegression(max_iter=1000, random_state=42, solver=&#x27;liblinear&#x27;)</pre></div></div></div></div></div>"
      ],
      "text/plain": [
       "LogisticRegression(max_iter=1000, random_state=42, solver='liblinear')"
      ]
     },
     "execution_count": 38,
     "metadata": {},
     "output_type": "execute_result"
    }
   ],
   "source": [
    "model = LogisticRegression(solver='liblinear', C=1.0, max_iter=1000, random_state=42)\n",
    "model.fit(X_train, y_train)"
   ]
  },
  {
   "cell_type": "code",
   "execution_count": 39,
   "id": "8f3cac60",
   "metadata": {},
   "outputs": [
    {
     "data": {
      "text/plain": [
       "-0.9834363505346599"
      ]
     },
     "execution_count": 39,
     "metadata": {},
     "output_type": "execute_result"
    }
   ],
   "source": [
    "model.intercept_[0]"
   ]
  },
  {
   "cell_type": "code",
   "execution_count": 40,
   "id": "572f843b",
   "metadata": {},
   "outputs": [
    {
     "data": {
      "text/plain": [
       "array([-3.90196020e-03,  1.33738007e-05, -7.82851005e-02,  3.02669942e-01,\n",
       "        1.16859398e-01, -1.40296569e+00,  1.05111094e-02,  4.19229542e-03,\n",
       "       -4.34482945e-01, -2.79644935e-01, -6.75485136e-02, -2.01759956e-01,\n",
       "       -1.68914147e-01, -8.14522204e-01,  4.54697156e-02, -3.05509458e-01,\n",
       "       -3.04879881e-01, -2.91784657e-01, -1.03767916e-01,  3.46594182e-01,\n",
       "       -3.33081462e-01, -2.58990744e-01,  4.36618073e-01, -1.15234233e-01,\n",
       "       -6.35289701e-02, -3.53409994e-02, -3.01169801e-01, -4.26683179e-01,\n",
       "       -2.55583371e-01, -7.13534725e-02, -8.49656238e-01,  3.86321857e-01,\n",
       "       -3.12324750e-01, -1.30514833e+00, -1.02132334e+00,  4.28839103e-01,\n",
       "        1.54677110e+00, -4.82840096e-01, -9.92447841e-01,  9.28020860e-01,\n",
       "        7.61704792e-01,  1.14952292e-04, -7.92964182e-01, -6.71927342e-01,\n",
       "        1.41760711e+00, -9.36151936e-01,  7.45724697e-03])"
      ]
     },
     "execution_count": 40,
     "metadata": {},
     "output_type": "execute_result"
    }
   ],
   "source": [
    "model.coef_[0]#.shape"
   ]
  },
  {
   "cell_type": "code",
   "execution_count": 41,
   "id": "34908308",
   "metadata": {},
   "outputs": [],
   "source": [
    "y_pred = model.predict_proba(X_val)[:, 1]"
   ]
  },
  {
   "cell_type": "code",
   "execution_count": 42,
   "id": "d94bc283",
   "metadata": {},
   "outputs": [
    {
     "data": {
      "text/plain": [
       "array([0.04822417, 0.03083642, 0.04042451, ..., 0.0539766 , 0.00701983,\n",
       "       0.02741007])"
      ]
     },
     "execution_count": 42,
     "metadata": {},
     "output_type": "execute_result"
    }
   ],
   "source": [
    "y_pred"
   ]
  },
  {
   "cell_type": "code",
   "execution_count": 43,
   "id": "ca27ced8",
   "metadata": {},
   "outputs": [],
   "source": [
    "y_decision = (y_pred >= 0.5)"
   ]
  },
  {
   "cell_type": "code",
   "execution_count": 44,
   "id": "97cf17d5",
   "metadata": {},
   "outputs": [
    {
     "data": {
      "text/plain": [
       "0.9"
      ]
     },
     "execution_count": 44,
     "metadata": {},
     "output_type": "execute_result"
    }
   ],
   "source": [
    "y_pred_all = (y_decision == y_val).mean()\n",
    "y_pred_all.round(2)"
   ]
  },
  {
   "cell_type": "markdown",
   "id": "93a7fbb2",
   "metadata": {},
   "source": [
    "### Feature elimation"
   ]
  },
  {
   "cell_type": "code",
   "execution_count": 45,
   "id": "5d4e94c4",
   "metadata": {},
   "outputs": [],
   "source": [
    "numerical = ['age', 'balance', 'day', 'duration', 'campaign', 'pdays', 'previous']\n",
    "\n",
    "categorical = ['job', 'marital', 'education', 'housing', 'contact', 'month', 'poutcome']"
   ]
  },
  {
   "cell_type": "markdown",
   "id": "ca134f79",
   "metadata": {},
   "source": [
    "#### NO AGE"
   ]
  },
  {
   "cell_type": "code",
   "execution_count": 46,
   "id": "bb06e9ab",
   "metadata": {},
   "outputs": [
    {
     "data": {
      "text/plain": [
       "['balance', 'day', 'duration', 'campaign', 'pdays', 'previous']"
      ]
     },
     "execution_count": 46,
     "metadata": {},
     "output_type": "execute_result"
    }
   ],
   "source": [
    "# Remove Age\n",
    "#print(numerical)\n",
    "\n",
    "del numerical[0]\n",
    "numerical"
   ]
  },
  {
   "cell_type": "code",
   "execution_count": 47,
   "id": "47c351ae",
   "metadata": {},
   "outputs": [],
   "source": [
    "train_no_age = df_train[categorical + numerical].to_dict(orient = 'records') \n"
   ]
  },
  {
   "cell_type": "code",
   "execution_count": 48,
   "id": "99368465",
   "metadata": {},
   "outputs": [
    {
     "data": {
      "text/plain": [
       "(27126, 46)"
      ]
     },
     "execution_count": 48,
     "metadata": {},
     "output_type": "execute_result"
    }
   ],
   "source": [
    "# Vectorise train set\n",
    "\n",
    "dv = DictVectorizer(sparse = False)\n",
    "\n",
    "X_train = dv.fit_transform(train_no_age)\n",
    "\n",
    "X_train.shape"
   ]
  },
  {
   "cell_type": "code",
   "execution_count": 49,
   "id": "b7a4051d",
   "metadata": {},
   "outputs": [
    {
     "data": {
      "text/plain": [
       "(9042, 46)"
      ]
     },
     "execution_count": 49,
     "metadata": {},
     "output_type": "execute_result"
    }
   ],
   "source": [
    "#Vectorise validation set\n",
    "\n",
    "val_no_age = df_val[categorical + numerical].to_dict(orient = 'records')\n",
    "\n",
    "#dv = DictVectorizer(sparse = False)\n",
    "\n",
    "X_val = dv.transform(val_no_age)\n",
    "\n",
    "X_val.shape"
   ]
  },
  {
   "cell_type": "code",
   "execution_count": 50,
   "id": "650982d1",
   "metadata": {},
   "outputs": [
    {
     "data": {
      "text/html": [
       "<style>#sk-container-id-2 {color: black;}#sk-container-id-2 pre{padding: 0;}#sk-container-id-2 div.sk-toggleable {background-color: white;}#sk-container-id-2 label.sk-toggleable__label {cursor: pointer;display: block;width: 100%;margin-bottom: 0;padding: 0.3em;box-sizing: border-box;text-align: center;}#sk-container-id-2 label.sk-toggleable__label-arrow:before {content: \"▸\";float: left;margin-right: 0.25em;color: #696969;}#sk-container-id-2 label.sk-toggleable__label-arrow:hover:before {color: black;}#sk-container-id-2 div.sk-estimator:hover label.sk-toggleable__label-arrow:before {color: black;}#sk-container-id-2 div.sk-toggleable__content {max-height: 0;max-width: 0;overflow: hidden;text-align: left;background-color: #f0f8ff;}#sk-container-id-2 div.sk-toggleable__content pre {margin: 0.2em;color: black;border-radius: 0.25em;background-color: #f0f8ff;}#sk-container-id-2 input.sk-toggleable__control:checked~div.sk-toggleable__content {max-height: 200px;max-width: 100%;overflow: auto;}#sk-container-id-2 input.sk-toggleable__control:checked~label.sk-toggleable__label-arrow:before {content: \"▾\";}#sk-container-id-2 div.sk-estimator input.sk-toggleable__control:checked~label.sk-toggleable__label {background-color: #d4ebff;}#sk-container-id-2 div.sk-label input.sk-toggleable__control:checked~label.sk-toggleable__label {background-color: #d4ebff;}#sk-container-id-2 input.sk-hidden--visually {border: 0;clip: rect(1px 1px 1px 1px);clip: rect(1px, 1px, 1px, 1px);height: 1px;margin: -1px;overflow: hidden;padding: 0;position: absolute;width: 1px;}#sk-container-id-2 div.sk-estimator {font-family: monospace;background-color: #f0f8ff;border: 1px dotted black;border-radius: 0.25em;box-sizing: border-box;margin-bottom: 0.5em;}#sk-container-id-2 div.sk-estimator:hover {background-color: #d4ebff;}#sk-container-id-2 div.sk-parallel-item::after {content: \"\";width: 100%;border-bottom: 1px solid gray;flex-grow: 1;}#sk-container-id-2 div.sk-label:hover label.sk-toggleable__label {background-color: #d4ebff;}#sk-container-id-2 div.sk-serial::before {content: \"\";position: absolute;border-left: 1px solid gray;box-sizing: border-box;top: 0;bottom: 0;left: 50%;z-index: 0;}#sk-container-id-2 div.sk-serial {display: flex;flex-direction: column;align-items: center;background-color: white;padding-right: 0.2em;padding-left: 0.2em;position: relative;}#sk-container-id-2 div.sk-item {position: relative;z-index: 1;}#sk-container-id-2 div.sk-parallel {display: flex;align-items: stretch;justify-content: center;background-color: white;position: relative;}#sk-container-id-2 div.sk-item::before, #sk-container-id-2 div.sk-parallel-item::before {content: \"\";position: absolute;border-left: 1px solid gray;box-sizing: border-box;top: 0;bottom: 0;left: 50%;z-index: -1;}#sk-container-id-2 div.sk-parallel-item {display: flex;flex-direction: column;z-index: 1;position: relative;background-color: white;}#sk-container-id-2 div.sk-parallel-item:first-child::after {align-self: flex-end;width: 50%;}#sk-container-id-2 div.sk-parallel-item:last-child::after {align-self: flex-start;width: 50%;}#sk-container-id-2 div.sk-parallel-item:only-child::after {width: 0;}#sk-container-id-2 div.sk-dashed-wrapped {border: 1px dashed gray;margin: 0 0.4em 0.5em 0.4em;box-sizing: border-box;padding-bottom: 0.4em;background-color: white;}#sk-container-id-2 div.sk-label label {font-family: monospace;font-weight: bold;display: inline-block;line-height: 1.2em;}#sk-container-id-2 div.sk-label-container {text-align: center;}#sk-container-id-2 div.sk-container {/* jupyter's `normalize.less` sets `[hidden] { display: none; }` but bootstrap.min.css set `[hidden] { display: none !important; }` so we also need the `!important` here to be able to override the default hidden behavior on the sphinx rendered scikit-learn.org. See: https://github.com/scikit-learn/scikit-learn/issues/21755 */display: inline-block !important;position: relative;}#sk-container-id-2 div.sk-text-repr-fallback {display: none;}</style><div id=\"sk-container-id-2\" class=\"sk-top-container\"><div class=\"sk-text-repr-fallback\"><pre>LogisticRegression(max_iter=1000, random_state=42, solver=&#x27;liblinear&#x27;)</pre><b>In a Jupyter environment, please rerun this cell to show the HTML representation or trust the notebook. <br />On GitHub, the HTML representation is unable to render, please try loading this page with nbviewer.org.</b></div><div class=\"sk-container\" hidden><div class=\"sk-item\"><div class=\"sk-estimator sk-toggleable\"><input class=\"sk-toggleable__control sk-hidden--visually\" id=\"sk-estimator-id-2\" type=\"checkbox\" checked><label for=\"sk-estimator-id-2\" class=\"sk-toggleable__label sk-toggleable__label-arrow\">LogisticRegression</label><div class=\"sk-toggleable__content\"><pre>LogisticRegression(max_iter=1000, random_state=42, solver=&#x27;liblinear&#x27;)</pre></div></div></div></div></div>"
      ],
      "text/plain": [
       "LogisticRegression(max_iter=1000, random_state=42, solver='liblinear')"
      ]
     },
     "execution_count": 50,
     "metadata": {},
     "output_type": "execute_result"
    }
   ],
   "source": [
    "model = LogisticRegression(solver='liblinear', C=1.0, max_iter=1000, random_state=42)\n",
    "model.fit(X_train, y_train)"
   ]
  },
  {
   "cell_type": "code",
   "execution_count": 51,
   "id": "b5d3b662",
   "metadata": {},
   "outputs": [
    {
     "data": {
      "text/plain": [
       "array([0.05320825, 0.03459804, 0.03854107, ..., 0.05309445, 0.0076772 ,\n",
       "       0.02885016])"
      ]
     },
     "execution_count": 51,
     "metadata": {},
     "output_type": "execute_result"
    }
   ],
   "source": [
    "y_pred = model.predict_proba(X_val)[:,1]\n",
    "y_pred"
   ]
  },
  {
   "cell_type": "code",
   "execution_count": 52,
   "id": "311b7784",
   "metadata": {},
   "outputs": [],
   "source": [
    "y_pred_no_age = (y_pred >= 0.5)"
   ]
  },
  {
   "cell_type": "code",
   "execution_count": 53,
   "id": "177c783a",
   "metadata": {},
   "outputs": [
    {
     "data": {
      "text/plain": [
       "0.9007962840079629"
      ]
     },
     "execution_count": 53,
     "metadata": {},
     "output_type": "execute_result"
    }
   ],
   "source": [
    "acc_no_age = (y_pred_no_age == y_val).mean()\n",
    "acc_no_age#.round(2)"
   ]
  },
  {
   "cell_type": "markdown",
   "id": "a93971a7",
   "metadata": {},
   "source": [
    "#### NO BALANCE"
   ]
  },
  {
   "cell_type": "code",
   "execution_count": 54,
   "id": "41a7cbbc",
   "metadata": {},
   "outputs": [
    {
     "data": {
      "text/plain": [
       "['age', 'day', 'duration', 'campaign', 'pdays', 'previous']"
      ]
     },
     "execution_count": 54,
     "metadata": {},
     "output_type": "execute_result"
    }
   ],
   "source": [
    "# Remove Bakance\n",
    "numerical = ['age', 'balance', 'day', 'duration', 'campaign', 'pdays', 'previous']\n",
    "\n",
    "categorical = ['job', 'marital', 'education', 'housing', 'contact', 'month', 'poutcome']\n",
    "\n",
    "del numerical[1]\n",
    "numerical"
   ]
  },
  {
   "cell_type": "code",
   "execution_count": 55,
   "id": "9f50289f",
   "metadata": {},
   "outputs": [],
   "source": [
    "train_no_balance = df_train[categorical + numerical].to_dict(orient = 'records') \n"
   ]
  },
  {
   "cell_type": "code",
   "execution_count": 56,
   "id": "1b470842",
   "metadata": {},
   "outputs": [
    {
     "data": {
      "text/plain": [
       "(27126, 46)"
      ]
     },
     "execution_count": 56,
     "metadata": {},
     "output_type": "execute_result"
    }
   ],
   "source": [
    "# Vectorise train set\n",
    "\n",
    "dv = DictVectorizer(sparse = False)\n",
    "\n",
    "X_train = dv.fit_transform(train_no_balance)\n",
    "\n",
    "X_train.shape"
   ]
  },
  {
   "cell_type": "code",
   "execution_count": 57,
   "id": "d5aa7e00",
   "metadata": {},
   "outputs": [
    {
     "data": {
      "text/plain": [
       "(9042, 46)"
      ]
     },
     "execution_count": 57,
     "metadata": {},
     "output_type": "execute_result"
    }
   ],
   "source": [
    "#Vectorise validation set\n",
    "\n",
    "val_no_age = df_val[categorical + numerical].to_dict(orient = 'records')\n",
    "\n",
    "#dv = DictVectorizer(sparse = False)\n",
    "\n",
    "X_val = dv.transform(val_dict)\n",
    "\n",
    "X_val.shape"
   ]
  },
  {
   "cell_type": "code",
   "execution_count": 58,
   "id": "5df25851",
   "metadata": {},
   "outputs": [
    {
     "data": {
      "text/html": [
       "<style>#sk-container-id-3 {color: black;}#sk-container-id-3 pre{padding: 0;}#sk-container-id-3 div.sk-toggleable {background-color: white;}#sk-container-id-3 label.sk-toggleable__label {cursor: pointer;display: block;width: 100%;margin-bottom: 0;padding: 0.3em;box-sizing: border-box;text-align: center;}#sk-container-id-3 label.sk-toggleable__label-arrow:before {content: \"▸\";float: left;margin-right: 0.25em;color: #696969;}#sk-container-id-3 label.sk-toggleable__label-arrow:hover:before {color: black;}#sk-container-id-3 div.sk-estimator:hover label.sk-toggleable__label-arrow:before {color: black;}#sk-container-id-3 div.sk-toggleable__content {max-height: 0;max-width: 0;overflow: hidden;text-align: left;background-color: #f0f8ff;}#sk-container-id-3 div.sk-toggleable__content pre {margin: 0.2em;color: black;border-radius: 0.25em;background-color: #f0f8ff;}#sk-container-id-3 input.sk-toggleable__control:checked~div.sk-toggleable__content {max-height: 200px;max-width: 100%;overflow: auto;}#sk-container-id-3 input.sk-toggleable__control:checked~label.sk-toggleable__label-arrow:before {content: \"▾\";}#sk-container-id-3 div.sk-estimator input.sk-toggleable__control:checked~label.sk-toggleable__label {background-color: #d4ebff;}#sk-container-id-3 div.sk-label input.sk-toggleable__control:checked~label.sk-toggleable__label {background-color: #d4ebff;}#sk-container-id-3 input.sk-hidden--visually {border: 0;clip: rect(1px 1px 1px 1px);clip: rect(1px, 1px, 1px, 1px);height: 1px;margin: -1px;overflow: hidden;padding: 0;position: absolute;width: 1px;}#sk-container-id-3 div.sk-estimator {font-family: monospace;background-color: #f0f8ff;border: 1px dotted black;border-radius: 0.25em;box-sizing: border-box;margin-bottom: 0.5em;}#sk-container-id-3 div.sk-estimator:hover {background-color: #d4ebff;}#sk-container-id-3 div.sk-parallel-item::after {content: \"\";width: 100%;border-bottom: 1px solid gray;flex-grow: 1;}#sk-container-id-3 div.sk-label:hover label.sk-toggleable__label {background-color: #d4ebff;}#sk-container-id-3 div.sk-serial::before {content: \"\";position: absolute;border-left: 1px solid gray;box-sizing: border-box;top: 0;bottom: 0;left: 50%;z-index: 0;}#sk-container-id-3 div.sk-serial {display: flex;flex-direction: column;align-items: center;background-color: white;padding-right: 0.2em;padding-left: 0.2em;position: relative;}#sk-container-id-3 div.sk-item {position: relative;z-index: 1;}#sk-container-id-3 div.sk-parallel {display: flex;align-items: stretch;justify-content: center;background-color: white;position: relative;}#sk-container-id-3 div.sk-item::before, #sk-container-id-3 div.sk-parallel-item::before {content: \"\";position: absolute;border-left: 1px solid gray;box-sizing: border-box;top: 0;bottom: 0;left: 50%;z-index: -1;}#sk-container-id-3 div.sk-parallel-item {display: flex;flex-direction: column;z-index: 1;position: relative;background-color: white;}#sk-container-id-3 div.sk-parallel-item:first-child::after {align-self: flex-end;width: 50%;}#sk-container-id-3 div.sk-parallel-item:last-child::after {align-self: flex-start;width: 50%;}#sk-container-id-3 div.sk-parallel-item:only-child::after {width: 0;}#sk-container-id-3 div.sk-dashed-wrapped {border: 1px dashed gray;margin: 0 0.4em 0.5em 0.4em;box-sizing: border-box;padding-bottom: 0.4em;background-color: white;}#sk-container-id-3 div.sk-label label {font-family: monospace;font-weight: bold;display: inline-block;line-height: 1.2em;}#sk-container-id-3 div.sk-label-container {text-align: center;}#sk-container-id-3 div.sk-container {/* jupyter's `normalize.less` sets `[hidden] { display: none; }` but bootstrap.min.css set `[hidden] { display: none !important; }` so we also need the `!important` here to be able to override the default hidden behavior on the sphinx rendered scikit-learn.org. See: https://github.com/scikit-learn/scikit-learn/issues/21755 */display: inline-block !important;position: relative;}#sk-container-id-3 div.sk-text-repr-fallback {display: none;}</style><div id=\"sk-container-id-3\" class=\"sk-top-container\"><div class=\"sk-text-repr-fallback\"><pre>LogisticRegression(max_iter=1000, random_state=42, solver=&#x27;liblinear&#x27;)</pre><b>In a Jupyter environment, please rerun this cell to show the HTML representation or trust the notebook. <br />On GitHub, the HTML representation is unable to render, please try loading this page with nbviewer.org.</b></div><div class=\"sk-container\" hidden><div class=\"sk-item\"><div class=\"sk-estimator sk-toggleable\"><input class=\"sk-toggleable__control sk-hidden--visually\" id=\"sk-estimator-id-3\" type=\"checkbox\" checked><label for=\"sk-estimator-id-3\" class=\"sk-toggleable__label sk-toggleable__label-arrow\">LogisticRegression</label><div class=\"sk-toggleable__content\"><pre>LogisticRegression(max_iter=1000, random_state=42, solver=&#x27;liblinear&#x27;)</pre></div></div></div></div></div>"
      ],
      "text/plain": [
       "LogisticRegression(max_iter=1000, random_state=42, solver='liblinear')"
      ]
     },
     "execution_count": 58,
     "metadata": {},
     "output_type": "execute_result"
    }
   ],
   "source": [
    "model = LogisticRegression(solver='liblinear', C=1.0, max_iter=1000, random_state=42)\n",
    "model.fit(X_train, y_train)"
   ]
  },
  {
   "cell_type": "code",
   "execution_count": 59,
   "id": "145f918a",
   "metadata": {},
   "outputs": [
    {
     "data": {
      "text/plain": [
       "array([0.04917914, 0.02641812, 0.03911571, ..., 0.05209359, 0.00752965,\n",
       "       0.02778805])"
      ]
     },
     "execution_count": 59,
     "metadata": {},
     "output_type": "execute_result"
    }
   ],
   "source": [
    "y_pred = model.predict_proba(X_val)[:,1]\n",
    "y_pred"
   ]
  },
  {
   "cell_type": "code",
   "execution_count": 60,
   "id": "15d91d8a",
   "metadata": {},
   "outputs": [],
   "source": [
    "y_pred_no_bal = (y_pred >= 0.5)"
   ]
  },
  {
   "cell_type": "code",
   "execution_count": 61,
   "id": "399eaed1",
   "metadata": {},
   "outputs": [
    {
     "data": {
      "text/plain": [
       "0.9019022340190224"
      ]
     },
     "execution_count": 61,
     "metadata": {},
     "output_type": "execute_result"
    }
   ],
   "source": [
    "acc_no_bal = (y_pred_no_bal == y_val).mean()\n",
    "acc_no_bal#.round(2)"
   ]
  },
  {
   "cell_type": "markdown",
   "id": "d2511fc6",
   "metadata": {},
   "source": [
    "#### NO MARITAL"
   ]
  },
  {
   "cell_type": "code",
   "execution_count": 62,
   "id": "29e61b89",
   "metadata": {},
   "outputs": [
    {
     "data": {
      "text/plain": [
       "['job', 'education', 'housing', 'contact', 'month', 'poutcome']"
      ]
     },
     "execution_count": 62,
     "metadata": {},
     "output_type": "execute_result"
    }
   ],
   "source": [
    "# Remove Marital\n",
    "numerical = ['age', 'balance', 'day', 'duration', 'campaign', 'pdays', 'previous']\n",
    "\n",
    "categorical = ['job', 'marital', 'education', 'housing', 'contact', 'month', 'poutcome']\n",
    "\n",
    "del categorical[1]\n",
    "categorical"
   ]
  },
  {
   "cell_type": "code",
   "execution_count": 63,
   "id": "06faa3fb",
   "metadata": {},
   "outputs": [],
   "source": [
    "train_no_marital = df_train[categorical + numerical].to_dict(orient = 'records') \n"
   ]
  },
  {
   "cell_type": "code",
   "execution_count": 64,
   "id": "e80e0b7f",
   "metadata": {},
   "outputs": [
    {
     "data": {
      "text/plain": [
       "(27126, 44)"
      ]
     },
     "execution_count": 64,
     "metadata": {},
     "output_type": "execute_result"
    }
   ],
   "source": [
    "# Vectorise train set\n",
    "\n",
    "dv = DictVectorizer(sparse = False)\n",
    "\n",
    "X_train = dv.fit_transform(train_no_marital)\n",
    "\n",
    "X_train.shape"
   ]
  },
  {
   "cell_type": "code",
   "execution_count": 65,
   "id": "bd99f429",
   "metadata": {},
   "outputs": [
    {
     "data": {
      "text/plain": [
       "(9042, 44)"
      ]
     },
     "execution_count": 65,
     "metadata": {},
     "output_type": "execute_result"
    }
   ],
   "source": [
    "#Vectorise validation set\n",
    "\n",
    "val_no_marital = df_val[categorical + numerical].to_dict(orient = 'records')\n",
    "\n",
    "#dv = DictVectorizer(sparse = False)\n",
    "\n",
    "X_val = dv.transform(val_no_marital)\n",
    "\n",
    "X_val.shape"
   ]
  },
  {
   "cell_type": "code",
   "execution_count": 66,
   "id": "f7d6a789",
   "metadata": {},
   "outputs": [
    {
     "data": {
      "text/html": [
       "<style>#sk-container-id-4 {color: black;}#sk-container-id-4 pre{padding: 0;}#sk-container-id-4 div.sk-toggleable {background-color: white;}#sk-container-id-4 label.sk-toggleable__label {cursor: pointer;display: block;width: 100%;margin-bottom: 0;padding: 0.3em;box-sizing: border-box;text-align: center;}#sk-container-id-4 label.sk-toggleable__label-arrow:before {content: \"▸\";float: left;margin-right: 0.25em;color: #696969;}#sk-container-id-4 label.sk-toggleable__label-arrow:hover:before {color: black;}#sk-container-id-4 div.sk-estimator:hover label.sk-toggleable__label-arrow:before {color: black;}#sk-container-id-4 div.sk-toggleable__content {max-height: 0;max-width: 0;overflow: hidden;text-align: left;background-color: #f0f8ff;}#sk-container-id-4 div.sk-toggleable__content pre {margin: 0.2em;color: black;border-radius: 0.25em;background-color: #f0f8ff;}#sk-container-id-4 input.sk-toggleable__control:checked~div.sk-toggleable__content {max-height: 200px;max-width: 100%;overflow: auto;}#sk-container-id-4 input.sk-toggleable__control:checked~label.sk-toggleable__label-arrow:before {content: \"▾\";}#sk-container-id-4 div.sk-estimator input.sk-toggleable__control:checked~label.sk-toggleable__label {background-color: #d4ebff;}#sk-container-id-4 div.sk-label input.sk-toggleable__control:checked~label.sk-toggleable__label {background-color: #d4ebff;}#sk-container-id-4 input.sk-hidden--visually {border: 0;clip: rect(1px 1px 1px 1px);clip: rect(1px, 1px, 1px, 1px);height: 1px;margin: -1px;overflow: hidden;padding: 0;position: absolute;width: 1px;}#sk-container-id-4 div.sk-estimator {font-family: monospace;background-color: #f0f8ff;border: 1px dotted black;border-radius: 0.25em;box-sizing: border-box;margin-bottom: 0.5em;}#sk-container-id-4 div.sk-estimator:hover {background-color: #d4ebff;}#sk-container-id-4 div.sk-parallel-item::after {content: \"\";width: 100%;border-bottom: 1px solid gray;flex-grow: 1;}#sk-container-id-4 div.sk-label:hover label.sk-toggleable__label {background-color: #d4ebff;}#sk-container-id-4 div.sk-serial::before {content: \"\";position: absolute;border-left: 1px solid gray;box-sizing: border-box;top: 0;bottom: 0;left: 50%;z-index: 0;}#sk-container-id-4 div.sk-serial {display: flex;flex-direction: column;align-items: center;background-color: white;padding-right: 0.2em;padding-left: 0.2em;position: relative;}#sk-container-id-4 div.sk-item {position: relative;z-index: 1;}#sk-container-id-4 div.sk-parallel {display: flex;align-items: stretch;justify-content: center;background-color: white;position: relative;}#sk-container-id-4 div.sk-item::before, #sk-container-id-4 div.sk-parallel-item::before {content: \"\";position: absolute;border-left: 1px solid gray;box-sizing: border-box;top: 0;bottom: 0;left: 50%;z-index: -1;}#sk-container-id-4 div.sk-parallel-item {display: flex;flex-direction: column;z-index: 1;position: relative;background-color: white;}#sk-container-id-4 div.sk-parallel-item:first-child::after {align-self: flex-end;width: 50%;}#sk-container-id-4 div.sk-parallel-item:last-child::after {align-self: flex-start;width: 50%;}#sk-container-id-4 div.sk-parallel-item:only-child::after {width: 0;}#sk-container-id-4 div.sk-dashed-wrapped {border: 1px dashed gray;margin: 0 0.4em 0.5em 0.4em;box-sizing: border-box;padding-bottom: 0.4em;background-color: white;}#sk-container-id-4 div.sk-label label {font-family: monospace;font-weight: bold;display: inline-block;line-height: 1.2em;}#sk-container-id-4 div.sk-label-container {text-align: center;}#sk-container-id-4 div.sk-container {/* jupyter's `normalize.less` sets `[hidden] { display: none; }` but bootstrap.min.css set `[hidden] { display: none !important; }` so we also need the `!important` here to be able to override the default hidden behavior on the sphinx rendered scikit-learn.org. See: https://github.com/scikit-learn/scikit-learn/issues/21755 */display: inline-block !important;position: relative;}#sk-container-id-4 div.sk-text-repr-fallback {display: none;}</style><div id=\"sk-container-id-4\" class=\"sk-top-container\"><div class=\"sk-text-repr-fallback\"><pre>LogisticRegression(max_iter=1000, random_state=42, solver=&#x27;liblinear&#x27;)</pre><b>In a Jupyter environment, please rerun this cell to show the HTML representation or trust the notebook. <br />On GitHub, the HTML representation is unable to render, please try loading this page with nbviewer.org.</b></div><div class=\"sk-container\" hidden><div class=\"sk-item\"><div class=\"sk-estimator sk-toggleable\"><input class=\"sk-toggleable__control sk-hidden--visually\" id=\"sk-estimator-id-4\" type=\"checkbox\" checked><label for=\"sk-estimator-id-4\" class=\"sk-toggleable__label sk-toggleable__label-arrow\">LogisticRegression</label><div class=\"sk-toggleable__content\"><pre>LogisticRegression(max_iter=1000, random_state=42, solver=&#x27;liblinear&#x27;)</pre></div></div></div></div></div>"
      ],
      "text/plain": [
       "LogisticRegression(max_iter=1000, random_state=42, solver='liblinear')"
      ]
     },
     "execution_count": 66,
     "metadata": {},
     "output_type": "execute_result"
    }
   ],
   "source": [
    "model = LogisticRegression(solver='liblinear', C=1.0, max_iter=1000, random_state=42)\n",
    "model.fit(X_train, y_train)"
   ]
  },
  {
   "cell_type": "code",
   "execution_count": 67,
   "id": "18325058",
   "metadata": {},
   "outputs": [
    {
     "data": {
      "text/plain": [
       "array([0.04904875, 0.0341965 , 0.04478184, ..., 0.05936002, 0.00711467,\n",
       "       0.02731851])"
      ]
     },
     "execution_count": 67,
     "metadata": {},
     "output_type": "execute_result"
    }
   ],
   "source": [
    "y_pred = model.predict_proba(X_val)[:,1]\n",
    "y_pred"
   ]
  },
  {
   "cell_type": "code",
   "execution_count": 68,
   "id": "58c8f883",
   "metadata": {},
   "outputs": [],
   "source": [
    "y_pred_no_marital = (y_pred >= 0.5)"
   ]
  },
  {
   "cell_type": "code",
   "execution_count": 69,
   "id": "ea732168",
   "metadata": {},
   "outputs": [
    {
     "data": {
      "text/plain": [
       "0.9016810440168105"
      ]
     },
     "execution_count": 69,
     "metadata": {},
     "output_type": "execute_result"
    }
   ],
   "source": [
    "acc_no_marital = (y_pred_no_marital == y_val).mean()\n",
    "acc_no_marital#.round(2)"
   ]
  },
  {
   "cell_type": "markdown",
   "id": "b39c5cbf",
   "metadata": {},
   "source": [
    "#### NO PREVIOUS"
   ]
  },
  {
   "cell_type": "code",
   "execution_count": null,
   "id": "0d270e84",
   "metadata": {},
   "outputs": [],
   "source": []
  },
  {
   "cell_type": "code",
   "execution_count": 70,
   "id": "ac66e0c0",
   "metadata": {},
   "outputs": [
    {
     "data": {
      "text/plain": [
       "['age', 'balance', 'day', 'duration', 'campaign', 'pdays']"
      ]
     },
     "execution_count": 70,
     "metadata": {},
     "output_type": "execute_result"
    }
   ],
   "source": [
    "# Remove previous\n",
    "numerical = ['age', 'balance', 'day', 'duration', 'campaign', 'pdays', 'previous']\n",
    "\n",
    "categorical = ['job', 'marital', 'education', 'housing', 'contact', 'month', 'poutcome']\n",
    "\n",
    "del numerical[-1]\n",
    "numerical"
   ]
  },
  {
   "cell_type": "code",
   "execution_count": 71,
   "id": "c82cff34",
   "metadata": {},
   "outputs": [],
   "source": [
    "train_no_prev = df_train[categorical + numerical].to_dict(orient = 'records') \n"
   ]
  },
  {
   "cell_type": "code",
   "execution_count": 72,
   "id": "434f4561",
   "metadata": {},
   "outputs": [
    {
     "data": {
      "text/plain": [
       "(27126, 46)"
      ]
     },
     "execution_count": 72,
     "metadata": {},
     "output_type": "execute_result"
    }
   ],
   "source": [
    "# Vectorise train set\n",
    "\n",
    "dv = DictVectorizer(sparse = False)\n",
    "\n",
    "X_train = dv.fit_transform(train_no_prev)\n",
    "\n",
    "X_train.shape"
   ]
  },
  {
   "cell_type": "code",
   "execution_count": 73,
   "id": "02c32a67",
   "metadata": {},
   "outputs": [
    {
     "data": {
      "text/plain": [
       "(9042, 46)"
      ]
     },
     "execution_count": 73,
     "metadata": {},
     "output_type": "execute_result"
    }
   ],
   "source": [
    "#Vectorise validation set\n",
    "\n",
    "val_no_prev = df_val[categorical + numerical].to_dict(orient = 'records')\n",
    "\n",
    "#dv = DictVectorizer(sparse = False)\n",
    "\n",
    "X_val = dv.transform(val_no_prev)\n",
    "\n",
    "X_val.shape"
   ]
  },
  {
   "cell_type": "code",
   "execution_count": 74,
   "id": "5a56f6ff",
   "metadata": {},
   "outputs": [
    {
     "data": {
      "text/html": [
       "<style>#sk-container-id-5 {color: black;}#sk-container-id-5 pre{padding: 0;}#sk-container-id-5 div.sk-toggleable {background-color: white;}#sk-container-id-5 label.sk-toggleable__label {cursor: pointer;display: block;width: 100%;margin-bottom: 0;padding: 0.3em;box-sizing: border-box;text-align: center;}#sk-container-id-5 label.sk-toggleable__label-arrow:before {content: \"▸\";float: left;margin-right: 0.25em;color: #696969;}#sk-container-id-5 label.sk-toggleable__label-arrow:hover:before {color: black;}#sk-container-id-5 div.sk-estimator:hover label.sk-toggleable__label-arrow:before {color: black;}#sk-container-id-5 div.sk-toggleable__content {max-height: 0;max-width: 0;overflow: hidden;text-align: left;background-color: #f0f8ff;}#sk-container-id-5 div.sk-toggleable__content pre {margin: 0.2em;color: black;border-radius: 0.25em;background-color: #f0f8ff;}#sk-container-id-5 input.sk-toggleable__control:checked~div.sk-toggleable__content {max-height: 200px;max-width: 100%;overflow: auto;}#sk-container-id-5 input.sk-toggleable__control:checked~label.sk-toggleable__label-arrow:before {content: \"▾\";}#sk-container-id-5 div.sk-estimator input.sk-toggleable__control:checked~label.sk-toggleable__label {background-color: #d4ebff;}#sk-container-id-5 div.sk-label input.sk-toggleable__control:checked~label.sk-toggleable__label {background-color: #d4ebff;}#sk-container-id-5 input.sk-hidden--visually {border: 0;clip: rect(1px 1px 1px 1px);clip: rect(1px, 1px, 1px, 1px);height: 1px;margin: -1px;overflow: hidden;padding: 0;position: absolute;width: 1px;}#sk-container-id-5 div.sk-estimator {font-family: monospace;background-color: #f0f8ff;border: 1px dotted black;border-radius: 0.25em;box-sizing: border-box;margin-bottom: 0.5em;}#sk-container-id-5 div.sk-estimator:hover {background-color: #d4ebff;}#sk-container-id-5 div.sk-parallel-item::after {content: \"\";width: 100%;border-bottom: 1px solid gray;flex-grow: 1;}#sk-container-id-5 div.sk-label:hover label.sk-toggleable__label {background-color: #d4ebff;}#sk-container-id-5 div.sk-serial::before {content: \"\";position: absolute;border-left: 1px solid gray;box-sizing: border-box;top: 0;bottom: 0;left: 50%;z-index: 0;}#sk-container-id-5 div.sk-serial {display: flex;flex-direction: column;align-items: center;background-color: white;padding-right: 0.2em;padding-left: 0.2em;position: relative;}#sk-container-id-5 div.sk-item {position: relative;z-index: 1;}#sk-container-id-5 div.sk-parallel {display: flex;align-items: stretch;justify-content: center;background-color: white;position: relative;}#sk-container-id-5 div.sk-item::before, #sk-container-id-5 div.sk-parallel-item::before {content: \"\";position: absolute;border-left: 1px solid gray;box-sizing: border-box;top: 0;bottom: 0;left: 50%;z-index: -1;}#sk-container-id-5 div.sk-parallel-item {display: flex;flex-direction: column;z-index: 1;position: relative;background-color: white;}#sk-container-id-5 div.sk-parallel-item:first-child::after {align-self: flex-end;width: 50%;}#sk-container-id-5 div.sk-parallel-item:last-child::after {align-self: flex-start;width: 50%;}#sk-container-id-5 div.sk-parallel-item:only-child::after {width: 0;}#sk-container-id-5 div.sk-dashed-wrapped {border: 1px dashed gray;margin: 0 0.4em 0.5em 0.4em;box-sizing: border-box;padding-bottom: 0.4em;background-color: white;}#sk-container-id-5 div.sk-label label {font-family: monospace;font-weight: bold;display: inline-block;line-height: 1.2em;}#sk-container-id-5 div.sk-label-container {text-align: center;}#sk-container-id-5 div.sk-container {/* jupyter's `normalize.less` sets `[hidden] { display: none; }` but bootstrap.min.css set `[hidden] { display: none !important; }` so we also need the `!important` here to be able to override the default hidden behavior on the sphinx rendered scikit-learn.org. See: https://github.com/scikit-learn/scikit-learn/issues/21755 */display: inline-block !important;position: relative;}#sk-container-id-5 div.sk-text-repr-fallback {display: none;}</style><div id=\"sk-container-id-5\" class=\"sk-top-container\"><div class=\"sk-text-repr-fallback\"><pre>LogisticRegression(max_iter=1000, random_state=42, solver=&#x27;liblinear&#x27;)</pre><b>In a Jupyter environment, please rerun this cell to show the HTML representation or trust the notebook. <br />On GitHub, the HTML representation is unable to render, please try loading this page with nbviewer.org.</b></div><div class=\"sk-container\" hidden><div class=\"sk-item\"><div class=\"sk-estimator sk-toggleable\"><input class=\"sk-toggleable__control sk-hidden--visually\" id=\"sk-estimator-id-5\" type=\"checkbox\" checked><label for=\"sk-estimator-id-5\" class=\"sk-toggleable__label sk-toggleable__label-arrow\">LogisticRegression</label><div class=\"sk-toggleable__content\"><pre>LogisticRegression(max_iter=1000, random_state=42, solver=&#x27;liblinear&#x27;)</pre></div></div></div></div></div>"
      ],
      "text/plain": [
       "LogisticRegression(max_iter=1000, random_state=42, solver='liblinear')"
      ]
     },
     "execution_count": 74,
     "metadata": {},
     "output_type": "execute_result"
    }
   ],
   "source": [
    "model = LogisticRegression(solver='liblinear', C=1.0, max_iter=1000, random_state=42)\n",
    "model.fit(X_train, y_train)"
   ]
  },
  {
   "cell_type": "code",
   "execution_count": 74,
   "id": "52ad8636",
   "metadata": {},
   "outputs": [
    {
     "data": {
      "text/plain": [
       "array([0.013335  , 0.00947461, 0.15674378, ..., 0.04477538, 0.00888863,\n",
       "       0.27642006])"
      ]
     },
     "execution_count": 74,
     "metadata": {},
     "output_type": "execute_result"
    }
   ],
   "source": [
    "y_pred = model.predict_proba(X_val)[:,1]\n",
    "y_pred"
   ]
  },
  {
   "cell_type": "code",
   "execution_count": 75,
   "id": "1786bb5f",
   "metadata": {},
   "outputs": [],
   "source": [
    "y_pred_no_prev = (y_pred >= 0.5)"
   ]
  },
  {
   "cell_type": "code",
   "execution_count": 76,
   "id": "ced0dca0",
   "metadata": {},
   "outputs": [
    {
     "data": {
      "text/plain": [
       "0.9016810440168105"
      ]
     },
     "execution_count": 76,
     "metadata": {},
     "output_type": "execute_result"
    }
   ],
   "source": [
    "acc_no_prev = (y_pred_no_marital == y_val).mean()\n",
    "acc_no_prev#.round(2)"
   ]
  },
  {
   "cell_type": "code",
   "execution_count": null,
   "id": "bcbb8b6b",
   "metadata": {},
   "outputs": [],
   "source": []
  },
  {
   "cell_type": "markdown",
   "id": "c00d4ee0",
   "metadata": {},
   "source": [
    "### Scores comparisons"
   ]
  },
  {
   "cell_type": "code",
   "execution_count": 77,
   "id": "52b213a9",
   "metadata": {},
   "outputs": [],
   "source": [
    "# AGE\n",
    "age = y_pred_all - acc_no_age"
   ]
  },
  {
   "cell_type": "code",
   "execution_count": 78,
   "id": "6df35ba6",
   "metadata": {},
   "outputs": [],
   "source": [
    "# BAL\n",
    "bal = y_pred_all - acc_no_bal"
   ]
  },
  {
   "cell_type": "code",
   "execution_count": 79,
   "id": "0c773ccc",
   "metadata": {},
   "outputs": [],
   "source": [
    "#MARITAL\n",
    "marital = y_pred_all - acc_no_marital"
   ]
  },
  {
   "cell_type": "code",
   "execution_count": 80,
   "id": "e3f6375e",
   "metadata": {},
   "outputs": [],
   "source": [
    "#PREV\n",
    "prev = y_pred_all - acc_no_prev"
   ]
  },
  {
   "cell_type": "code",
   "execution_count": 81,
   "id": "a3a2405c",
   "metadata": {},
   "outputs": [],
   "source": [
    "scores = [age, bal, marital, prev]"
   ]
  },
  {
   "cell_type": "code",
   "execution_count": 85,
   "id": "fa76eb85",
   "metadata": {},
   "outputs": [
    {
     "name": "stdout",
     "output_type": "stream",
     "text": [
      "{'Age': 0.0008847600088476293, 'Bal': -0.00022119000221187957, 'Marital': 0.0, 'Prev': 0.0}\n"
     ]
    }
   ],
   "source": [
    "mydict = {\n",
    "    'Age': age,\n",
    "    'Bal': bal,\n",
    "    'Marital': marital,\n",
    "    'Prev': prev\n",
    "}\n",
    "\n",
    "\n",
    "myKeys = list(mydict.keys())\n",
    "myKeys.sort()\n",
    "\n",
    "# Sorted Dictionary\n",
    "sd = {i: mydict[i] for i in myKeys}\n",
    "print(sd)"
   ]
  },
  {
   "cell_type": "markdown",
   "id": "7414303a",
   "metadata": {},
   "source": [
    "#### Observation: Age is the least"
   ]
  },
  {
   "cell_type": "markdown",
   "id": "4fdd62dd",
   "metadata": {},
   "source": [
    "### Question 6"
   ]
  },
  {
   "cell_type": "code",
   "execution_count": 86,
   "id": "83b7325d",
   "metadata": {},
   "outputs": [],
   "source": [
    "\n",
    "numerical = ['age', 'balance', 'day', 'duration', 'campaign', 'pdays', 'previous']\n",
    "\n",
    "categorical = ['job', 'marital', 'education', 'housing', 'contact', 'month', 'poutcome']\n"
   ]
  },
  {
   "cell_type": "code",
   "execution_count": 87,
   "id": "be7d4077",
   "metadata": {},
   "outputs": [],
   "source": [
    "train_dict = df_train[categorical + numerical].to_dict(orient = 'records') "
   ]
  },
  {
   "cell_type": "code",
   "execution_count": 88,
   "id": "c6313712",
   "metadata": {},
   "outputs": [
    {
     "data": {
      "text/plain": [
       "(27126, 47)"
      ]
     },
     "execution_count": 88,
     "metadata": {},
     "output_type": "execute_result"
    }
   ],
   "source": [
    "# Vectorise train set\n",
    "\n",
    "dv = DictVectorizer(sparse = False)\n",
    "\n",
    "X_train = dv.fit_transform(train_dict)\n",
    "\n",
    "X_train.shape"
   ]
  },
  {
   "cell_type": "code",
   "execution_count": 89,
   "id": "ca40578f",
   "metadata": {},
   "outputs": [
    {
     "data": {
      "text/plain": [
       "(9042, 47)"
      ]
     },
     "execution_count": 89,
     "metadata": {},
     "output_type": "execute_result"
    }
   ],
   "source": [
    "#Vectorise validation set\n",
    "\n",
    "val_dict = df_val[categorical + numerical].to_dict(orient = 'records')\n",
    "\n",
    "#dv = DictVectorizer(sparse = False)\n",
    "\n",
    "X_val = dv.transform(val_dict)\n",
    "\n",
    "X_val.shape"
   ]
  },
  {
   "cell_type": "code",
   "execution_count": 90,
   "id": "51272901",
   "metadata": {},
   "outputs": [
    {
     "name": "stdout",
     "output_type": "stream",
     "text": [
      "Regularization 0.01: Accuracy = 0.898\n",
      "Regularization 0.1: Accuracy = 0.9\n",
      "Regularization 1: Accuracy = 0.902\n",
      "Regularization 10: Accuracy = 0.902\n",
      "Regularization 100: Accuracy = 0.902\n"
     ]
    }
   ],
   "source": [
    "c = [0.01, 0.1, 1, 10, 100]\n",
    "\n",
    "for r in c:\n",
    "    logreg = LogisticRegression(solver='liblinear', C= r, max_iter=1000, random_state=42)\n",
    "    logreg.fit(X_train, y_train)\n",
    "\n",
    "    y_pred = logreg.predict_proba(X_val)[:,1]\n",
    "    \n",
    "    y_pred = (y_pred >= 0.5)\n",
    "    \n",
    "    acc_no_prev = (y_pred == y_val).mean()\n",
    "    \n",
    "    \n",
    "    print(f'Regularization {r}: Accuracy = {acc_no_prev.round(3)}')"
   ]
  },
  {
   "cell_type": "markdown",
   "id": "c1cd2008",
   "metadata": {},
   "source": [
    "### EVALUATION ASSIGNMENT"
   ]
  },
  {
   "cell_type": "code",
   "execution_count": 113,
   "id": "c9218617",
   "metadata": {},
   "outputs": [
    {
     "name": "stdout",
     "output_type": "stream",
     "text": [
      "lenght of full train is 36168,\n",
      "lenght of test is 9043\n",
      "length of validation is 9042\n"
     ]
    }
   ],
   "source": [
    "df_full_train, df_test = train_test_split(df, test_size = 0.2, random_state = 1) # \n",
    "\n",
    "# further divide the full train to obtain 20 percent for the validation\n",
    "# 25% of 80% is 20% of the original dataset length\n",
    "df_train, df_val = train_test_split(df_full_train, test_size = 0.25, random_state = 1) \n",
    "\n",
    "print(f'lenght of full train is {len(df_full_train)},\\nlenght of test is {len(df_test)}\\n'\n",
    "      f'length of validation is {len(df_val)}')\n"
   ]
  },
  {
   "cell_type": "markdown",
   "id": "d5729859",
   "metadata": {},
   "source": [
    "### Question 1"
   ]
  },
  {
   "cell_type": "code",
   "execution_count": 114,
   "id": "69bfeee0",
   "metadata": {},
   "outputs": [
    {
     "data": {
      "text/html": [
       "<div>\n",
       "<style scoped>\n",
       "    .dataframe tbody tr th:only-of-type {\n",
       "        vertical-align: middle;\n",
       "    }\n",
       "\n",
       "    .dataframe tbody tr th {\n",
       "        vertical-align: top;\n",
       "    }\n",
       "\n",
       "    .dataframe thead th {\n",
       "        text-align: right;\n",
       "    }\n",
       "</style>\n",
       "<table border=\"1\" class=\"dataframe\">\n",
       "  <thead>\n",
       "    <tr style=\"text-align: right;\">\n",
       "      <th></th>\n",
       "      <th>age</th>\n",
       "      <th>balance</th>\n",
       "      <th>day</th>\n",
       "      <th>duration</th>\n",
       "      <th>campaign</th>\n",
       "      <th>pdays</th>\n",
       "      <th>previous</th>\n",
       "    </tr>\n",
       "  </thead>\n",
       "  <tbody>\n",
       "    <tr>\n",
       "      <th>14137</th>\n",
       "      <td>56</td>\n",
       "      <td>40</td>\n",
       "      <td>11</td>\n",
       "      <td>123</td>\n",
       "      <td>2</td>\n",
       "      <td>-1</td>\n",
       "      <td>0</td>\n",
       "    </tr>\n",
       "    <tr>\n",
       "      <th>33506</th>\n",
       "      <td>33</td>\n",
       "      <td>4790</td>\n",
       "      <td>20</td>\n",
       "      <td>137</td>\n",
       "      <td>1</td>\n",
       "      <td>272</td>\n",
       "      <td>2</td>\n",
       "    </tr>\n",
       "    <tr>\n",
       "      <th>27524</th>\n",
       "      <td>32</td>\n",
       "      <td>392</td>\n",
       "      <td>21</td>\n",
       "      <td>148</td>\n",
       "      <td>2</td>\n",
       "      <td>-1</td>\n",
       "      <td>0</td>\n",
       "    </tr>\n",
       "    <tr>\n",
       "      <th>34058</th>\n",
       "      <td>40</td>\n",
       "      <td>2129</td>\n",
       "      <td>30</td>\n",
       "      <td>452</td>\n",
       "      <td>1</td>\n",
       "      <td>-1</td>\n",
       "      <td>0</td>\n",
       "    </tr>\n",
       "    <tr>\n",
       "      <th>25922</th>\n",
       "      <td>54</td>\n",
       "      <td>1180</td>\n",
       "      <td>19</td>\n",
       "      <td>394</td>\n",
       "      <td>2</td>\n",
       "      <td>-1</td>\n",
       "      <td>0</td>\n",
       "    </tr>\n",
       "    <tr>\n",
       "      <th>...</th>\n",
       "      <td>...</td>\n",
       "      <td>...</td>\n",
       "      <td>...</td>\n",
       "      <td>...</td>\n",
       "      <td>...</td>\n",
       "      <td>...</td>\n",
       "      <td>...</td>\n",
       "    </tr>\n",
       "    <tr>\n",
       "      <th>22520</th>\n",
       "      <td>32</td>\n",
       "      <td>195</td>\n",
       "      <td>22</td>\n",
       "      <td>239</td>\n",
       "      <td>2</td>\n",
       "      <td>-1</td>\n",
       "      <td>0</td>\n",
       "    </tr>\n",
       "    <tr>\n",
       "      <th>26678</th>\n",
       "      <td>52</td>\n",
       "      <td>3720</td>\n",
       "      <td>20</td>\n",
       "      <td>114</td>\n",
       "      <td>2</td>\n",
       "      <td>-1</td>\n",
       "      <td>0</td>\n",
       "    </tr>\n",
       "    <tr>\n",
       "      <th>4964</th>\n",
       "      <td>52</td>\n",
       "      <td>289</td>\n",
       "      <td>21</td>\n",
       "      <td>45</td>\n",
       "      <td>13</td>\n",
       "      <td>-1</td>\n",
       "      <td>0</td>\n",
       "    </tr>\n",
       "    <tr>\n",
       "      <th>20083</th>\n",
       "      <td>32</td>\n",
       "      <td>312</td>\n",
       "      <td>11</td>\n",
       "      <td>67</td>\n",
       "      <td>4</td>\n",
       "      <td>-1</td>\n",
       "      <td>0</td>\n",
       "    </tr>\n",
       "    <tr>\n",
       "      <th>7828</th>\n",
       "      <td>38</td>\n",
       "      <td>580</td>\n",
       "      <td>30</td>\n",
       "      <td>572</td>\n",
       "      <td>6</td>\n",
       "      <td>-1</td>\n",
       "      <td>0</td>\n",
       "    </tr>\n",
       "  </tbody>\n",
       "</table>\n",
       "<p>27126 rows × 7 columns</p>\n",
       "</div>"
      ],
      "text/plain": [
       "       age  balance  day  duration  campaign  pdays  previous\n",
       "14137   56       40   11       123         2     -1         0\n",
       "33506   33     4790   20       137         1    272         2\n",
       "27524   32      392   21       148         2     -1         0\n",
       "34058   40     2129   30       452         1     -1         0\n",
       "25922   54     1180   19       394         2     -1         0\n",
       "...    ...      ...  ...       ...       ...    ...       ...\n",
       "22520   32      195   22       239         2     -1         0\n",
       "26678   52     3720   20       114         2     -1         0\n",
       "4964    52      289   21        45        13     -1         0\n",
       "20083   32      312   11        67         4     -1         0\n",
       "7828    38      580   30       572         6     -1         0\n",
       "\n",
       "[27126 rows x 7 columns]"
      ]
     },
     "execution_count": 114,
     "metadata": {},
     "output_type": "execute_result"
    }
   ],
   "source": [
    "df_train[numerical]"
   ]
  },
  {
   "cell_type": "code",
   "execution_count": 115,
   "id": "68bd5abd",
   "metadata": {},
   "outputs": [],
   "source": [
    "roc_auc = []\n",
    "\n",
    "for feature in df_train[numerical].columns:\n",
    "    model = LogisticRegression(solver='liblinear', C=1.0, max_iter=1000, random_state=42)\n",
    "    model.fit(df_train[feature].to_frame(), y_train) #.to_frame will it 1D array\n",
    "    \n",
    "    y_pred = model.predict_proba(df_val[feature].to_frame())[:, 1]\n",
    "    \n",
    "    roc_auc.append(roc_auc_score(y_val, y_pred))"
   ]
  },
  {
   "cell_type": "code",
   "execution_count": 116,
   "id": "c75a9372",
   "metadata": {},
   "outputs": [
    {
     "name": "stdout",
     "output_type": "stream",
     "text": [
      "[0.5065868104634554, 0.4922683634912088, 0.4982121806593226, 0.5058184904422158, 0.4847528498537913, 0.5023384973787142, 0.5018447860342674]\n"
     ]
    }
   ],
   "source": [
    "print(roc_auc)"
   ]
  },
  {
   "cell_type": "code",
   "execution_count": 117,
   "id": "18f420b3",
   "metadata": {},
   "outputs": [],
   "source": [
    "roc_values = pd.Series(roc_auc)\n",
    "roc_values.index = df_train[numerical].columns\n",
    "roc_values.sort_values(ascending = True, inplace = True)"
   ]
  },
  {
   "cell_type": "code",
   "execution_count": 118,
   "id": "159af177",
   "metadata": {},
   "outputs": [
    {
     "data": {
      "text/plain": [
       "campaign    0.484753\n",
       "balance     0.492268\n",
       "day         0.498212\n",
       "previous    0.501845\n",
       "pdays       0.502338\n",
       "duration    0.505818\n",
       "age         0.506587\n",
       "dtype: float64"
      ]
     },
     "execution_count": 118,
     "metadata": {},
     "output_type": "execute_result"
    }
   ],
   "source": [
    "roc_values"
   ]
  },
  {
   "cell_type": "code",
   "execution_count": 134,
   "id": "0cb1a2c2",
   "metadata": {},
   "outputs": [],
   "source": [
    "roc_dict = dict(roc_values)"
   ]
  },
  {
   "cell_type": "code",
   "execution_count": 135,
   "id": "5a211fb3",
   "metadata": {},
   "outputs": [
    {
     "name": "stdout",
     "output_type": "stream",
     "text": [
      "campaign -0.4847528498537913\n",
      "balance -0.4922683634912088\n",
      "day -0.4982121806593226\n",
      "previous 0.5018447860342674\n",
      "pdays 0.5023384973787142\n",
      "duration 0.5058184904422158\n",
      "age 0.5065868104634554\n"
     ]
    }
   ],
   "source": [
    "#inverst the scores/values\n",
    "\n",
    "roc_scores = []\n",
    "\n",
    "for key, value in roc_dict.items():\n",
    "    if value < 0.5:        \n",
    "        print(key, (value * -1))\n",
    "    else:\n",
    "        print(key, value)\n"
   ]
  },
  {
   "cell_type": "code",
   "execution_count": 136,
   "id": "c07fb9e4",
   "metadata": {},
   "outputs": [
    {
     "name": "stdout",
     "output_type": "stream",
     "text": [
      "-campaign, 0.4847528498537913\n",
      "-balance, 0.4922683634912088\n",
      "-day, 0.4982121806593226\n",
      "previous 0.5018447860342674\n",
      "pdays 0.5023384973787142\n",
      "duration 0.5058184904422158\n",
      "age 0.5065868104634554\n"
     ]
    }
   ],
   "source": [
    "#inverst the Variables\n",
    "\n",
    "roc_scores = []\n",
    "\n",
    "for key, value in roc_dict.items():\n",
    "    if value < 0.5:        \n",
    "        print(f'-{key}, {value}')\n",
    "    else:\n",
    "        print(key, value)\n"
   ]
  },
  {
   "cell_type": "markdown",
   "id": "7c8025ad",
   "metadata": {},
   "source": [
    "### Question 2 "
   ]
  },
  {
   "cell_type": "markdown",
   "id": "6210ade5",
   "metadata": {},
   "source": [
    "#### training the model"
   ]
  },
  {
   "cell_type": "code",
   "execution_count": 137,
   "id": "7330fc4e",
   "metadata": {},
   "outputs": [],
   "source": [
    "from sklearn.feature_extraction import DictVectorizer\n",
    "from sklearn.model_selection import train_test_split\n",
    "from sklearn.linear_model import LogisticRegression"
   ]
  },
  {
   "cell_type": "code",
   "execution_count": 138,
   "id": "61342f8d",
   "metadata": {},
   "outputs": [
    {
     "data": {
      "text/html": [
       "<div>\n",
       "<style scoped>\n",
       "    .dataframe tbody tr th:only-of-type {\n",
       "        vertical-align: middle;\n",
       "    }\n",
       "\n",
       "    .dataframe tbody tr th {\n",
       "        vertical-align: top;\n",
       "    }\n",
       "\n",
       "    .dataframe thead th {\n",
       "        text-align: right;\n",
       "    }\n",
       "</style>\n",
       "<table border=\"1\" class=\"dataframe\">\n",
       "  <thead>\n",
       "    <tr style=\"text-align: right;\">\n",
       "      <th></th>\n",
       "      <th>age</th>\n",
       "      <th>job</th>\n",
       "      <th>marital</th>\n",
       "      <th>education</th>\n",
       "      <th>balance</th>\n",
       "      <th>housing</th>\n",
       "      <th>contact</th>\n",
       "      <th>day</th>\n",
       "      <th>month</th>\n",
       "      <th>duration</th>\n",
       "      <th>campaign</th>\n",
       "      <th>pdays</th>\n",
       "      <th>previous</th>\n",
       "      <th>poutcome</th>\n",
       "      <th>y</th>\n",
       "    </tr>\n",
       "  </thead>\n",
       "  <tbody>\n",
       "    <tr>\n",
       "      <th>22468</th>\n",
       "      <td>52</td>\n",
       "      <td>management</td>\n",
       "      <td>married</td>\n",
       "      <td>tertiary</td>\n",
       "      <td>0</td>\n",
       "      <td>no</td>\n",
       "      <td>cellular</td>\n",
       "      <td>22</td>\n",
       "      <td>aug</td>\n",
       "      <td>232</td>\n",
       "      <td>2</td>\n",
       "      <td>-1</td>\n",
       "      <td>0</td>\n",
       "      <td>unknown</td>\n",
       "      <td>0</td>\n",
       "    </tr>\n",
       "    <tr>\n",
       "      <th>6896</th>\n",
       "      <td>50</td>\n",
       "      <td>admin.</td>\n",
       "      <td>single</td>\n",
       "      <td>secondary</td>\n",
       "      <td>330</td>\n",
       "      <td>yes</td>\n",
       "      <td>unknown</td>\n",
       "      <td>28</td>\n",
       "      <td>may</td>\n",
       "      <td>24</td>\n",
       "      <td>1</td>\n",
       "      <td>-1</td>\n",
       "      <td>0</td>\n",
       "      <td>unknown</td>\n",
       "      <td>0</td>\n",
       "    </tr>\n",
       "  </tbody>\n",
       "</table>\n",
       "</div>"
      ],
      "text/plain": [
       "       age         job  marital  education  balance housing   contact  day  \\\n",
       "22468   52  management  married   tertiary        0      no  cellular   22   \n",
       "6896    50      admin.   single  secondary      330     yes   unknown   28   \n",
       "\n",
       "      month  duration  campaign  pdays  previous poutcome  y  \n",
       "22468   aug       232         2     -1         0  unknown  0  \n",
       "6896    may        24         1     -1         0  unknown  0  "
      ]
     },
     "execution_count": 138,
     "metadata": {},
     "output_type": "execute_result"
    }
   ],
   "source": [
    "df_full_train.head(2)"
   ]
  },
  {
   "cell_type": "code",
   "execution_count": 139,
   "id": "6b3f8858",
   "metadata": {},
   "outputs": [
    {
     "data": {
      "text/html": [
       "<div>\n",
       "<style scoped>\n",
       "    .dataframe tbody tr th:only-of-type {\n",
       "        vertical-align: middle;\n",
       "    }\n",
       "\n",
       "    .dataframe tbody tr th {\n",
       "        vertical-align: top;\n",
       "    }\n",
       "\n",
       "    .dataframe thead th {\n",
       "        text-align: right;\n",
       "    }\n",
       "</style>\n",
       "<table border=\"1\" class=\"dataframe\">\n",
       "  <thead>\n",
       "    <tr style=\"text-align: right;\">\n",
       "      <th></th>\n",
       "      <th>age</th>\n",
       "      <th>job</th>\n",
       "      <th>marital</th>\n",
       "      <th>education</th>\n",
       "      <th>balance</th>\n",
       "      <th>housing</th>\n",
       "      <th>contact</th>\n",
       "      <th>day</th>\n",
       "      <th>month</th>\n",
       "      <th>duration</th>\n",
       "      <th>campaign</th>\n",
       "      <th>pdays</th>\n",
       "      <th>previous</th>\n",
       "      <th>poutcome</th>\n",
       "    </tr>\n",
       "  </thead>\n",
       "  <tbody>\n",
       "    <tr>\n",
       "      <th>22468</th>\n",
       "      <td>52</td>\n",
       "      <td>management</td>\n",
       "      <td>married</td>\n",
       "      <td>tertiary</td>\n",
       "      <td>0</td>\n",
       "      <td>no</td>\n",
       "      <td>cellular</td>\n",
       "      <td>22</td>\n",
       "      <td>aug</td>\n",
       "      <td>232</td>\n",
       "      <td>2</td>\n",
       "      <td>-1</td>\n",
       "      <td>0</td>\n",
       "      <td>unknown</td>\n",
       "    </tr>\n",
       "    <tr>\n",
       "      <th>6896</th>\n",
       "      <td>50</td>\n",
       "      <td>admin.</td>\n",
       "      <td>single</td>\n",
       "      <td>secondary</td>\n",
       "      <td>330</td>\n",
       "      <td>yes</td>\n",
       "      <td>unknown</td>\n",
       "      <td>28</td>\n",
       "      <td>may</td>\n",
       "      <td>24</td>\n",
       "      <td>1</td>\n",
       "      <td>-1</td>\n",
       "      <td>0</td>\n",
       "      <td>unknown</td>\n",
       "    </tr>\n",
       "  </tbody>\n",
       "</table>\n",
       "</div>"
      ],
      "text/plain": [
       "       age         job  marital  education  balance housing   contact  day  \\\n",
       "22468   52  management  married   tertiary        0      no  cellular   22   \n",
       "6896    50      admin.   single  secondary      330     yes   unknown   28   \n",
       "\n",
       "      month  duration  campaign  pdays  previous poutcome  \n",
       "22468   aug       232         2     -1         0  unknown  \n",
       "6896    may        24         1     -1         0  unknown  "
      ]
     },
     "execution_count": 139,
     "metadata": {},
     "output_type": "execute_result"
    }
   ],
   "source": [
    "df_full_train.drop('y', axis = 1).head(2)"
   ]
  },
  {
   "cell_type": "code",
   "execution_count": 140,
   "id": "9ca183c6",
   "metadata": {},
   "outputs": [
    {
     "data": {
      "text/plain": [
       "((27126, 15), (27126,))"
      ]
     },
     "execution_count": 140,
     "metadata": {},
     "output_type": "execute_result"
    }
   ],
   "source": [
    "df_train.shape, y_train.shape"
   ]
  },
  {
   "cell_type": "code",
   "execution_count": 141,
   "id": "bc4f88e1",
   "metadata": {},
   "outputs": [
    {
     "data": {
      "text/plain": [
       "{'age': 56,\n",
       " 'job': 'entrepreneur',\n",
       " 'marital': 'married',\n",
       " 'education': 'tertiary',\n",
       " 'balance': 40,\n",
       " 'housing': 'no',\n",
       " 'contact': 'cellular',\n",
       " 'day': 11,\n",
       " 'month': 'jul',\n",
       " 'duration': 123,\n",
       " 'campaign': 2,\n",
       " 'pdays': -1,\n",
       " 'previous': 0,\n",
       " 'poutcome': 'unknown'}"
      ]
     },
     "execution_count": 141,
     "metadata": {},
     "output_type": "execute_result"
    }
   ],
   "source": [
    "train_dict = df_train.drop('y', axis = 1).to_dict(orient = 'records') \n",
    "train_dict[0]"
   ]
  },
  {
   "cell_type": "code",
   "execution_count": null,
   "id": "f11161c0",
   "metadata": {},
   "outputs": [],
   "source": []
  },
  {
   "cell_type": "code",
   "execution_count": 142,
   "id": "0858fc74",
   "metadata": {},
   "outputs": [],
   "source": [
    "# Training function\n",
    "\n",
    "def train(df_train, y_train, C = 1.0):\n",
    "    dicts = df_train.drop('y', axis = 1).to_dict(orient = 'records') \n",
    "    \n",
    "    dv = DictVectorizer(sparse = False)\n",
    "    X_train = dv.fit_transform(dicts)\n",
    "    \n",
    "    model = LogisticRegression(solver='liblinear', C= C, max_iter=1000)\n",
    "    model.fit(X_train, y_train)\n",
    "    \n",
    "    return dv, model"
   ]
  },
  {
   "cell_type": "code",
   "execution_count": 143,
   "id": "025b75a7",
   "metadata": {},
   "outputs": [],
   "source": [
    "dv, model = train(df_train, y_train)"
   ]
  },
  {
   "cell_type": "code",
   "execution_count": 144,
   "id": "07fe17c1",
   "metadata": {},
   "outputs": [],
   "source": [
    "def predict(df_val, dv, model):\n",
    "    dicts = df_val.drop('y', axis = 1).to_dict(orient = 'records')\n",
    "    \n",
    "    X_val = dv.transform(dicts)\n",
    "    \n",
    "    y_pred = model.predict_proba(X_val)[:, 1]\n",
    "    \n",
    "    return y_pred"
   ]
  },
  {
   "cell_type": "code",
   "execution_count": 145,
   "id": "bb33b737",
   "metadata": {},
   "outputs": [],
   "source": [
    "y_pred = predict(df_val, dv, model)"
   ]
  },
  {
   "cell_type": "code",
   "execution_count": 146,
   "id": "1a0c4059",
   "metadata": {},
   "outputs": [
    {
     "data": {
      "text/plain": [
       "array([0.11662283, 0.1446038 , 0.10426642, ..., 0.15083583, 0.1221058 ,\n",
       "       0.12945284])"
      ]
     },
     "execution_count": 146,
     "metadata": {},
     "output_type": "execute_result"
    }
   ],
   "source": [
    "y_pred"
   ]
  },
  {
   "cell_type": "code",
   "execution_count": 147,
   "id": "7751d24e",
   "metadata": {},
   "outputs": [],
   "source": [
    "# AUC\n",
    "\n",
    "from sklearn.metrics import roc_auc_score"
   ]
  },
  {
   "cell_type": "code",
   "execution_count": 148,
   "id": "b86325dc",
   "metadata": {},
   "outputs": [
    {
     "data": {
      "text/plain": [
       "0.493"
      ]
     },
     "execution_count": 148,
     "metadata": {},
     "output_type": "execute_result"
    }
   ],
   "source": [
    "roc_auc_score(y_val, y_pred).round(3)"
   ]
  },
  {
   "cell_type": "markdown",
   "id": "2ce04ca7",
   "metadata": {},
   "source": [
    "### Question 4 "
   ]
  },
  {
   "cell_type": "markdown",
   "id": "1b16cbc2",
   "metadata": {},
   "source": [
    "#### Precision and recall"
   ]
  },
  {
   "cell_type": "code",
   "execution_count": 149,
   "id": "72715ada",
   "metadata": {},
   "outputs": [],
   "source": [
    "from sklearn.metrics import precision_recall_curve"
   ]
  },
  {
   "cell_type": "code",
   "execution_count": 150,
   "id": "cfa01b29",
   "metadata": {},
   "outputs": [],
   "source": [
    "# precision, recall, thresholds = precision_recall_curve(y_val, y_pred)\n",
    "# #plt.fill_between(recall, precision)\n",
    "# plt.ylabel(\"Precision\")\n",
    "# plt.xlabel(\"Recall\")\n",
    "# plt.title(\"Train Precision-Recall curve\");"
   ]
  },
  {
   "cell_type": "code",
   "execution_count": null,
   "id": "c85ac494",
   "metadata": {},
   "outputs": [],
   "source": []
  },
  {
   "cell_type": "code",
   "execution_count": 151,
   "id": "e38807f8",
   "metadata": {},
   "outputs": [],
   "source": [
    "actual_positive = (y_val == 1)\n",
    "actual_negative = (y_val == 0)"
   ]
  },
  {
   "cell_type": "code",
   "execution_count": 152,
   "id": "fc1ec4c8",
   "metadata": {},
   "outputs": [],
   "source": [
    "t = 0.9\n",
    "predict_positive = (y_pred >= t)\n",
    "predict_negative = (y_pred < t)"
   ]
  },
  {
   "cell_type": "code",
   "execution_count": 153,
   "id": "6f773288",
   "metadata": {},
   "outputs": [],
   "source": [
    "from collections import Counter"
   ]
  },
  {
   "cell_type": "code",
   "execution_count": 154,
   "id": "558939b6",
   "metadata": {},
   "outputs": [
    {
     "data": {
      "text/plain": [
       "Counter({True: 9041, False: 1})"
      ]
     },
     "execution_count": 154,
     "metadata": {},
     "output_type": "execute_result"
    }
   ],
   "source": [
    "Counter(predict_negative)"
   ]
  },
  {
   "cell_type": "code",
   "execution_count": 155,
   "id": "62258c41",
   "metadata": {},
   "outputs": [
    {
     "name": "stdout",
     "output_type": "stream",
     "text": [
      "1 7968\n"
     ]
    }
   ],
   "source": [
    "tp = (actual_positive & predict_positive).sum()\n",
    "tn = (actual_negative & predict_negative).sum()\n",
    "\n",
    "print(tp, tn)"
   ]
  },
  {
   "cell_type": "code",
   "execution_count": 156,
   "id": "ef756231",
   "metadata": {},
   "outputs": [
    {
     "name": "stdout",
     "output_type": "stream",
     "text": [
      "0 1073\n"
     ]
    }
   ],
   "source": [
    "fp = (predict_positive & actual_negative).sum()\n",
    "fn = (predict_negative & actual_positive).sum()\n",
    "\n",
    "print(fp, fn)"
   ]
  },
  {
   "cell_type": "code",
   "execution_count": 157,
   "id": "4665b26e",
   "metadata": {},
   "outputs": [
    {
     "data": {
      "text/plain": [
       "array([[7968,    0],\n",
       "       [1073,    1]])"
      ]
     },
     "execution_count": 157,
     "metadata": {},
     "output_type": "execute_result"
    }
   ],
   "source": [
    "confusion_matrix = np.array([\n",
    "    [tn, fp],\n",
    "    [fn, tp]\n",
    "])\n",
    "\n",
    "confusion_matrix"
   ]
  },
  {
   "cell_type": "code",
   "execution_count": 158,
   "id": "bec439f2",
   "metadata": {},
   "outputs": [
    {
     "data": {
      "text/plain": [
       "array([[0.88, 0.  ],\n",
       "       [0.12, 0.  ]])"
      ]
     },
     "execution_count": 158,
     "metadata": {},
     "output_type": "execute_result"
    }
   ],
   "source": [
    "(confusion_matrix/confusion_matrix.sum()).round(2)"
   ]
  },
  {
   "cell_type": "markdown",
   "id": "0f9804bb",
   "metadata": {},
   "source": [
    "##### Precision"
   ]
  },
  {
   "cell_type": "code",
   "execution_count": 159,
   "id": "b7c6d73b",
   "metadata": {},
   "outputs": [
    {
     "data": {
      "text/plain": [
       "0.88"
      ]
     },
     "execution_count": 159,
     "metadata": {},
     "output_type": "execute_result"
    }
   ],
   "source": [
    "accuracy = (tp + tn) / (tp + fp + tn + fn)\n",
    "accuracy.round(2)"
   ]
  },
  {
   "cell_type": "code",
   "execution_count": 160,
   "id": "892ef8ce",
   "metadata": {},
   "outputs": [
    {
     "data": {
      "text/plain": [
       "1.0"
      ]
     },
     "execution_count": 160,
     "metadata": {},
     "output_type": "execute_result"
    }
   ],
   "source": [
    "precision = tp / (tp + fp)\n",
    "precision"
   ]
  },
  {
   "cell_type": "code",
   "execution_count": 161,
   "id": "37819de1",
   "metadata": {},
   "outputs": [
    {
     "data": {
      "text/plain": [
       "(1, 1)"
      ]
     },
     "execution_count": 161,
     "metadata": {},
     "output_type": "execute_result"
    }
   ],
   "source": [
    "tp, tp + fp"
   ]
  },
  {
   "cell_type": "markdown",
   "id": "8db6f5f0",
   "metadata": {},
   "source": [
    "#### Observation: "
   ]
  },
  {
   "cell_type": "markdown",
   "id": "55c650fd",
   "metadata": {},
   "source": [
    "##### Recall"
   ]
  },
  {
   "cell_type": "code",
   "execution_count": 162,
   "id": "0287fa99",
   "metadata": {},
   "outputs": [
    {
     "data": {
      "text/plain": [
       "0.000931098696461825"
      ]
     },
     "execution_count": 162,
     "metadata": {},
     "output_type": "execute_result"
    }
   ],
   "source": [
    "Recall = tp / (tp + fn)\n",
    "Recall"
   ]
  },
  {
   "cell_type": "code",
   "execution_count": 163,
   "id": "cc2ade4b",
   "metadata": {},
   "outputs": [
    {
     "data": {
      "text/plain": [
       "(1, 1074)"
      ]
     },
     "execution_count": 163,
     "metadata": {},
     "output_type": "execute_result"
    }
   ],
   "source": [
    " tp, (tp + fn)"
   ]
  },
  {
   "cell_type": "code",
   "execution_count": 164,
   "id": "1c85a158",
   "metadata": {},
   "outputs": [
    {
     "name": "stderr",
     "output_type": "stream",
     "text": [
      "C:\\Users\\HP\\AppData\\Local\\Temp\\ipykernel_12580\\1631998820.py:20: RuntimeWarning: invalid value encountered in scalar divide\n",
      "  precision = tp / (tp + fp)\n"
     ]
    },
    {
     "data": {
      "text/plain": [
       "[(0.0, 0.11877903118779032, 1.0),\n",
       " (0.01, 0.11877903118779032, 1.0),\n",
       " (0.02, 0.11877903118779032, 1.0),\n",
       " (0.03, 0.11877903118779032, 1.0),\n",
       " (0.04, 0.11877903118779032, 1.0),\n",
       " (0.05, 0.11877903118779032, 1.0),\n",
       " (0.06, 0.11877903118779032, 1.0),\n",
       " (0.07, 0.11879216900785311, 1.0),\n",
       " (0.08, 0.11881845336873548, 1.0),\n",
       " (0.09, 0.11888345195729537, 0.9953445065176909),\n",
       " (0.1, 0.11915804495183732, 0.9329608938547486),\n",
       " (0.11, 0.11579302207989213, 0.6396648044692738),\n",
       " (0.12, 0.11583637100040502, 0.26629422718808193),\n",
       " (0.13, 0.11007268951194185, 0.09869646182495345),\n",
       " (0.14, 0.1227154046997389, 0.043761638733705775),\n",
       " (0.15, 0.12318840579710146, 0.015828677839851025),\n",
       " (0.16, 0.07246376811594203, 0.004655493482309125),\n",
       " (0.17, 0.15625, 0.004655493482309125),\n",
       " (0.18, 0.15, 0.002793296089385475),\n",
       " (0.19, 0.2727272727272727, 0.002793296089385475),\n",
       " (0.2, 0.16666666666666666, 0.000931098696461825),\n",
       " (0.21, 0.2, 0.000931098696461825),\n",
       " (0.22, 0.3333333333333333, 0.000931098696461825),\n",
       " (0.23, 0.3333333333333333, 0.000931098696461825),\n",
       " (0.24, 0.5, 0.000931098696461825),\n",
       " (0.25, 0.5, 0.000931098696461825),\n",
       " (0.26, 0.5, 0.000931098696461825),\n",
       " (0.27, 0.5, 0.000931098696461825),\n",
       " (0.28, 0.5, 0.000931098696461825),\n",
       " (0.29, 0.5, 0.000931098696461825),\n",
       " (0.3, 1.0, 0.000931098696461825),\n",
       " (0.31, 1.0, 0.000931098696461825),\n",
       " (0.32, 1.0, 0.000931098696461825),\n",
       " (0.33, 1.0, 0.000931098696461825),\n",
       " (0.34, 1.0, 0.000931098696461825),\n",
       " (0.35000000000000003, 1.0, 0.000931098696461825),\n",
       " (0.36, 1.0, 0.000931098696461825),\n",
       " (0.37, 1.0, 0.000931098696461825),\n",
       " (0.38, 1.0, 0.000931098696461825),\n",
       " (0.39, 1.0, 0.000931098696461825),\n",
       " (0.4, 1.0, 0.000931098696461825),\n",
       " (0.41000000000000003, 1.0, 0.000931098696461825),\n",
       " (0.42, 1.0, 0.000931098696461825),\n",
       " (0.43, 1.0, 0.000931098696461825),\n",
       " (0.44, 1.0, 0.000931098696461825),\n",
       " (0.45, 1.0, 0.000931098696461825),\n",
       " (0.46, 1.0, 0.000931098696461825),\n",
       " (0.47000000000000003, 1.0, 0.000931098696461825),\n",
       " (0.48, 1.0, 0.000931098696461825),\n",
       " (0.49, 1.0, 0.000931098696461825),\n",
       " (0.5, 1.0, 0.000931098696461825),\n",
       " (0.51, 1.0, 0.000931098696461825),\n",
       " (0.52, 1.0, 0.000931098696461825),\n",
       " (0.53, 1.0, 0.000931098696461825),\n",
       " (0.54, 1.0, 0.000931098696461825),\n",
       " (0.55, 1.0, 0.000931098696461825),\n",
       " (0.56, 1.0, 0.000931098696461825),\n",
       " (0.5700000000000001, 1.0, 0.000931098696461825),\n",
       " (0.58, 1.0, 0.000931098696461825),\n",
       " (0.59, 1.0, 0.000931098696461825),\n",
       " (0.6, 1.0, 0.000931098696461825),\n",
       " (0.61, 1.0, 0.000931098696461825),\n",
       " (0.62, 1.0, 0.000931098696461825),\n",
       " (0.63, 1.0, 0.000931098696461825),\n",
       " (0.64, 1.0, 0.000931098696461825),\n",
       " (0.65, 1.0, 0.000931098696461825),\n",
       " (0.66, 1.0, 0.000931098696461825),\n",
       " (0.67, 1.0, 0.000931098696461825),\n",
       " (0.68, 1.0, 0.000931098696461825),\n",
       " (0.6900000000000001, 1.0, 0.000931098696461825),\n",
       " (0.7000000000000001, 1.0, 0.000931098696461825),\n",
       " (0.71, 1.0, 0.000931098696461825),\n",
       " (0.72, 1.0, 0.000931098696461825),\n",
       " (0.73, 1.0, 0.000931098696461825),\n",
       " (0.74, 1.0, 0.000931098696461825),\n",
       " (0.75, 1.0, 0.000931098696461825),\n",
       " (0.76, 1.0, 0.000931098696461825),\n",
       " (0.77, 1.0, 0.000931098696461825),\n",
       " (0.78, 1.0, 0.000931098696461825),\n",
       " (0.79, 1.0, 0.000931098696461825),\n",
       " (0.8, 1.0, 0.000931098696461825),\n",
       " (0.81, 1.0, 0.000931098696461825),\n",
       " (0.8200000000000001, 1.0, 0.000931098696461825),\n",
       " (0.8300000000000001, 1.0, 0.000931098696461825),\n",
       " (0.84, 1.0, 0.000931098696461825),\n",
       " (0.85, 1.0, 0.000931098696461825),\n",
       " (0.86, 1.0, 0.000931098696461825),\n",
       " (0.87, 1.0, 0.000931098696461825),\n",
       " (0.88, 1.0, 0.000931098696461825),\n",
       " (0.89, 1.0, 0.000931098696461825),\n",
       " (0.9, 1.0, 0.000931098696461825),\n",
       " (0.91, 1.0, 0.000931098696461825),\n",
       " (0.92, 1.0, 0.000931098696461825),\n",
       " (0.93, 1.0, 0.000931098696461825),\n",
       " (0.9400000000000001, 1.0, 0.000931098696461825),\n",
       " (0.9500000000000001, 1.0, 0.000931098696461825),\n",
       " (0.96, 1.0, 0.000931098696461825),\n",
       " (0.97, 1.0, 0.000931098696461825),\n",
       " (0.98, nan, 0.0),\n",
       " (0.99, nan, 0.0)]"
      ]
     },
     "execution_count": 164,
     "metadata": {},
     "output_type": "execute_result"
    }
   ],
   "source": [
    "thresholds = np.arange(0.0, 1, step = 0.01)\n",
    "\n",
    "scores = []\n",
    "\n",
    "for t in thresholds:\n",
    "    #Actual values\n",
    "    actual_positive = (y_val == 1)\n",
    "    actual_negative = (y_val == 0)\n",
    "    \n",
    "    #Prediction values\n",
    "    predict_positive = (y_pred >= t)\n",
    "    predict_negative = (y_pred < t)\n",
    "    \n",
    "    tp = (actual_positive & predict_positive).sum()\n",
    "    tn = (actual_negative & predict_negative).sum()\n",
    "\n",
    "    fp = (predict_positive & actual_negative).sum()\n",
    "    fn = (predict_negative & actual_positive).sum()\n",
    "    \n",
    "    precision = tp / (tp + fp) \n",
    "    recall = tp / (tp + fn)\n",
    "\n",
    "    \n",
    "    \n",
    "    scores.append((t, precision, recall))\n",
    "    \n",
    "    \n",
    "scores"
   ]
  },
  {
   "cell_type": "code",
   "execution_count": 165,
   "id": "6c608033",
   "metadata": {},
   "outputs": [
    {
     "data": {
      "text/html": [
       "<div>\n",
       "<style scoped>\n",
       "    .dataframe tbody tr th:only-of-type {\n",
       "        vertical-align: middle;\n",
       "    }\n",
       "\n",
       "    .dataframe tbody tr th {\n",
       "        vertical-align: top;\n",
       "    }\n",
       "\n",
       "    .dataframe thead th {\n",
       "        text-align: right;\n",
       "    }\n",
       "</style>\n",
       "<table border=\"1\" class=\"dataframe\">\n",
       "  <thead>\n",
       "    <tr style=\"text-align: right;\">\n",
       "      <th></th>\n",
       "      <th>threshold</th>\n",
       "      <th>precision</th>\n",
       "      <th>recall</th>\n",
       "    </tr>\n",
       "  </thead>\n",
       "  <tbody>\n",
       "    <tr>\n",
       "      <th>0</th>\n",
       "      <td>0.00</td>\n",
       "      <td>0.118779</td>\n",
       "      <td>1.000000</td>\n",
       "    </tr>\n",
       "    <tr>\n",
       "      <th>1</th>\n",
       "      <td>0.01</td>\n",
       "      <td>0.118779</td>\n",
       "      <td>1.000000</td>\n",
       "    </tr>\n",
       "    <tr>\n",
       "      <th>2</th>\n",
       "      <td>0.02</td>\n",
       "      <td>0.118779</td>\n",
       "      <td>1.000000</td>\n",
       "    </tr>\n",
       "    <tr>\n",
       "      <th>3</th>\n",
       "      <td>0.03</td>\n",
       "      <td>0.118779</td>\n",
       "      <td>1.000000</td>\n",
       "    </tr>\n",
       "    <tr>\n",
       "      <th>4</th>\n",
       "      <td>0.04</td>\n",
       "      <td>0.118779</td>\n",
       "      <td>1.000000</td>\n",
       "    </tr>\n",
       "    <tr>\n",
       "      <th>...</th>\n",
       "      <td>...</td>\n",
       "      <td>...</td>\n",
       "      <td>...</td>\n",
       "    </tr>\n",
       "    <tr>\n",
       "      <th>95</th>\n",
       "      <td>0.95</td>\n",
       "      <td>1.000000</td>\n",
       "      <td>0.000931</td>\n",
       "    </tr>\n",
       "    <tr>\n",
       "      <th>96</th>\n",
       "      <td>0.96</td>\n",
       "      <td>1.000000</td>\n",
       "      <td>0.000931</td>\n",
       "    </tr>\n",
       "    <tr>\n",
       "      <th>97</th>\n",
       "      <td>0.97</td>\n",
       "      <td>1.000000</td>\n",
       "      <td>0.000931</td>\n",
       "    </tr>\n",
       "    <tr>\n",
       "      <th>98</th>\n",
       "      <td>0.98</td>\n",
       "      <td>NaN</td>\n",
       "      <td>0.000000</td>\n",
       "    </tr>\n",
       "    <tr>\n",
       "      <th>99</th>\n",
       "      <td>0.99</td>\n",
       "      <td>NaN</td>\n",
       "      <td>0.000000</td>\n",
       "    </tr>\n",
       "  </tbody>\n",
       "</table>\n",
       "<p>100 rows × 3 columns</p>\n",
       "</div>"
      ],
      "text/plain": [
       "    threshold  precision    recall\n",
       "0        0.00   0.118779  1.000000\n",
       "1        0.01   0.118779  1.000000\n",
       "2        0.02   0.118779  1.000000\n",
       "3        0.03   0.118779  1.000000\n",
       "4        0.04   0.118779  1.000000\n",
       "..        ...        ...       ...\n",
       "95       0.95   1.000000  0.000931\n",
       "96       0.96   1.000000  0.000931\n",
       "97       0.97   1.000000  0.000931\n",
       "98       0.98        NaN  0.000000\n",
       "99       0.99        NaN  0.000000\n",
       "\n",
       "[100 rows x 3 columns]"
      ]
     },
     "execution_count": 165,
     "metadata": {},
     "output_type": "execute_result"
    }
   ],
   "source": [
    "columns = ['threshold', 'precision', 'recall']\n",
    "df_scores = pd.DataFrame(scores, columns = columns)\n",
    "    \n",
    "df_scores"
   ]
  },
  {
   "cell_type": "code",
   "execution_count": 167,
   "id": "98884995",
   "metadata": {},
   "outputs": [
    {
     "data": {
      "text/plain": [
       "<matplotlib.legend.Legend at 0x1b09056c3a0>"
      ]
     },
     "execution_count": 167,
     "metadata": {},
     "output_type": "execute_result"
    },
    {
     "data": {
      "image/png": "[encoded data removed]",
      "text/plain": [
       "<Figure size 640x480 with 1 Axes>"
      ]
     },
     "metadata": {},
     "output_type": "display_data"
    }
   ],
   "source": [
    "plt.plot(df_scores.threshold, df_scores.recall, label = 'Recall')\n",
    "plt.plot(df_scores.threshold, df_scores.precision, label = 'Precision')\n",
    "plt.ylabel(\"value\")\n",
    "plt.xlabel(\"threshold\")\n",
    "plt.title(\"Train Precision-Recall curve\")\n",
    "plt.legend()"
   ]
  },
  {
   "cell_type": "code",
   "execution_count": 168,
   "id": "ddee614b",
   "metadata": {},
   "outputs": [
    {
     "data": {
      "text/plain": [
       "(100, 3)"
      ]
     },
     "execution_count": 168,
     "metadata": {},
     "output_type": "execute_result"
    }
   ],
   "source": [
    "df_scores.shape"
   ]
  },
  {
   "cell_type": "code",
   "execution_count": null,
   "id": "8e757792",
   "metadata": {},
   "outputs": [],
   "source": []
  },
  {
   "cell_type": "code",
   "execution_count": 182,
   "id": "bd13ca98",
   "metadata": {},
   "outputs": [],
   "source": [
    "# #### code from google' Gemini\n",
    "\n",
    "\n",
    "# precision = df_scores.recall.values\n",
    "# recall = df_scores.precision.values\n",
    "\n",
    "# # Threshold values\n",
    "# thresholds = np.arange(0.0, 1, step = 0.01)\n",
    "\n",
    "# # Find the intersection point\n",
    "# intersection_index = np.argmin(abs(precision - recall))\n",
    "# intersection_point = (thresholds[intersection_index], precision[intersection_index])\n",
    "\n",
    "# # Plot the precision-recall curve\n",
    "# plt.plot(thresholds, precision, label='Precision')\n",
    "# plt.plot(thresholds, recall, label='Recall')\n",
    "# plt.scatter(intersection_point[0], intersection_point[1], color='red', label='Intersection')\n",
    "\n",
    "# # Annotate the intersection point\n",
    "# plt.annotate(f'Intersection: ({intersection_point[0]:.2f}, {intersection_point[1]:.2f})',\n",
    "#              xy=intersection_point, xytext=(10, 10), textcoords='offset points',\n",
    "#              arrowprops=dict(arrowstyle=\"->\"))\n",
    "\n",
    "# plt.xlabel('Threshold')\n",
    "# plt.ylabel('Value')\n",
    "# plt.title('Precision-Recall Curve')\n",
    "# plt.legend()\n",
    "# plt.grid(True)\n",
    "# plt.show()"
   ]
  },
  {
   "cell_type": "markdown",
   "id": "c563ccb2",
   "metadata": {},
   "source": [
    "#### Question 4"
   ]
  },
  {
   "cell_type": "markdown",
   "id": "258ec0d1",
   "metadata": {},
   "source": [
    "#### F1 Score"
   ]
  },
  {
   "cell_type": "code",
   "execution_count": 173,
   "id": "1eb8ccd2",
   "metadata": {},
   "outputs": [
    {
     "name": "stderr",
     "output_type": "stream",
     "text": [
      "C:\\Users\\HP\\AppData\\Local\\Temp\\ipykernel_12580\\3386545271.py:20: RuntimeWarning: invalid value encountered in scalar divide\n",
      "  precision = tp / (tp + fp)\n"
     ]
    },
    {
     "data": {
      "text/plain": [
       "[(0.0, 0.11877903118779032, 1.0),\n",
       " (0.01, 0.11877903118779032, 1.0),\n",
       " (0.02, 0.11877903118779032, 1.0),\n",
       " (0.03, 0.11877903118779032, 1.0),\n",
       " (0.04, 0.11877903118779032, 1.0),\n",
       " (0.05, 0.11877903118779032, 1.0),\n",
       " (0.06, 0.11877903118779032, 1.0),\n",
       " (0.07, 0.11879216900785311, 1.0),\n",
       " (0.08, 0.11881845336873548, 1.0),\n",
       " (0.09, 0.11888345195729537, 0.9953445065176909),\n",
       " (0.1, 0.11915804495183732, 0.9329608938547486),\n",
       " (0.11, 0.11579302207989213, 0.6396648044692738),\n",
       " (0.12, 0.11583637100040502, 0.26629422718808193),\n",
       " (0.13, 0.11007268951194185, 0.09869646182495345),\n",
       " (0.14, 0.1227154046997389, 0.043761638733705775),\n",
       " (0.15, 0.12318840579710146, 0.015828677839851025),\n",
       " (0.16, 0.07246376811594203, 0.004655493482309125),\n",
       " (0.17, 0.15625, 0.004655493482309125),\n",
       " (0.18, 0.15, 0.002793296089385475),\n",
       " (0.19, 0.2727272727272727, 0.002793296089385475),\n",
       " (0.2, 0.16666666666666666, 0.000931098696461825),\n",
       " (0.21, 0.2, 0.000931098696461825),\n",
       " (0.22, 0.3333333333333333, 0.000931098696461825),\n",
       " (0.23, 0.3333333333333333, 0.000931098696461825),\n",
       " (0.24, 0.5, 0.000931098696461825),\n",
       " (0.25, 0.5, 0.000931098696461825),\n",
       " (0.26, 0.5, 0.000931098696461825),\n",
       " (0.27, 0.5, 0.000931098696461825),\n",
       " (0.28, 0.5, 0.000931098696461825),\n",
       " (0.29, 0.5, 0.000931098696461825),\n",
       " (0.3, 1.0, 0.000931098696461825),\n",
       " (0.31, 1.0, 0.000931098696461825),\n",
       " (0.32, 1.0, 0.000931098696461825),\n",
       " (0.33, 1.0, 0.000931098696461825),\n",
       " (0.34, 1.0, 0.000931098696461825),\n",
       " (0.35000000000000003, 1.0, 0.000931098696461825),\n",
       " (0.36, 1.0, 0.000931098696461825),\n",
       " (0.37, 1.0, 0.000931098696461825),\n",
       " (0.38, 1.0, 0.000931098696461825),\n",
       " (0.39, 1.0, 0.000931098696461825),\n",
       " (0.4, 1.0, 0.000931098696461825),\n",
       " (0.41000000000000003, 1.0, 0.000931098696461825),\n",
       " (0.42, 1.0, 0.000931098696461825),\n",
       " (0.43, 1.0, 0.000931098696461825),\n",
       " (0.44, 1.0, 0.000931098696461825),\n",
       " (0.45, 1.0, 0.000931098696461825),\n",
       " (0.46, 1.0, 0.000931098696461825),\n",
       " (0.47000000000000003, 1.0, 0.000931098696461825),\n",
       " (0.48, 1.0, 0.000931098696461825),\n",
       " (0.49, 1.0, 0.000931098696461825),\n",
       " (0.5, 1.0, 0.000931098696461825),\n",
       " (0.51, 1.0, 0.000931098696461825),\n",
       " (0.52, 1.0, 0.000931098696461825),\n",
       " (0.53, 1.0, 0.000931098696461825),\n",
       " (0.54, 1.0, 0.000931098696461825),\n",
       " (0.55, 1.0, 0.000931098696461825),\n",
       " (0.56, 1.0, 0.000931098696461825),\n",
       " (0.5700000000000001, 1.0, 0.000931098696461825),\n",
       " (0.58, 1.0, 0.000931098696461825),\n",
       " (0.59, 1.0, 0.000931098696461825),\n",
       " (0.6, 1.0, 0.000931098696461825),\n",
       " (0.61, 1.0, 0.000931098696461825),\n",
       " (0.62, 1.0, 0.000931098696461825),\n",
       " (0.63, 1.0, 0.000931098696461825),\n",
       " (0.64, 1.0, 0.000931098696461825),\n",
       " (0.65, 1.0, 0.000931098696461825),\n",
       " (0.66, 1.0, 0.000931098696461825),\n",
       " (0.67, 1.0, 0.000931098696461825),\n",
       " (0.68, 1.0, 0.000931098696461825),\n",
       " (0.6900000000000001, 1.0, 0.000931098696461825),\n",
       " (0.7000000000000001, 1.0, 0.000931098696461825),\n",
       " (0.71, 1.0, 0.000931098696461825),\n",
       " (0.72, 1.0, 0.000931098696461825),\n",
       " (0.73, 1.0, 0.000931098696461825),\n",
       " (0.74, 1.0, 0.000931098696461825),\n",
       " (0.75, 1.0, 0.000931098696461825),\n",
       " (0.76, 1.0, 0.000931098696461825),\n",
       " (0.77, 1.0, 0.000931098696461825),\n",
       " (0.78, 1.0, 0.000931098696461825),\n",
       " (0.79, 1.0, 0.000931098696461825),\n",
       " (0.8, 1.0, 0.000931098696461825),\n",
       " (0.81, 1.0, 0.000931098696461825),\n",
       " (0.8200000000000001, 1.0, 0.000931098696461825),\n",
       " (0.8300000000000001, 1.0, 0.000931098696461825),\n",
       " (0.84, 1.0, 0.000931098696461825),\n",
       " (0.85, 1.0, 0.000931098696461825),\n",
       " (0.86, 1.0, 0.000931098696461825),\n",
       " (0.87, 1.0, 0.000931098696461825),\n",
       " (0.88, 1.0, 0.000931098696461825),\n",
       " (0.89, 1.0, 0.000931098696461825),\n",
       " (0.9, 1.0, 0.000931098696461825),\n",
       " (0.91, 1.0, 0.000931098696461825),\n",
       " (0.92, 1.0, 0.000931098696461825),\n",
       " (0.93, 1.0, 0.000931098696461825),\n",
       " (0.9400000000000001, 1.0, 0.000931098696461825),\n",
       " (0.9500000000000001, 1.0, 0.000931098696461825),\n",
       " (0.96, 1.0, 0.000931098696461825),\n",
       " (0.97, 1.0, 0.000931098696461825),\n",
       " (0.98, nan, 0.0),\n",
       " (0.99, nan, 0.0)]"
      ]
     },
     "execution_count": 173,
     "metadata": {},
     "output_type": "execute_result"
    }
   ],
   "source": [
    "thresholds = np.arange(0.0, 1, step = 0.01)\n",
    "\n",
    "f1_scores = []\n",
    "\n",
    "for t in thresholds:\n",
    "    #Actual values\n",
    "    actual_positive = (y_val == 1)\n",
    "    actual_negative = (y_val == 0)\n",
    "    \n",
    "    #Prediction values\n",
    "    predict_positive = (y_pred >= t)\n",
    "    predict_negative = (y_pred < t)\n",
    "    \n",
    "    tp = (actual_positive & predict_positive).sum()\n",
    "    tn = (actual_negative & predict_negative).sum()\n",
    "\n",
    "    fp = (predict_positive & actual_negative).sum()\n",
    "    fn = (predict_negative & actual_positive).sum()\n",
    "    \n",
    "    precision = tp / (tp + fp) \n",
    "    recall = tp / (tp + fn)\n",
    "    \n",
    "    #f1 score formula\n",
    "    P_R = precision * recall\n",
    "    P_P_R = precision + recall\n",
    "    \n",
    "    f1_score = 2* (P_R/P_P_R)\n",
    "    \n",
    "    f1_scores.append((t, precision, recall, f1_score))\n",
    "    \n",
    "    \n",
    "scores"
   ]
  },
  {
   "cell_type": "code",
   "execution_count": 176,
   "id": "e3e3cc13",
   "metadata": {},
   "outputs": [
    {
     "data": {
      "text/html": [
       "<div>\n",
       "<style scoped>\n",
       "    .dataframe tbody tr th:only-of-type {\n",
       "        vertical-align: middle;\n",
       "    }\n",
       "\n",
       "    .dataframe tbody tr th {\n",
       "        vertical-align: top;\n",
       "    }\n",
       "\n",
       "    .dataframe thead th {\n",
       "        text-align: right;\n",
       "    }\n",
       "</style>\n",
       "<table border=\"1\" class=\"dataframe\">\n",
       "  <thead>\n",
       "    <tr style=\"text-align: right;\">\n",
       "      <th></th>\n",
       "      <th>threshold</th>\n",
       "      <th>precision</th>\n",
       "      <th>recall</th>\n",
       "      <th>f1_score</th>\n",
       "    </tr>\n",
       "  </thead>\n",
       "  <tbody>\n",
       "    <tr>\n",
       "      <th>0</th>\n",
       "      <td>0.00</td>\n",
       "      <td>0.118779</td>\n",
       "      <td>1.000000</td>\n",
       "      <td>0.212337</td>\n",
       "    </tr>\n",
       "    <tr>\n",
       "      <th>1</th>\n",
       "      <td>0.01</td>\n",
       "      <td>0.118779</td>\n",
       "      <td>1.000000</td>\n",
       "      <td>0.212337</td>\n",
       "    </tr>\n",
       "    <tr>\n",
       "      <th>2</th>\n",
       "      <td>0.02</td>\n",
       "      <td>0.118779</td>\n",
       "      <td>1.000000</td>\n",
       "      <td>0.212337</td>\n",
       "    </tr>\n",
       "    <tr>\n",
       "      <th>3</th>\n",
       "      <td>0.03</td>\n",
       "      <td>0.118779</td>\n",
       "      <td>1.000000</td>\n",
       "      <td>0.212337</td>\n",
       "    </tr>\n",
       "    <tr>\n",
       "      <th>4</th>\n",
       "      <td>0.04</td>\n",
       "      <td>0.118779</td>\n",
       "      <td>1.000000</td>\n",
       "      <td>0.212337</td>\n",
       "    </tr>\n",
       "    <tr>\n",
       "      <th>...</th>\n",
       "      <td>...</td>\n",
       "      <td>...</td>\n",
       "      <td>...</td>\n",
       "      <td>...</td>\n",
       "    </tr>\n",
       "    <tr>\n",
       "      <th>95</th>\n",
       "      <td>0.95</td>\n",
       "      <td>1.000000</td>\n",
       "      <td>0.000931</td>\n",
       "      <td>0.001860</td>\n",
       "    </tr>\n",
       "    <tr>\n",
       "      <th>96</th>\n",
       "      <td>0.96</td>\n",
       "      <td>1.000000</td>\n",
       "      <td>0.000931</td>\n",
       "      <td>0.001860</td>\n",
       "    </tr>\n",
       "    <tr>\n",
       "      <th>97</th>\n",
       "      <td>0.97</td>\n",
       "      <td>1.000000</td>\n",
       "      <td>0.000931</td>\n",
       "      <td>0.001860</td>\n",
       "    </tr>\n",
       "    <tr>\n",
       "      <th>98</th>\n",
       "      <td>0.98</td>\n",
       "      <td>NaN</td>\n",
       "      <td>0.000000</td>\n",
       "      <td>NaN</td>\n",
       "    </tr>\n",
       "    <tr>\n",
       "      <th>99</th>\n",
       "      <td>0.99</td>\n",
       "      <td>NaN</td>\n",
       "      <td>0.000000</td>\n",
       "      <td>NaN</td>\n",
       "    </tr>\n",
       "  </tbody>\n",
       "</table>\n",
       "<p>100 rows × 4 columns</p>\n",
       "</div>"
      ],
      "text/plain": [
       "    threshold  precision    recall  f1_score\n",
       "0        0.00   0.118779  1.000000  0.212337\n",
       "1        0.01   0.118779  1.000000  0.212337\n",
       "2        0.02   0.118779  1.000000  0.212337\n",
       "3        0.03   0.118779  1.000000  0.212337\n",
       "4        0.04   0.118779  1.000000  0.212337\n",
       "..        ...        ...       ...       ...\n",
       "95       0.95   1.000000  0.000931  0.001860\n",
       "96       0.96   1.000000  0.000931  0.001860\n",
       "97       0.97   1.000000  0.000931  0.001860\n",
       "98       0.98        NaN  0.000000       NaN\n",
       "99       0.99        NaN  0.000000       NaN\n",
       "\n",
       "[100 rows x 4 columns]"
      ]
     },
     "execution_count": 176,
     "metadata": {},
     "output_type": "execute_result"
    }
   ],
   "source": [
    "columns = ['threshold', 'precision', 'recall', 'f1_score']\n",
    "df_f1scores = pd.DataFrame(f1_scores, columns = columns)\n",
    "    \n",
    "df_f1scores"
   ]
  },
  {
   "cell_type": "code",
   "execution_count": 178,
   "id": "2397e04b",
   "metadata": {},
   "outputs": [
    {
     "data": {
      "text/plain": [
       "Text(0, 0.5, 'f1_score')"
      ]
     },
     "execution_count": 178,
     "metadata": {},
     "output_type": "execute_result"
    },
    {
     "data": {
      "image/png": "[encoded data removed]",
      "text/plain": [
       "<Figure size 640x480 with 1 Axes>"
      ]
     },
     "metadata": {},
     "output_type": "display_data"
    }
   ],
   "source": [
    "plt.plot(df_f1scores.threshold, df_f1scores.f1_score)\n",
    "plt.xlabel('threshold')\n",
    "plt.ylabel('f1_score')"
   ]
  },
  {
   "cell_type": "markdown",
   "id": "a9b8bdc2",
   "metadata": {},
   "source": [
    "####  F1_score is maximum at 0.02"
   ]
  },
  {
   "cell_type": "markdown",
   "id": "3f6b6054",
   "metadata": {},
   "source": [
    "### Question 5 kfold"
   ]
  },
  {
   "cell_type": "code",
   "execution_count": 183,
   "id": "f6b4c48a",
   "metadata": {},
   "outputs": [],
   "source": [
    "from sklearn.model_selection import KFold"
   ]
  },
  {
   "cell_type": "code",
   "execution_count": 184,
   "id": "eb1020ce",
   "metadata": {},
   "outputs": [],
   "source": [
    "from tqdm.auto import tqdm"
   ]
  },
  {
   "cell_type": "code",
   "execution_count": 185,
   "id": "097ee8d2",
   "metadata": {},
   "outputs": [],
   "source": [
    "kfold = KFold(n_splits=5, shuffle=True, random_state=1)"
   ]
  },
  {
   "cell_type": "code",
   "execution_count": 186,
   "id": "4f2becb5",
   "metadata": {},
   "outputs": [
    {
     "data": {
      "text/plain": [
       "(36168, 28934, 7234)"
      ]
     },
     "execution_count": 186,
     "metadata": {},
     "output_type": "execute_result"
    }
   ],
   "source": [
    "train_idx, val_idx = next(kfold.split(df_full_train))\n",
    "\n",
    "len(df_full_train), len(train_idx), len(val_idx)"
   ]
  },
  {
   "cell_type": "code",
   "execution_count": 188,
   "id": "e854e80f",
   "metadata": {},
   "outputs": [],
   "source": [
    "# df_train = df_full_train.iloc[train_idx]\n",
    "# df_val = df_full_train.iloc[val_idx]"
   ]
  },
  {
   "cell_type": "code",
   "execution_count": 190,
   "id": "10ac1290",
   "metadata": {},
   "outputs": [
    {
     "data": {
      "application/vnd.jupyter.widget-view+json": {
       "model_id": "67aecf9b44b2413b85bb17c64fa4ac1b",
       "version_major": 2,
       "version_minor": 0
      },
      "text/plain": [
       "0it [00:00, ?it/s]"
      ]
     },
     "metadata": {},
     "output_type": "display_data"
    }
   ],
   "source": [
    "kfoldscores = []\n",
    "\n",
    "for train_idx, val_idx in tqdm(kfold.split(df_full_train)):\n",
    "    df_train = df_full_train.iloc[train_idx]\n",
    "    df_val = df_full_train.iloc[val_idx]\n",
    "    \n",
    "    y_train = df_train.y.values\n",
    "    y_val = df_val.y.values\n",
    "    \n",
    "    dv, model = train(df_train, y_train)\n",
    "    y_pred = predict(df_val, dv, model)\n",
    "    \n",
    "    auc = roc_auc_score(y_val, y_pred)\n",
    "    kfoldscores.append(auc)"
   ]
  },
  {
   "cell_type": "code",
   "execution_count": 191,
   "id": "59a4dd9f",
   "metadata": {},
   "outputs": [
    {
     "data": {
      "text/plain": [
       "[0.8993883806356288,\n",
       " 0.8989055268937651,\n",
       " 0.9112102229960733,\n",
       " 0.9080952264469403,\n",
       " 0.9100912737695956]"
      ]
     },
     "execution_count": 191,
     "metadata": {},
     "output_type": "execute_result"
    }
   ],
   "source": [
    "kfoldscores"
   ]
  },
  {
   "cell_type": "code",
   "execution_count": 194,
   "id": "a9ba1909",
   "metadata": {},
   "outputs": [
    {
     "name": "stdout",
     "output_type": "stream",
     "text": [
      "0.906 +- 0.005\n"
     ]
    }
   ],
   "source": [
    "print('%.3f +- %.3f' % (np.mean(kfoldscores), np.std(kfoldscores)))"
   ]
  },
  {
   "cell_type": "markdown",
   "id": "111aea29",
   "metadata": {},
   "source": [
    "### Question 6"
   ]
  },
  {
   "cell_type": "markdown",
   "id": "9d350517",
   "metadata": {},
   "source": [
    "#### Hyperparameter Tuning"
   ]
  },
  {
   "cell_type": "code",
   "execution_count": 195,
   "id": "370c1eb5",
   "metadata": {},
   "outputs": [
    {
     "data": {
      "application/vnd.jupyter.widget-view+json": {
       "model_id": "e321333825f54a63b12b2cf79736b055",
       "version_major": 2,
       "version_minor": 0
      },
      "text/plain": [
       "  0%|          | 0/3 [00:00<?, ?it/s]"
      ]
     },
     "metadata": {},
     "output_type": "display_data"
    },
    {
     "name": "stdout",
     "output_type": "stream",
     "text": [
      "C = 1e-06 0.701 +-0.009\n",
      "C = 0.001 0.861 +-0.007\n",
      "C = 1 0.906 +-0.005\n"
     ]
    }
   ],
   "source": [
    "C = [0.000001, 0.001, 1]\n",
    "\n",
    "n_splits = 5\n",
    "\n",
    "for c in tqdm(C):\n",
    "    scores = []\n",
    "    \n",
    "    kfold = KFold(n_splits = n_splits, shuffle = True, random_state = 1)\n",
    "\n",
    "    for train_idx, val_idx in kfold.split(df_full_train):\n",
    "        df_train = df_full_train.iloc[train_idx]\n",
    "        df_val = df_full_train.iloc[val_idx]\n",
    "\n",
    "        y_train = df_train.y.values\n",
    "        y_val = df_val.y.values\n",
    "\n",
    "        dv, model = train(df_train, y_train, C = c)\n",
    "        y_pred = predict(df_val, dv, model)\n",
    "\n",
    "        auc = roc_auc_score(y_val, y_pred)\n",
    "        scores.append(auc)\n",
    "\n",
    "    print('C = %s %.3f +-%.3f' % (c, np.mean(scores), np.std(scores)))\n"
   ]
  },
  {
   "cell_type": "markdown",
   "id": "6ea68cc5",
   "metadata": {},
   "source": [
    "#### C = 1 leads to the best mean score"
   ]
  }
 ],
 "metadata": {
  "kernelspec": {
   "display_name": "Python 3 (ipykernel)",
   "language": "python",
   "name": "python3"
  },
  "language_info": {
   "codemirror_mode": {
    "name": "ipython",
    "version": 3
   },
   "file_extension": ".py",
   "mimetype": "text/x-python",
   "name": "python",
   "nbconvert_exporter": "python",
   "pygments_lexer": "ipython3",
   "version": "3.9.18"
  }
 },
 "nbformat": 4,
 "nbformat_minor": 5
}
