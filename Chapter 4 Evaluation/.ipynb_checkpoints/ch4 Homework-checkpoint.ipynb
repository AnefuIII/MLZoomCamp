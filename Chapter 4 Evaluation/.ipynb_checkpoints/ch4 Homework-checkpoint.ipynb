{
 "cells": [
  {
   "cell_type": "code",
   "execution_count": 1,
   "id": "7e27a12f",
   "metadata": {},
   "outputs": [],
   "source": [
    "import pandas as pd\n",
    "import numpy as np\n",
    "\n",
    "import seaborn as sns\n",
    "from matplotlib import pyplot as plt\n",
    "%matplotlib inline\n",
    "\n",
    "from sklearn.model_selection import train_test_split\n",
    "from sklearn.linear_model import LogisticRegression\n",
    "from sklearn.feature_extraction import DictVectorizer\n",
    "\n",
    "from sklearn.metrics import roc_auc_score"
   ]
  },
  {
   "cell_type": "code",
   "execution_count": 2,
   "id": "f17c01c7",
   "metadata": {},
   "outputs": [],
   "source": [
    "# data = 'wget https://archive.ics.uci.edu/static/public/222/bank+marketing.zip'\n",
    "# !wget $data"
   ]
  },
  {
   "cell_type": "code",
   "execution_count": 3,
   "id": "aa7c49f4",
   "metadata": {},
   "outputs": [
    {
     "data": {
      "text/html": [
       "<div>\n",
       "<style scoped>\n",
       "    .dataframe tbody tr th:only-of-type {\n",
       "        vertical-align: middle;\n",
       "    }\n",
       "\n",
       "    .dataframe tbody tr th {\n",
       "        vertical-align: top;\n",
       "    }\n",
       "\n",
       "    .dataframe thead th {\n",
       "        text-align: right;\n",
       "    }\n",
       "</style>\n",
       "<table border=\"1\" class=\"dataframe\">\n",
       "  <thead>\n",
       "    <tr style=\"text-align: right;\">\n",
       "      <th></th>\n",
       "      <th>age</th>\n",
       "      <th>job</th>\n",
       "      <th>marital</th>\n",
       "      <th>education</th>\n",
       "      <th>default</th>\n",
       "      <th>balance</th>\n",
       "      <th>housing</th>\n",
       "      <th>loan</th>\n",
       "      <th>contact</th>\n",
       "      <th>day</th>\n",
       "      <th>month</th>\n",
       "      <th>duration</th>\n",
       "      <th>campaign</th>\n",
       "      <th>pdays</th>\n",
       "      <th>previous</th>\n",
       "      <th>poutcome</th>\n",
       "      <th>y</th>\n",
       "    </tr>\n",
       "  </thead>\n",
       "  <tbody>\n",
       "    <tr>\n",
       "      <th>0</th>\n",
       "      <td>58</td>\n",
       "      <td>management</td>\n",
       "      <td>married</td>\n",
       "      <td>tertiary</td>\n",
       "      <td>no</td>\n",
       "      <td>2143</td>\n",
       "      <td>yes</td>\n",
       "      <td>no</td>\n",
       "      <td>unknown</td>\n",
       "      <td>5</td>\n",
       "      <td>may</td>\n",
       "      <td>261</td>\n",
       "      <td>1</td>\n",
       "      <td>-1</td>\n",
       "      <td>0</td>\n",
       "      <td>unknown</td>\n",
       "      <td>no</td>\n",
       "    </tr>\n",
       "    <tr>\n",
       "      <th>1</th>\n",
       "      <td>44</td>\n",
       "      <td>technician</td>\n",
       "      <td>single</td>\n",
       "      <td>secondary</td>\n",
       "      <td>no</td>\n",
       "      <td>29</td>\n",
       "      <td>yes</td>\n",
       "      <td>no</td>\n",
       "      <td>unknown</td>\n",
       "      <td>5</td>\n",
       "      <td>may</td>\n",
       "      <td>151</td>\n",
       "      <td>1</td>\n",
       "      <td>-1</td>\n",
       "      <td>0</td>\n",
       "      <td>unknown</td>\n",
       "      <td>no</td>\n",
       "    </tr>\n",
       "    <tr>\n",
       "      <th>2</th>\n",
       "      <td>33</td>\n",
       "      <td>entrepreneur</td>\n",
       "      <td>married</td>\n",
       "      <td>secondary</td>\n",
       "      <td>no</td>\n",
       "      <td>2</td>\n",
       "      <td>yes</td>\n",
       "      <td>yes</td>\n",
       "      <td>unknown</td>\n",
       "      <td>5</td>\n",
       "      <td>may</td>\n",
       "      <td>76</td>\n",
       "      <td>1</td>\n",
       "      <td>-1</td>\n",
       "      <td>0</td>\n",
       "      <td>unknown</td>\n",
       "      <td>no</td>\n",
       "    </tr>\n",
       "    <tr>\n",
       "      <th>3</th>\n",
       "      <td>47</td>\n",
       "      <td>blue-collar</td>\n",
       "      <td>married</td>\n",
       "      <td>unknown</td>\n",
       "      <td>no</td>\n",
       "      <td>1506</td>\n",
       "      <td>yes</td>\n",
       "      <td>no</td>\n",
       "      <td>unknown</td>\n",
       "      <td>5</td>\n",
       "      <td>may</td>\n",
       "      <td>92</td>\n",
       "      <td>1</td>\n",
       "      <td>-1</td>\n",
       "      <td>0</td>\n",
       "      <td>unknown</td>\n",
       "      <td>no</td>\n",
       "    </tr>\n",
       "    <tr>\n",
       "      <th>4</th>\n",
       "      <td>33</td>\n",
       "      <td>unknown</td>\n",
       "      <td>single</td>\n",
       "      <td>unknown</td>\n",
       "      <td>no</td>\n",
       "      <td>1</td>\n",
       "      <td>no</td>\n",
       "      <td>no</td>\n",
       "      <td>unknown</td>\n",
       "      <td>5</td>\n",
       "      <td>may</td>\n",
       "      <td>198</td>\n",
       "      <td>1</td>\n",
       "      <td>-1</td>\n",
       "      <td>0</td>\n",
       "      <td>unknown</td>\n",
       "      <td>no</td>\n",
       "    </tr>\n",
       "  </tbody>\n",
       "</table>\n",
       "</div>"
      ],
      "text/plain": [
       "   age           job  marital  education default  balance housing loan  \\\n",
       "0   58    management  married   tertiary      no     2143     yes   no   \n",
       "1   44    technician   single  secondary      no       29     yes   no   \n",
       "2   33  entrepreneur  married  secondary      no        2     yes  yes   \n",
       "3   47   blue-collar  married    unknown      no     1506     yes   no   \n",
       "4   33       unknown   single    unknown      no        1      no   no   \n",
       "\n",
       "   contact  day month  duration  campaign  pdays  previous poutcome   y  \n",
       "0  unknown    5   may       261         1     -1         0  unknown  no  \n",
       "1  unknown    5   may       151         1     -1         0  unknown  no  \n",
       "2  unknown    5   may        76         1     -1         0  unknown  no  \n",
       "3  unknown    5   may        92         1     -1         0  unknown  no  \n",
       "4  unknown    5   may       198         1     -1         0  unknown  no  "
      ]
     },
     "execution_count": 3,
     "metadata": {},
     "output_type": "execute_result"
    }
   ],
   "source": [
    "df = pd.read_csv('bank-full.csv', sep=';')\n",
    "df.head()"
   ]
  },
  {
   "cell_type": "code",
   "execution_count": 4,
   "id": "67e0c56a",
   "metadata": {},
   "outputs": [
    {
     "data": {
      "text/plain": [
       "(45211, 17)"
      ]
     },
     "execution_count": 4,
     "metadata": {},
     "output_type": "execute_result"
    }
   ],
   "source": [
    "df.shape"
   ]
  },
  {
   "cell_type": "code",
   "execution_count": 5,
   "id": "fcfcf6b6",
   "metadata": {},
   "outputs": [],
   "source": [
    "remove = ['default', 'loan']\n",
    "\n",
    "df = df.drop(remove, axis = 1)"
   ]
  },
  {
   "cell_type": "code",
   "execution_count": 6,
   "id": "15c62331",
   "metadata": {},
   "outputs": [
    {
     "data": {
      "text/plain": [
       "(45211, 15)"
      ]
     },
     "execution_count": 6,
     "metadata": {},
     "output_type": "execute_result"
    }
   ],
   "source": [
    "df.shape"
   ]
  },
  {
   "cell_type": "code",
   "execution_count": 7,
   "id": "9845c613",
   "metadata": {},
   "outputs": [
    {
     "data": {
      "text/html": [
       "<div>\n",
       "<style scoped>\n",
       "    .dataframe tbody tr th:only-of-type {\n",
       "        vertical-align: middle;\n",
       "    }\n",
       "\n",
       "    .dataframe tbody tr th {\n",
       "        vertical-align: top;\n",
       "    }\n",
       "\n",
       "    .dataframe thead th {\n",
       "        text-align: right;\n",
       "    }\n",
       "</style>\n",
       "<table border=\"1\" class=\"dataframe\">\n",
       "  <thead>\n",
       "    <tr style=\"text-align: right;\">\n",
       "      <th></th>\n",
       "      <th>age</th>\n",
       "      <th>job</th>\n",
       "      <th>marital</th>\n",
       "      <th>education</th>\n",
       "      <th>balance</th>\n",
       "      <th>housing</th>\n",
       "      <th>contact</th>\n",
       "      <th>day</th>\n",
       "      <th>month</th>\n",
       "      <th>duration</th>\n",
       "      <th>campaign</th>\n",
       "      <th>pdays</th>\n",
       "      <th>previous</th>\n",
       "      <th>poutcome</th>\n",
       "      <th>y</th>\n",
       "    </tr>\n",
       "  </thead>\n",
       "  <tbody>\n",
       "    <tr>\n",
       "      <th>0</th>\n",
       "      <td>58</td>\n",
       "      <td>management</td>\n",
       "      <td>married</td>\n",
       "      <td>tertiary</td>\n",
       "      <td>2143</td>\n",
       "      <td>yes</td>\n",
       "      <td>unknown</td>\n",
       "      <td>5</td>\n",
       "      <td>may</td>\n",
       "      <td>261</td>\n",
       "      <td>1</td>\n",
       "      <td>-1</td>\n",
       "      <td>0</td>\n",
       "      <td>unknown</td>\n",
       "      <td>no</td>\n",
       "    </tr>\n",
       "    <tr>\n",
       "      <th>1</th>\n",
       "      <td>44</td>\n",
       "      <td>technician</td>\n",
       "      <td>single</td>\n",
       "      <td>secondary</td>\n",
       "      <td>29</td>\n",
       "      <td>yes</td>\n",
       "      <td>unknown</td>\n",
       "      <td>5</td>\n",
       "      <td>may</td>\n",
       "      <td>151</td>\n",
       "      <td>1</td>\n",
       "      <td>-1</td>\n",
       "      <td>0</td>\n",
       "      <td>unknown</td>\n",
       "      <td>no</td>\n",
       "    </tr>\n",
       "    <tr>\n",
       "      <th>2</th>\n",
       "      <td>33</td>\n",
       "      <td>entrepreneur</td>\n",
       "      <td>married</td>\n",
       "      <td>secondary</td>\n",
       "      <td>2</td>\n",
       "      <td>yes</td>\n",
       "      <td>unknown</td>\n",
       "      <td>5</td>\n",
       "      <td>may</td>\n",
       "      <td>76</td>\n",
       "      <td>1</td>\n",
       "      <td>-1</td>\n",
       "      <td>0</td>\n",
       "      <td>unknown</td>\n",
       "      <td>no</td>\n",
       "    </tr>\n",
       "    <tr>\n",
       "      <th>3</th>\n",
       "      <td>47</td>\n",
       "      <td>blue-collar</td>\n",
       "      <td>married</td>\n",
       "      <td>unknown</td>\n",
       "      <td>1506</td>\n",
       "      <td>yes</td>\n",
       "      <td>unknown</td>\n",
       "      <td>5</td>\n",
       "      <td>may</td>\n",
       "      <td>92</td>\n",
       "      <td>1</td>\n",
       "      <td>-1</td>\n",
       "      <td>0</td>\n",
       "      <td>unknown</td>\n",
       "      <td>no</td>\n",
       "    </tr>\n",
       "    <tr>\n",
       "      <th>4</th>\n",
       "      <td>33</td>\n",
       "      <td>unknown</td>\n",
       "      <td>single</td>\n",
       "      <td>unknown</td>\n",
       "      <td>1</td>\n",
       "      <td>no</td>\n",
       "      <td>unknown</td>\n",
       "      <td>5</td>\n",
       "      <td>may</td>\n",
       "      <td>198</td>\n",
       "      <td>1</td>\n",
       "      <td>-1</td>\n",
       "      <td>0</td>\n",
       "      <td>unknown</td>\n",
       "      <td>no</td>\n",
       "    </tr>\n",
       "  </tbody>\n",
       "</table>\n",
       "</div>"
      ],
      "text/plain": [
       "   age           job  marital  education  balance housing  contact  day month  \\\n",
       "0   58    management  married   tertiary     2143     yes  unknown    5   may   \n",
       "1   44    technician   single  secondary       29     yes  unknown    5   may   \n",
       "2   33  entrepreneur  married  secondary        2     yes  unknown    5   may   \n",
       "3   47   blue-collar  married    unknown     1506     yes  unknown    5   may   \n",
       "4   33       unknown   single    unknown        1      no  unknown    5   may   \n",
       "\n",
       "   duration  campaign  pdays  previous poutcome   y  \n",
       "0       261         1     -1         0  unknown  no  \n",
       "1       151         1     -1         0  unknown  no  \n",
       "2        76         1     -1         0  unknown  no  \n",
       "3        92         1     -1         0  unknown  no  \n",
       "4       198         1     -1         0  unknown  no  "
      ]
     },
     "execution_count": 7,
     "metadata": {},
     "output_type": "execute_result"
    }
   ],
   "source": [
    "df.head()"
   ]
  },
  {
   "cell_type": "code",
   "execution_count": 8,
   "id": "f8df1bfc",
   "metadata": {},
   "outputs": [
    {
     "data": {
      "text/plain": [
       "age          0\n",
       "job          0\n",
       "marital      0\n",
       "education    0\n",
       "balance      0\n",
       "housing      0\n",
       "contact      0\n",
       "day          0\n",
       "month        0\n",
       "duration     0\n",
       "campaign     0\n",
       "pdays        0\n",
       "previous     0\n",
       "poutcome     0\n",
       "y            0\n",
       "dtype: int64"
      ]
     },
     "execution_count": 8,
     "metadata": {},
     "output_type": "execute_result"
    }
   ],
   "source": [
    "df.isnull().sum()"
   ]
  },
  {
   "cell_type": "code",
   "execution_count": 9,
   "id": "00d1ca1f",
   "metadata": {},
   "outputs": [
    {
     "data": {
      "text/plain": [
       "age           int64\n",
       "job          object\n",
       "marital      object\n",
       "education    object\n",
       "balance       int64\n",
       "housing      object\n",
       "contact      object\n",
       "day           int64\n",
       "month        object\n",
       "duration      int64\n",
       "campaign      int64\n",
       "pdays         int64\n",
       "previous      int64\n",
       "poutcome     object\n",
       "y            object\n",
       "dtype: object"
      ]
     },
     "execution_count": 9,
     "metadata": {},
     "output_type": "execute_result"
    }
   ],
   "source": [
    "df.dtypes"
   ]
  },
  {
   "cell_type": "code",
   "execution_count": 10,
   "id": "0ba65c57",
   "metadata": {},
   "outputs": [
    {
     "data": {
      "text/plain": [
       "Index(['age', 'job', 'marital', 'education', 'balance', 'housing', 'contact',\n",
       "       'day', 'month', 'duration', 'campaign', 'pdays', 'previous', 'poutcome',\n",
       "       'y'],\n",
       "      dtype='object')"
      ]
     },
     "execution_count": 10,
     "metadata": {},
     "output_type": "execute_result"
    }
   ],
   "source": [
    "df.columns"
   ]
  },
  {
   "cell_type": "code",
   "execution_count": 11,
   "id": "211dbda5",
   "metadata": {},
   "outputs": [],
   "source": [
    "#convert to numbers\n",
    "\n",
    "df.y = (df.y == 'yes').astype(int)"
   ]
  },
  {
   "cell_type": "code",
   "execution_count": 12,
   "id": "34037b1d",
   "metadata": {},
   "outputs": [
    {
     "data": {
      "text/html": [
       "<div>\n",
       "<style scoped>\n",
       "    .dataframe tbody tr th:only-of-type {\n",
       "        vertical-align: middle;\n",
       "    }\n",
       "\n",
       "    .dataframe tbody tr th {\n",
       "        vertical-align: top;\n",
       "    }\n",
       "\n",
       "    .dataframe thead th {\n",
       "        text-align: right;\n",
       "    }\n",
       "</style>\n",
       "<table border=\"1\" class=\"dataframe\">\n",
       "  <thead>\n",
       "    <tr style=\"text-align: right;\">\n",
       "      <th></th>\n",
       "      <th>age</th>\n",
       "      <th>job</th>\n",
       "      <th>marital</th>\n",
       "      <th>education</th>\n",
       "      <th>balance</th>\n",
       "      <th>housing</th>\n",
       "      <th>contact</th>\n",
       "      <th>day</th>\n",
       "      <th>month</th>\n",
       "      <th>duration</th>\n",
       "      <th>campaign</th>\n",
       "      <th>pdays</th>\n",
       "      <th>previous</th>\n",
       "      <th>poutcome</th>\n",
       "      <th>y</th>\n",
       "    </tr>\n",
       "  </thead>\n",
       "  <tbody>\n",
       "    <tr>\n",
       "      <th>0</th>\n",
       "      <td>58</td>\n",
       "      <td>management</td>\n",
       "      <td>married</td>\n",
       "      <td>tertiary</td>\n",
       "      <td>2143</td>\n",
       "      <td>yes</td>\n",
       "      <td>unknown</td>\n",
       "      <td>5</td>\n",
       "      <td>may</td>\n",
       "      <td>261</td>\n",
       "      <td>1</td>\n",
       "      <td>-1</td>\n",
       "      <td>0</td>\n",
       "      <td>unknown</td>\n",
       "      <td>0</td>\n",
       "    </tr>\n",
       "    <tr>\n",
       "      <th>1</th>\n",
       "      <td>44</td>\n",
       "      <td>technician</td>\n",
       "      <td>single</td>\n",
       "      <td>secondary</td>\n",
       "      <td>29</td>\n",
       "      <td>yes</td>\n",
       "      <td>unknown</td>\n",
       "      <td>5</td>\n",
       "      <td>may</td>\n",
       "      <td>151</td>\n",
       "      <td>1</td>\n",
       "      <td>-1</td>\n",
       "      <td>0</td>\n",
       "      <td>unknown</td>\n",
       "      <td>0</td>\n",
       "    </tr>\n",
       "    <tr>\n",
       "      <th>2</th>\n",
       "      <td>33</td>\n",
       "      <td>entrepreneur</td>\n",
       "      <td>married</td>\n",
       "      <td>secondary</td>\n",
       "      <td>2</td>\n",
       "      <td>yes</td>\n",
       "      <td>unknown</td>\n",
       "      <td>5</td>\n",
       "      <td>may</td>\n",
       "      <td>76</td>\n",
       "      <td>1</td>\n",
       "      <td>-1</td>\n",
       "      <td>0</td>\n",
       "      <td>unknown</td>\n",
       "      <td>0</td>\n",
       "    </tr>\n",
       "    <tr>\n",
       "      <th>3</th>\n",
       "      <td>47</td>\n",
       "      <td>blue-collar</td>\n",
       "      <td>married</td>\n",
       "      <td>unknown</td>\n",
       "      <td>1506</td>\n",
       "      <td>yes</td>\n",
       "      <td>unknown</td>\n",
       "      <td>5</td>\n",
       "      <td>may</td>\n",
       "      <td>92</td>\n",
       "      <td>1</td>\n",
       "      <td>-1</td>\n",
       "      <td>0</td>\n",
       "      <td>unknown</td>\n",
       "      <td>0</td>\n",
       "    </tr>\n",
       "    <tr>\n",
       "      <th>4</th>\n",
       "      <td>33</td>\n",
       "      <td>unknown</td>\n",
       "      <td>single</td>\n",
       "      <td>unknown</td>\n",
       "      <td>1</td>\n",
       "      <td>no</td>\n",
       "      <td>unknown</td>\n",
       "      <td>5</td>\n",
       "      <td>may</td>\n",
       "      <td>198</td>\n",
       "      <td>1</td>\n",
       "      <td>-1</td>\n",
       "      <td>0</td>\n",
       "      <td>unknown</td>\n",
       "      <td>0</td>\n",
       "    </tr>\n",
       "  </tbody>\n",
       "</table>\n",
       "</div>"
      ],
      "text/plain": [
       "   age           job  marital  education  balance housing  contact  day month  \\\n",
       "0   58    management  married   tertiary     2143     yes  unknown    5   may   \n",
       "1   44    technician   single  secondary       29     yes  unknown    5   may   \n",
       "2   33  entrepreneur  married  secondary        2     yes  unknown    5   may   \n",
       "3   47   blue-collar  married    unknown     1506     yes  unknown    5   may   \n",
       "4   33       unknown   single    unknown        1      no  unknown    5   may   \n",
       "\n",
       "   duration  campaign  pdays  previous poutcome  y  \n",
       "0       261         1     -1         0  unknown  0  \n",
       "1       151         1     -1         0  unknown  0  \n",
       "2        76         1     -1         0  unknown  0  \n",
       "3        92         1     -1         0  unknown  0  \n",
       "4       198         1     -1         0  unknown  0  "
      ]
     },
     "execution_count": 12,
     "metadata": {},
     "output_type": "execute_result"
    }
   ],
   "source": [
    "df.head()"
   ]
  },
  {
   "cell_type": "code",
   "execution_count": 13,
   "id": "bbf7a2a8",
   "metadata": {},
   "outputs": [],
   "source": [
    "numerical = ['age', 'balance', 'day', 'duration', 'campaign', 'pdays', 'previous']\n",
    "\n",
    "categorical = ['job', 'marital', 'education', 'housing', 'contact', 'month', 'poutcome']"
   ]
  },
  {
   "cell_type": "markdown",
   "id": "c1cd2008",
   "metadata": {},
   "source": [
    "### EVALUATION ASSIGNMENT"
   ]
  },
  {
   "cell_type": "code",
   "execution_count": 14,
   "id": "c9218617",
   "metadata": {},
   "outputs": [
    {
     "name": "stdout",
     "output_type": "stream",
     "text": [
      "lenght of full train is 36168,\n",
      "lenght of test is 9043\n",
      "length of validation is 9042\n"
     ]
    }
   ],
   "source": [
    "df_full_train, df_test = train_test_split(df, test_size = 0.2, random_state = 1) # \n",
    "\n",
    "# further divide the full train to obtain 20 percent for the validation\n",
    "# 25% of 80% is 20% of the original dataset length\n",
    "df_train, df_val = train_test_split(df_full_train, test_size = 0.25, random_state = 1) \n",
    "\n",
    "print(f'lenght of full train is {len(df_full_train)},\\nlenght of test is {len(df_test)}\\n'\n",
    "      f'length of validation is {len(df_val)}')\n"
   ]
  },
  {
   "cell_type": "code",
   "execution_count": 15,
   "id": "473016a1",
   "metadata": {},
   "outputs": [],
   "source": [
    "# reset index because the elements are now shuffled\n",
    "\n",
    "df_train = df_train.reset_index(drop = True)\n",
    "df_val = df_val.reset_index(drop = True)\n",
    "df_test = df_test.reset_index(drop = True)\n",
    "\n",
    "# target values\n",
    "\n",
    "y_train = df_train.y.values\n",
    "y_val = df_val.y.values\n",
    "y_test = df_test.y.values\n",
    "\n",
    "#Delet churn variable from the data frame\n",
    "\n",
    "del df_train['y']\n",
    "del df_val['y']\n",
    "del df_test['y']"
   ]
  },
  {
   "cell_type": "code",
   "execution_count": 16,
   "id": "817e0f06",
   "metadata": {},
   "outputs": [
    {
     "data": {
      "text/plain": [
       "array([0, 0, 0, ..., 0, 0, 0])"
      ]
     },
     "execution_count": 16,
     "metadata": {},
     "output_type": "execute_result"
    }
   ],
   "source": [
    "y_train"
   ]
  },
  {
   "cell_type": "markdown",
   "id": "d5729859",
   "metadata": {},
   "source": [
    "### Question 1"
   ]
  },
  {
   "cell_type": "code",
   "execution_count": 17,
   "id": "69bfeee0",
   "metadata": {},
   "outputs": [
    {
     "data": {
      "text/html": [
       "<div>\n",
       "<style scoped>\n",
       "    .dataframe tbody tr th:only-of-type {\n",
       "        vertical-align: middle;\n",
       "    }\n",
       "\n",
       "    .dataframe tbody tr th {\n",
       "        vertical-align: top;\n",
       "    }\n",
       "\n",
       "    .dataframe thead th {\n",
       "        text-align: right;\n",
       "    }\n",
       "</style>\n",
       "<table border=\"1\" class=\"dataframe\">\n",
       "  <thead>\n",
       "    <tr style=\"text-align: right;\">\n",
       "      <th></th>\n",
       "      <th>age</th>\n",
       "      <th>balance</th>\n",
       "      <th>day</th>\n",
       "      <th>duration</th>\n",
       "      <th>campaign</th>\n",
       "      <th>pdays</th>\n",
       "      <th>previous</th>\n",
       "    </tr>\n",
       "  </thead>\n",
       "  <tbody>\n",
       "    <tr>\n",
       "      <th>0</th>\n",
       "      <td>56</td>\n",
       "      <td>40</td>\n",
       "      <td>11</td>\n",
       "      <td>123</td>\n",
       "      <td>2</td>\n",
       "      <td>-1</td>\n",
       "      <td>0</td>\n",
       "    </tr>\n",
       "    <tr>\n",
       "      <th>1</th>\n",
       "      <td>33</td>\n",
       "      <td>4790</td>\n",
       "      <td>20</td>\n",
       "      <td>137</td>\n",
       "      <td>1</td>\n",
       "      <td>272</td>\n",
       "      <td>2</td>\n",
       "    </tr>\n",
       "    <tr>\n",
       "      <th>2</th>\n",
       "      <td>32</td>\n",
       "      <td>392</td>\n",
       "      <td>21</td>\n",
       "      <td>148</td>\n",
       "      <td>2</td>\n",
       "      <td>-1</td>\n",
       "      <td>0</td>\n",
       "    </tr>\n",
       "    <tr>\n",
       "      <th>3</th>\n",
       "      <td>40</td>\n",
       "      <td>2129</td>\n",
       "      <td>30</td>\n",
       "      <td>452</td>\n",
       "      <td>1</td>\n",
       "      <td>-1</td>\n",
       "      <td>0</td>\n",
       "    </tr>\n",
       "    <tr>\n",
       "      <th>4</th>\n",
       "      <td>54</td>\n",
       "      <td>1180</td>\n",
       "      <td>19</td>\n",
       "      <td>394</td>\n",
       "      <td>2</td>\n",
       "      <td>-1</td>\n",
       "      <td>0</td>\n",
       "    </tr>\n",
       "    <tr>\n",
       "      <th>...</th>\n",
       "      <td>...</td>\n",
       "      <td>...</td>\n",
       "      <td>...</td>\n",
       "      <td>...</td>\n",
       "      <td>...</td>\n",
       "      <td>...</td>\n",
       "      <td>...</td>\n",
       "    </tr>\n",
       "    <tr>\n",
       "      <th>27121</th>\n",
       "      <td>32</td>\n",
       "      <td>195</td>\n",
       "      <td>22</td>\n",
       "      <td>239</td>\n",
       "      <td>2</td>\n",
       "      <td>-1</td>\n",
       "      <td>0</td>\n",
       "    </tr>\n",
       "    <tr>\n",
       "      <th>27122</th>\n",
       "      <td>52</td>\n",
       "      <td>3720</td>\n",
       "      <td>20</td>\n",
       "      <td>114</td>\n",
       "      <td>2</td>\n",
       "      <td>-1</td>\n",
       "      <td>0</td>\n",
       "    </tr>\n",
       "    <tr>\n",
       "      <th>27123</th>\n",
       "      <td>52</td>\n",
       "      <td>289</td>\n",
       "      <td>21</td>\n",
       "      <td>45</td>\n",
       "      <td>13</td>\n",
       "      <td>-1</td>\n",
       "      <td>0</td>\n",
       "    </tr>\n",
       "    <tr>\n",
       "      <th>27124</th>\n",
       "      <td>32</td>\n",
       "      <td>312</td>\n",
       "      <td>11</td>\n",
       "      <td>67</td>\n",
       "      <td>4</td>\n",
       "      <td>-1</td>\n",
       "      <td>0</td>\n",
       "    </tr>\n",
       "    <tr>\n",
       "      <th>27125</th>\n",
       "      <td>38</td>\n",
       "      <td>580</td>\n",
       "      <td>30</td>\n",
       "      <td>572</td>\n",
       "      <td>6</td>\n",
       "      <td>-1</td>\n",
       "      <td>0</td>\n",
       "    </tr>\n",
       "  </tbody>\n",
       "</table>\n",
       "<p>27126 rows × 7 columns</p>\n",
       "</div>"
      ],
      "text/plain": [
       "       age  balance  day  duration  campaign  pdays  previous\n",
       "0       56       40   11       123         2     -1         0\n",
       "1       33     4790   20       137         1    272         2\n",
       "2       32      392   21       148         2     -1         0\n",
       "3       40     2129   30       452         1     -1         0\n",
       "4       54     1180   19       394         2     -1         0\n",
       "...    ...      ...  ...       ...       ...    ...       ...\n",
       "27121   32      195   22       239         2     -1         0\n",
       "27122   52     3720   20       114         2     -1         0\n",
       "27123   52      289   21        45        13     -1         0\n",
       "27124   32      312   11        67         4     -1         0\n",
       "27125   38      580   30       572         6     -1         0\n",
       "\n",
       "[27126 rows x 7 columns]"
      ]
     },
     "execution_count": 17,
     "metadata": {},
     "output_type": "execute_result"
    }
   ],
   "source": [
    "df_train[numerical]"
   ]
  },
  {
   "cell_type": "code",
   "execution_count": 18,
   "id": "68bd5abd",
   "metadata": {},
   "outputs": [],
   "source": [
    "roc_auc = []\n",
    "\n",
    "for feature in df_train[numerical].columns:\n",
    "    model = LogisticRegression(solver='liblinear', C=1.0, max_iter=1000, random_state=42)\n",
    "    model.fit(df_train[feature].to_frame(), y_train) #.to_frame will it 1D array\n",
    "    \n",
    "    y_pred = model.predict_proba(df_val[feature].to_frame())[:, 1]\n",
    "    \n",
    "    roc_auc.append(roc_auc_score(y_val, y_pred))"
   ]
  },
  {
   "cell_type": "code",
   "execution_count": 19,
   "id": "c75a9372",
   "metadata": {},
   "outputs": [
    {
     "name": "stdout",
     "output_type": "stream",
     "text": [
      "[0.5019686989252637, 0.5995068851725284, 0.5352198426324892, 0.7965344730967409, 0.5762433459535511, 0.596249681284474, 0.607255799705406]\n"
     ]
    }
   ],
   "source": [
    "print(roc_auc)"
   ]
  },
  {
   "cell_type": "code",
   "execution_count": 20,
   "id": "18f420b3",
   "metadata": {},
   "outputs": [],
   "source": [
    "roc_values = pd.Series(roc_auc)\n",
    "roc_values.index = df_train[numerical].columns\n",
    "roc_values.sort_values(ascending = True, inplace = True)"
   ]
  },
  {
   "cell_type": "code",
   "execution_count": 21,
   "id": "159af177",
   "metadata": {},
   "outputs": [
    {
     "data": {
      "text/plain": [
       "age         0.501969\n",
       "day         0.535220\n",
       "campaign    0.576243\n",
       "pdays       0.596250\n",
       "balance     0.599507\n",
       "previous    0.607256\n",
       "duration    0.796534\n",
       "dtype: float64"
      ]
     },
     "execution_count": 21,
     "metadata": {},
     "output_type": "execute_result"
    }
   ],
   "source": [
    "roc_values"
   ]
  },
  {
   "cell_type": "code",
   "execution_count": 22,
   "id": "0cb1a2c2",
   "metadata": {},
   "outputs": [],
   "source": [
    "roc_dict = dict(roc_values)"
   ]
  },
  {
   "cell_type": "code",
   "execution_count": 23,
   "id": "5a211fb3",
   "metadata": {},
   "outputs": [
    {
     "name": "stdout",
     "output_type": "stream",
     "text": [
      "age 0.5019686989252637\n",
      "day 0.5352198426324892\n",
      "campaign 0.5762433459535511\n",
      "pdays 0.596249681284474\n",
      "balance 0.5995068851725284\n",
      "previous 0.607255799705406\n",
      "duration 0.7965344730967409\n"
     ]
    }
   ],
   "source": [
    "#inverst the scores/values\n",
    "\n",
    "roc_scores = []\n",
    "\n",
    "for key, value in roc_dict.items():\n",
    "    if value < 0.5:        \n",
    "        print(key, (value * -1))\n",
    "    else:\n",
    "        print(key, value)\n"
   ]
  },
  {
   "cell_type": "code",
   "execution_count": 24,
   "id": "c07fb9e4",
   "metadata": {},
   "outputs": [
    {
     "name": "stdout",
     "output_type": "stream",
     "text": [
      "age 0.5019686989252637\n",
      "day 0.5352198426324892\n",
      "campaign 0.5762433459535511\n",
      "pdays 0.596249681284474\n",
      "balance 0.5995068851725284\n",
      "previous 0.607255799705406\n",
      "duration 0.7965344730967409\n"
     ]
    }
   ],
   "source": [
    "#inverst the Variables\n",
    "\n",
    "roc_scores = []\n",
    "\n",
    "for key, value in roc_dict.items():\n",
    "    if value < 0.5:        \n",
    "        print(f'-{key}, {value}')\n",
    "    else:\n",
    "        print(key, value)\n"
   ]
  },
  {
   "cell_type": "markdown",
   "id": "e255f461",
   "metadata": {},
   "source": [
    "#### The highest auc is 'duration'"
   ]
  },
  {
   "cell_type": "markdown",
   "id": "7c8025ad",
   "metadata": {},
   "source": [
    "### Question 2 "
   ]
  },
  {
   "cell_type": "markdown",
   "id": "6210ade5",
   "metadata": {},
   "source": [
    "#### training the model"
   ]
  },
  {
   "cell_type": "code",
   "execution_count": 25,
   "id": "61342f8d",
   "metadata": {},
   "outputs": [
    {
     "data": {
      "text/html": [
       "<div>\n",
       "<style scoped>\n",
       "    .dataframe tbody tr th:only-of-type {\n",
       "        vertical-align: middle;\n",
       "    }\n",
       "\n",
       "    .dataframe tbody tr th {\n",
       "        vertical-align: top;\n",
       "    }\n",
       "\n",
       "    .dataframe thead th {\n",
       "        text-align: right;\n",
       "    }\n",
       "</style>\n",
       "<table border=\"1\" class=\"dataframe\">\n",
       "  <thead>\n",
       "    <tr style=\"text-align: right;\">\n",
       "      <th></th>\n",
       "      <th>age</th>\n",
       "      <th>job</th>\n",
       "      <th>marital</th>\n",
       "      <th>education</th>\n",
       "      <th>balance</th>\n",
       "      <th>housing</th>\n",
       "      <th>contact</th>\n",
       "      <th>day</th>\n",
       "      <th>month</th>\n",
       "      <th>duration</th>\n",
       "      <th>campaign</th>\n",
       "      <th>pdays</th>\n",
       "      <th>previous</th>\n",
       "      <th>poutcome</th>\n",
       "      <th>y</th>\n",
       "    </tr>\n",
       "  </thead>\n",
       "  <tbody>\n",
       "    <tr>\n",
       "      <th>22468</th>\n",
       "      <td>52</td>\n",
       "      <td>management</td>\n",
       "      <td>married</td>\n",
       "      <td>tertiary</td>\n",
       "      <td>0</td>\n",
       "      <td>no</td>\n",
       "      <td>cellular</td>\n",
       "      <td>22</td>\n",
       "      <td>aug</td>\n",
       "      <td>232</td>\n",
       "      <td>2</td>\n",
       "      <td>-1</td>\n",
       "      <td>0</td>\n",
       "      <td>unknown</td>\n",
       "      <td>0</td>\n",
       "    </tr>\n",
       "    <tr>\n",
       "      <th>6896</th>\n",
       "      <td>50</td>\n",
       "      <td>admin.</td>\n",
       "      <td>single</td>\n",
       "      <td>secondary</td>\n",
       "      <td>330</td>\n",
       "      <td>yes</td>\n",
       "      <td>unknown</td>\n",
       "      <td>28</td>\n",
       "      <td>may</td>\n",
       "      <td>24</td>\n",
       "      <td>1</td>\n",
       "      <td>-1</td>\n",
       "      <td>0</td>\n",
       "      <td>unknown</td>\n",
       "      <td>0</td>\n",
       "    </tr>\n",
       "  </tbody>\n",
       "</table>\n",
       "</div>"
      ],
      "text/plain": [
       "       age         job  marital  education  balance housing   contact  day  \\\n",
       "22468   52  management  married   tertiary        0      no  cellular   22   \n",
       "6896    50      admin.   single  secondary      330     yes   unknown   28   \n",
       "\n",
       "      month  duration  campaign  pdays  previous poutcome  y  \n",
       "22468   aug       232         2     -1         0  unknown  0  \n",
       "6896    may        24         1     -1         0  unknown  0  "
      ]
     },
     "execution_count": 25,
     "metadata": {},
     "output_type": "execute_result"
    }
   ],
   "source": [
    "df_full_train.head(2)"
   ]
  },
  {
   "cell_type": "code",
   "execution_count": 26,
   "id": "6b3f8858",
   "metadata": {},
   "outputs": [
    {
     "data": {
      "text/html": [
       "<div>\n",
       "<style scoped>\n",
       "    .dataframe tbody tr th:only-of-type {\n",
       "        vertical-align: middle;\n",
       "    }\n",
       "\n",
       "    .dataframe tbody tr th {\n",
       "        vertical-align: top;\n",
       "    }\n",
       "\n",
       "    .dataframe thead th {\n",
       "        text-align: right;\n",
       "    }\n",
       "</style>\n",
       "<table border=\"1\" class=\"dataframe\">\n",
       "  <thead>\n",
       "    <tr style=\"text-align: right;\">\n",
       "      <th></th>\n",
       "      <th>age</th>\n",
       "      <th>job</th>\n",
       "      <th>marital</th>\n",
       "      <th>education</th>\n",
       "      <th>balance</th>\n",
       "      <th>housing</th>\n",
       "      <th>contact</th>\n",
       "      <th>day</th>\n",
       "      <th>month</th>\n",
       "      <th>duration</th>\n",
       "      <th>campaign</th>\n",
       "      <th>pdays</th>\n",
       "      <th>previous</th>\n",
       "      <th>poutcome</th>\n",
       "    </tr>\n",
       "  </thead>\n",
       "  <tbody>\n",
       "    <tr>\n",
       "      <th>22468</th>\n",
       "      <td>52</td>\n",
       "      <td>management</td>\n",
       "      <td>married</td>\n",
       "      <td>tertiary</td>\n",
       "      <td>0</td>\n",
       "      <td>no</td>\n",
       "      <td>cellular</td>\n",
       "      <td>22</td>\n",
       "      <td>aug</td>\n",
       "      <td>232</td>\n",
       "      <td>2</td>\n",
       "      <td>-1</td>\n",
       "      <td>0</td>\n",
       "      <td>unknown</td>\n",
       "    </tr>\n",
       "    <tr>\n",
       "      <th>6896</th>\n",
       "      <td>50</td>\n",
       "      <td>admin.</td>\n",
       "      <td>single</td>\n",
       "      <td>secondary</td>\n",
       "      <td>330</td>\n",
       "      <td>yes</td>\n",
       "      <td>unknown</td>\n",
       "      <td>28</td>\n",
       "      <td>may</td>\n",
       "      <td>24</td>\n",
       "      <td>1</td>\n",
       "      <td>-1</td>\n",
       "      <td>0</td>\n",
       "      <td>unknown</td>\n",
       "    </tr>\n",
       "  </tbody>\n",
       "</table>\n",
       "</div>"
      ],
      "text/plain": [
       "       age         job  marital  education  balance housing   contact  day  \\\n",
       "22468   52  management  married   tertiary        0      no  cellular   22   \n",
       "6896    50      admin.   single  secondary      330     yes   unknown   28   \n",
       "\n",
       "      month  duration  campaign  pdays  previous poutcome  \n",
       "22468   aug       232         2     -1         0  unknown  \n",
       "6896    may        24         1     -1         0  unknown  "
      ]
     },
     "execution_count": 26,
     "metadata": {},
     "output_type": "execute_result"
    }
   ],
   "source": [
    "df_full_train.drop('y', axis = 1).head(2)"
   ]
  },
  {
   "cell_type": "code",
   "execution_count": 27,
   "id": "9ca183c6",
   "metadata": {},
   "outputs": [
    {
     "data": {
      "text/plain": [
       "((27126, 14), (27126,))"
      ]
     },
     "execution_count": 27,
     "metadata": {},
     "output_type": "execute_result"
    }
   ],
   "source": [
    "df_train.shape, y_train.shape"
   ]
  },
  {
   "cell_type": "code",
   "execution_count": 28,
   "id": "bc4f88e1",
   "metadata": {},
   "outputs": [
    {
     "data": {
      "text/plain": [
       "{'age': 56,\n",
       " 'job': 'entrepreneur',\n",
       " 'marital': 'married',\n",
       " 'education': 'tertiary',\n",
       " 'balance': 40,\n",
       " 'housing': 'no',\n",
       " 'contact': 'cellular',\n",
       " 'day': 11,\n",
       " 'month': 'jul',\n",
       " 'duration': 123,\n",
       " 'campaign': 2,\n",
       " 'pdays': -1,\n",
       " 'previous': 0,\n",
       " 'poutcome': 'unknown'}"
      ]
     },
     "execution_count": 28,
     "metadata": {},
     "output_type": "execute_result"
    }
   ],
   "source": [
    "train_dict = df_train.to_dict(orient = 'records') \n",
    "train_dict[0]"
   ]
  },
  {
   "cell_type": "code",
   "execution_count": 29,
   "id": "0858fc74",
   "metadata": {},
   "outputs": [],
   "source": [
    "# Training function\n",
    "\n",
    "def train(df_train, y_train, C = 1.0):\n",
    "    dicts = df_train.to_dict(orient = 'records') \n",
    "    \n",
    "    dv = DictVectorizer(sparse = False)\n",
    "    X_train = dv.fit_transform(dicts)\n",
    "    \n",
    "    model = LogisticRegression(solver='liblinear', C= C, max_iter=1000)\n",
    "    model.fit(X_train, y_train)\n",
    "    \n",
    "    return dv, model"
   ]
  },
  {
   "cell_type": "code",
   "execution_count": 30,
   "id": "025b75a7",
   "metadata": {},
   "outputs": [],
   "source": [
    "dv, model = train(df_train, y_train)"
   ]
  },
  {
   "cell_type": "code",
   "execution_count": 31,
   "id": "07fe17c1",
   "metadata": {},
   "outputs": [],
   "source": [
    "def predict(df_val, dv, model):\n",
    "    dicts = df_val.to_dict(orient = 'records')\n",
    "    \n",
    "    X_val = dv.transform(dicts)\n",
    "    \n",
    "    y_pred = model.predict_proba(X_val)[:, 1]\n",
    "    \n",
    "    return y_pred"
   ]
  },
  {
   "cell_type": "code",
   "execution_count": 32,
   "id": "bb33b737",
   "metadata": {},
   "outputs": [],
   "source": [
    "y_pred = predict(df_val, dv, model)"
   ]
  },
  {
   "cell_type": "code",
   "execution_count": 33,
   "id": "1a0c4059",
   "metadata": {},
   "outputs": [
    {
     "data": {
      "text/plain": [
       "array([0.03009281, 0.02324784, 0.02012681, ..., 0.24941775, 0.00209483,\n",
       "       0.03858191])"
      ]
     },
     "execution_count": 33,
     "metadata": {},
     "output_type": "execute_result"
    }
   ],
   "source": [
    "y_pred"
   ]
  },
  {
   "cell_type": "code",
   "execution_count": 34,
   "id": "7751d24e",
   "metadata": {},
   "outputs": [],
   "source": [
    "# AUC\n",
    "\n",
    "from sklearn.metrics import roc_auc_score"
   ]
  },
  {
   "cell_type": "code",
   "execution_count": 35,
   "id": "b86325dc",
   "metadata": {},
   "outputs": [
    {
     "data": {
      "text/plain": [
       "0.9"
      ]
     },
     "execution_count": 35,
     "metadata": {},
     "output_type": "execute_result"
    }
   ],
   "source": [
    "roc_auc_score(y_val, y_pred).round(3)"
   ]
  },
  {
   "cell_type": "markdown",
   "id": "3427246e",
   "metadata": {},
   "source": [
    "#### Observation: AUC = 0.9 but 0.89 is closest in list of options"
   ]
  },
  {
   "cell_type": "markdown",
   "id": "2ce04ca7",
   "metadata": {},
   "source": [
    "### Question 4 "
   ]
  },
  {
   "cell_type": "markdown",
   "id": "1b16cbc2",
   "metadata": {},
   "source": [
    "#### Precision and recall"
   ]
  },
  {
   "cell_type": "code",
   "execution_count": 36,
   "id": "72715ada",
   "metadata": {},
   "outputs": [],
   "source": [
    "from sklearn.metrics import precision_recall_curve"
   ]
  },
  {
   "cell_type": "code",
   "execution_count": 37,
   "id": "6f773288",
   "metadata": {},
   "outputs": [],
   "source": [
    "from collections import Counter"
   ]
  },
  {
   "cell_type": "code",
   "execution_count": 38,
   "id": "cfa01b29",
   "metadata": {},
   "outputs": [],
   "source": [
    "# precision, recall, thresholds = precision_recall_curve(y_val, y_pred)\n",
    "# #plt.fill_between(recall, precision)\n",
    "# plt.ylabel(\"Precision\")\n",
    "# plt.xlabel(\"Recall\")\n",
    "# plt.title(\"Train Precision-Recall curve\");"
   ]
  },
  {
   "cell_type": "code",
   "execution_count": 39,
   "id": "67544935",
   "metadata": {},
   "outputs": [
    {
     "data": {
      "text/plain": [
       "(9042,)"
      ]
     },
     "execution_count": 39,
     "metadata": {},
     "output_type": "execute_result"
    }
   ],
   "source": [
    "y_val.shape"
   ]
  },
  {
   "cell_type": "code",
   "execution_count": 40,
   "id": "e38807f8",
   "metadata": {},
   "outputs": [],
   "source": [
    "actual_positive = (y_val == 1)\n",
    "actual_negative = (y_val == 0)"
   ]
  },
  {
   "cell_type": "code",
   "execution_count": 41,
   "id": "db0d6da3",
   "metadata": {},
   "outputs": [
    {
     "data": {
      "text/plain": [
       "Counter({False: 7944, True: 1098})"
      ]
     },
     "execution_count": 41,
     "metadata": {},
     "output_type": "execute_result"
    }
   ],
   "source": [
    "Counter(actual_positive)"
   ]
  },
  {
   "cell_type": "code",
   "execution_count": 42,
   "id": "35ad22cd",
   "metadata": {},
   "outputs": [
    {
     "data": {
      "text/plain": [
       "Counter({0: 7944, 1: 1098})"
      ]
     },
     "execution_count": 42,
     "metadata": {},
     "output_type": "execute_result"
    }
   ],
   "source": [
    "Counter(y_val)"
   ]
  },
  {
   "cell_type": "code",
   "execution_count": 43,
   "id": "fc1ec4c8",
   "metadata": {},
   "outputs": [],
   "source": [
    "t = 0.5\n",
    "predict_positive = (y_pred >= t)\n",
    "predict_negative = (y_pred < t)"
   ]
  },
  {
   "cell_type": "code",
   "execution_count": 44,
   "id": "558939b6",
   "metadata": {},
   "outputs": [
    {
     "data": {
      "text/plain": [
       "Counter({True: 8478, False: 564})"
      ]
     },
     "execution_count": 44,
     "metadata": {},
     "output_type": "execute_result"
    }
   ],
   "source": [
    "Counter(predict_negative)"
   ]
  },
  {
   "cell_type": "code",
   "execution_count": 45,
   "id": "62258c41",
   "metadata": {},
   "outputs": [
    {
     "name": "stdout",
     "output_type": "stream",
     "text": [
      "371 7751\n"
     ]
    }
   ],
   "source": [
    "tp = (actual_positive & predict_positive).sum()\n",
    "tn = (actual_negative & predict_negative).sum()\n",
    "\n",
    "print(tp, tn)"
   ]
  },
  {
   "cell_type": "code",
   "execution_count": 46,
   "id": "ef756231",
   "metadata": {},
   "outputs": [
    {
     "name": "stdout",
     "output_type": "stream",
     "text": [
      "193 727\n"
     ]
    }
   ],
   "source": [
    "fp = (predict_positive & actual_negative).sum()\n",
    "fn = (predict_negative & actual_positive).sum()\n",
    "\n",
    "print(fp, fn)"
   ]
  },
  {
   "cell_type": "code",
   "execution_count": 47,
   "id": "4665b26e",
   "metadata": {},
   "outputs": [
    {
     "data": {
      "text/plain": [
       "array([[7751,  193],\n",
       "       [ 727,  371]])"
      ]
     },
     "execution_count": 47,
     "metadata": {},
     "output_type": "execute_result"
    }
   ],
   "source": [
    "confusion_matrix = np.array([\n",
    "    [tn, fp],\n",
    "    [fn, tp]\n",
    "])\n",
    "\n",
    "confusion_matrix"
   ]
  },
  {
   "cell_type": "code",
   "execution_count": 48,
   "id": "bec439f2",
   "metadata": {},
   "outputs": [
    {
     "data": {
      "text/plain": [
       "array([[0.86, 0.02],\n",
       "       [0.08, 0.04]])"
      ]
     },
     "execution_count": 48,
     "metadata": {},
     "output_type": "execute_result"
    }
   ],
   "source": [
    "(confusion_matrix/confusion_matrix.sum()).round(2)"
   ]
  },
  {
   "cell_type": "markdown",
   "id": "0f9804bb",
   "metadata": {},
   "source": [
    "##### Precision"
   ]
  },
  {
   "cell_type": "code",
   "execution_count": 49,
   "id": "b7c6d73b",
   "metadata": {},
   "outputs": [
    {
     "data": {
      "text/plain": [
       "0.9"
      ]
     },
     "execution_count": 49,
     "metadata": {},
     "output_type": "execute_result"
    }
   ],
   "source": [
    "accuracy = (tp + tn) / (tp + fp + tn + fn)\n",
    "accuracy.round(2)"
   ]
  },
  {
   "cell_type": "code",
   "execution_count": 50,
   "id": "892ef8ce",
   "metadata": {},
   "outputs": [
    {
     "data": {
      "text/plain": [
       "0.6578014184397163"
      ]
     },
     "execution_count": 50,
     "metadata": {},
     "output_type": "execute_result"
    }
   ],
   "source": [
    "precision = tp / (tp + fp)\n",
    "precision"
   ]
  },
  {
   "cell_type": "code",
   "execution_count": 51,
   "id": "37819de1",
   "metadata": {},
   "outputs": [
    {
     "data": {
      "text/plain": [
       "(371, 564)"
      ]
     },
     "execution_count": 51,
     "metadata": {},
     "output_type": "execute_result"
    }
   ],
   "source": [
    "tp, tp + fp"
   ]
  },
  {
   "cell_type": "markdown",
   "id": "8db6f5f0",
   "metadata": {},
   "source": [
    "#### Observation: "
   ]
  },
  {
   "cell_type": "markdown",
   "id": "55c650fd",
   "metadata": {},
   "source": [
    "##### Recall"
   ]
  },
  {
   "cell_type": "code",
   "execution_count": 52,
   "id": "0287fa99",
   "metadata": {},
   "outputs": [
    {
     "data": {
      "text/plain": [
       "0.33788706739526414"
      ]
     },
     "execution_count": 52,
     "metadata": {},
     "output_type": "execute_result"
    }
   ],
   "source": [
    "Recall = tp / (tp + fn)\n",
    "Recall"
   ]
  },
  {
   "cell_type": "code",
   "execution_count": 53,
   "id": "cc2ade4b",
   "metadata": {},
   "outputs": [
    {
     "data": {
      "text/plain": [
       "(371, 1098)"
      ]
     },
     "execution_count": 53,
     "metadata": {},
     "output_type": "execute_result"
    }
   ],
   "source": [
    " tp, (tp + fn)"
   ]
  },
  {
   "cell_type": "code",
   "execution_count": 54,
   "id": "1c85a158",
   "metadata": {},
   "outputs": [
    {
     "data": {
      "text/plain": [
       "[(0.0, 0.12143331121433311, 1.0),\n",
       " (0.01, 0.13559742191373328, 0.9963570127504554),\n",
       " (0.02, 0.15930622358256813, 0.9954462659380692),\n",
       " (0.03, 0.1869625042999656, 0.9899817850637522),\n",
       " (0.04, 0.21891058581706063, 0.9699453551912568),\n",
       " (0.05, 0.2533268812000968, 0.953551912568306),\n",
       " (0.06, 0.2884180790960452, 0.9298724954462659),\n",
       " (0.07, 0.31543837357052096, 0.9043715846994536),\n",
       " (0.08, 0.3427362482369535, 0.8852459016393442),\n",
       " (0.09, 0.365815931941222, 0.8615664845173042),\n",
       " (0.1, 0.38264462809917354, 0.843351548269581),\n",
       " (0.11, 0.39707187222715173, 0.8151183970856102),\n",
       " (0.12, 0.41445783132530123, 0.7832422586520947),\n",
       " (0.13, 0.4280593958013313, 0.761384335154827),\n",
       " (0.14, 0.43928764166216944, 0.7413479052823315),\n",
       " (0.15, 0.4505370265686829, 0.7258652094717668),\n",
       " (0.16, 0.4638805970149254, 0.7076502732240437),\n",
       " (0.17, 0.47470331043098063, 0.692167577413479),\n",
       " (0.18, 0.48753280839895013, 0.6766848816029144),\n",
       " (0.19, 0.49931506849315066, 0.6639344262295082),\n",
       " (0.2, 0.507132667617689, 0.6475409836065574),\n",
       " (0.21, 0.5177514792899408, 0.6375227686703097),\n",
       " (0.22, 0.5280122793553338, 0.6265938069216758),\n",
       " (0.23, 0.5374697824335214, 0.6074681238615665),\n",
       " (0.24, 0.5417362270450752, 0.5910746812386156),\n",
       " (0.25, 0.5517841601392516, 0.5774134790528234),\n",
       " (0.26, 0.5568487018800358, 0.5664845173041895),\n",
       " (0.27, 0.5617455896007428, 0.5510018214936248),\n",
       " (0.28, 0.569377990430622, 0.5418943533697632),\n",
       " (0.29, 0.5705824284304047, 0.5264116575591985),\n",
       " (0.3, 0.5783009211873081, 0.5145719489981785),\n",
       " (0.31, 0.5839493136219641, 0.5036429872495446),\n",
       " (0.32, 0.5909090909090909, 0.4972677595628415),\n",
       " (0.33, 0.5977653631284916, 0.4872495446265938),\n",
       " (0.34, 0.5995370370370371, 0.47176684881602915),\n",
       " (0.35000000000000003, 0.6028368794326241, 0.4644808743169399),\n",
       " (0.36, 0.6094890510948905, 0.4562841530054645),\n",
       " (0.37, 0.6159600997506235, 0.44990892531876137),\n",
       " (0.38, 0.62002567394095, 0.43989071038251365),\n",
       " (0.39, 0.6235138705416117, 0.42987249544626593),\n",
       " (0.4, 0.6270491803278688, 0.4180327868852459),\n",
       " (0.41000000000000003, 0.63268156424581, 0.412568306010929),\n",
       " (0.42, 0.6370157819225251, 0.40437158469945356),\n",
       " (0.43, 0.6375739644970414, 0.3925318761384335),\n",
       " (0.44, 0.637593984962406, 0.3861566484517304),\n",
       " (0.45, 0.6393188854489165, 0.3761384335154827),\n",
       " (0.46, 0.6412698412698413, 0.3679417122040073),\n",
       " (0.47000000000000003, 0.6454248366013072, 0.35974499089253187),\n",
       " (0.48, 0.6531986531986532, 0.3533697632058288),\n",
       " (0.49, 0.6551724137931034, 0.3460837887067395),\n",
       " (0.5, 0.6578014184397163, 0.33788706739526414),\n",
       " (0.51, 0.6593806921675774, 0.3296903460837887),\n",
       " (0.52, 0.6567717996289425, 0.3224043715846995),\n",
       " (0.53, 0.6679389312977099, 0.31876138433515483),\n",
       " (0.54, 0.6679841897233202, 0.30783242258652094),\n",
       " (0.55, 0.6673469387755102, 0.2978142076502732),\n",
       " (0.56, 0.6708860759493671, 0.2896174863387978),\n",
       " (0.5700000000000001, 0.6759656652360515, 0.28688524590163933),\n",
       " (0.58, 0.676923076923077, 0.28051001821493626),\n",
       " (0.59, 0.6817155756207675, 0.2750455373406193),\n",
       " (0.6, 0.6791569086651054, 0.2641165755919854),\n",
       " (0.61, 0.6862745098039216, 0.2550091074681239),\n",
       " (0.62, 0.6919191919191919, 0.2495446265938069),\n",
       " (0.63, 0.6950904392764858, 0.24499089253187614),\n",
       " (0.64, 0.6965699208443272, 0.24043715846994534),\n",
       " (0.65, 0.692722371967655, 0.23406193078324225),\n",
       " (0.66, 0.6888888888888889, 0.22586520947176686),\n",
       " (0.67, 0.6883852691218131, 0.22131147540983606),\n",
       " (0.68, 0.6823529411764706, 0.21129326047358835),\n",
       " (0.6900000000000001, 0.6835820895522388, 0.20856102003642987),\n",
       " (0.7000000000000001, 0.6871165644171779, 0.2040072859744991),\n",
       " (0.71, 0.6855345911949685, 0.19854280510018216),\n",
       " (0.72, 0.6905537459283387, 0.1930783242258652),\n",
       " (0.73, 0.7003367003367004, 0.1894353369763206),\n",
       " (0.74, 0.7027972027972028, 0.1830601092896175),\n",
       " (0.75, 0.6974169741697417, 0.1721311475409836),\n",
       " (0.76, 0.694980694980695, 0.16393442622950818),\n",
       " (0.77, 0.7032520325203252, 0.1575591985428051),\n",
       " (0.78, 0.6932773109243697, 0.15027322404371585),\n",
       " (0.79, 0.6842105263157895, 0.14207650273224043),\n",
       " (0.8, 0.6820276497695853, 0.13479052823315119),\n",
       " (0.81, 0.6896551724137931, 0.12750455373406194),\n",
       " (0.8200000000000001, 0.6855670103092784, 0.12112932604735883),\n",
       " (0.8300000000000001, 0.6923076923076923, 0.11475409836065574),\n",
       " (0.84, 0.7058823529411765, 0.1092896174863388),\n",
       " (0.85, 0.70625, 0.1029143897996357),\n",
       " (0.86, 0.7, 0.09562841530054644),\n",
       " (0.87, 0.7058823529411765, 0.08743169398907104),\n",
       " (0.88, 0.7063492063492064, 0.08105646630236794),\n",
       " (0.89, 0.7192982456140351, 0.07468123861566485),\n",
       " (0.9, 0.7333333333333333, 0.07012750455373407),\n",
       " (0.91, 0.723404255319149, 0.061930783242258654),\n",
       " (0.92, 0.7142857142857143, 0.0546448087431694),\n",
       " (0.93, 0.6944444444444444, 0.04553734061930783),\n",
       " (0.9400000000000001, 0.676923076923077, 0.04007285974499089),\n",
       " (0.9500000000000001, 0.6724137931034483, 0.03551912568306011),\n",
       " (0.96, 0.6382978723404256, 0.0273224043715847),\n",
       " (0.97, 0.625, 0.022768670309653915),\n",
       " (0.98, 0.6875, 0.020036429872495445),\n",
       " (0.99, 0.6875, 0.010018214936247723)]"
      ]
     },
     "execution_count": 54,
     "metadata": {},
     "output_type": "execute_result"
    }
   ],
   "source": [
    "thresholds = np.arange(0.0, 1, step = 0.01)\n",
    "\n",
    "scores = []\n",
    "\n",
    "for t in thresholds:\n",
    "    #Actual values\n",
    "    actual_positive = (y_val == 1)\n",
    "    actual_negative = (y_val == 0)\n",
    "    \n",
    "    #Prediction values\n",
    "    predict_positive = (y_pred >= t)\n",
    "    predict_negative = (y_pred < t)\n",
    "    \n",
    "    tp = (actual_positive & predict_positive).sum()\n",
    "    tn = (actual_negative & predict_negative).sum()\n",
    "\n",
    "    fp = (predict_positive & actual_negative).sum()\n",
    "    fn = (predict_negative & actual_positive).sum()\n",
    "    \n",
    "    precision = tp / (tp + fp) \n",
    "    recall = tp / (tp + fn)\n",
    "\n",
    "    \n",
    "    \n",
    "    scores.append((t, precision, recall))\n",
    "    \n",
    "    \n",
    "scores"
   ]
  },
  {
   "cell_type": "code",
   "execution_count": 55,
   "id": "6c608033",
   "metadata": {},
   "outputs": [
    {
     "data": {
      "text/html": [
       "<div>\n",
       "<style scoped>\n",
       "    .dataframe tbody tr th:only-of-type {\n",
       "        vertical-align: middle;\n",
       "    }\n",
       "\n",
       "    .dataframe tbody tr th {\n",
       "        vertical-align: top;\n",
       "    }\n",
       "\n",
       "    .dataframe thead th {\n",
       "        text-align: right;\n",
       "    }\n",
       "</style>\n",
       "<table border=\"1\" class=\"dataframe\">\n",
       "  <thead>\n",
       "    <tr style=\"text-align: right;\">\n",
       "      <th></th>\n",
       "      <th>threshold</th>\n",
       "      <th>precision</th>\n",
       "      <th>recall</th>\n",
       "    </tr>\n",
       "  </thead>\n",
       "  <tbody>\n",
       "    <tr>\n",
       "      <th>0</th>\n",
       "      <td>0.00</td>\n",
       "      <td>0.121433</td>\n",
       "      <td>1.000000</td>\n",
       "    </tr>\n",
       "    <tr>\n",
       "      <th>1</th>\n",
       "      <td>0.01</td>\n",
       "      <td>0.135597</td>\n",
       "      <td>0.996357</td>\n",
       "    </tr>\n",
       "    <tr>\n",
       "      <th>2</th>\n",
       "      <td>0.02</td>\n",
       "      <td>0.159306</td>\n",
       "      <td>0.995446</td>\n",
       "    </tr>\n",
       "    <tr>\n",
       "      <th>3</th>\n",
       "      <td>0.03</td>\n",
       "      <td>0.186963</td>\n",
       "      <td>0.989982</td>\n",
       "    </tr>\n",
       "    <tr>\n",
       "      <th>4</th>\n",
       "      <td>0.04</td>\n",
       "      <td>0.218911</td>\n",
       "      <td>0.969945</td>\n",
       "    </tr>\n",
       "    <tr>\n",
       "      <th>...</th>\n",
       "      <td>...</td>\n",
       "      <td>...</td>\n",
       "      <td>...</td>\n",
       "    </tr>\n",
       "    <tr>\n",
       "      <th>95</th>\n",
       "      <td>0.95</td>\n",
       "      <td>0.672414</td>\n",
       "      <td>0.035519</td>\n",
       "    </tr>\n",
       "    <tr>\n",
       "      <th>96</th>\n",
       "      <td>0.96</td>\n",
       "      <td>0.638298</td>\n",
       "      <td>0.027322</td>\n",
       "    </tr>\n",
       "    <tr>\n",
       "      <th>97</th>\n",
       "      <td>0.97</td>\n",
       "      <td>0.625000</td>\n",
       "      <td>0.022769</td>\n",
       "    </tr>\n",
       "    <tr>\n",
       "      <th>98</th>\n",
       "      <td>0.98</td>\n",
       "      <td>0.687500</td>\n",
       "      <td>0.020036</td>\n",
       "    </tr>\n",
       "    <tr>\n",
       "      <th>99</th>\n",
       "      <td>0.99</td>\n",
       "      <td>0.687500</td>\n",
       "      <td>0.010018</td>\n",
       "    </tr>\n",
       "  </tbody>\n",
       "</table>\n",
       "<p>100 rows × 3 columns</p>\n",
       "</div>"
      ],
      "text/plain": [
       "    threshold  precision    recall\n",
       "0        0.00   0.121433  1.000000\n",
       "1        0.01   0.135597  0.996357\n",
       "2        0.02   0.159306  0.995446\n",
       "3        0.03   0.186963  0.989982\n",
       "4        0.04   0.218911  0.969945\n",
       "..        ...        ...       ...\n",
       "95       0.95   0.672414  0.035519\n",
       "96       0.96   0.638298  0.027322\n",
       "97       0.97   0.625000  0.022769\n",
       "98       0.98   0.687500  0.020036\n",
       "99       0.99   0.687500  0.010018\n",
       "\n",
       "[100 rows x 3 columns]"
      ]
     },
     "execution_count": 55,
     "metadata": {},
     "output_type": "execute_result"
    }
   ],
   "source": [
    "columns = ['threshold', 'precision', 'recall']\n",
    "df_scores = pd.DataFrame(scores, columns = columns)\n",
    "    \n",
    "df_scores"
   ]
  },
  {
   "cell_type": "code",
   "execution_count": 56,
   "id": "98884995",
   "metadata": {},
   "outputs": [
    {
     "data": {
      "text/plain": [
       "<matplotlib.legend.Legend at 0x20fbb132ca0>"
      ]
     },
     "execution_count": 56,
     "metadata": {},
     "output_type": "execute_result"
    },
    {
     "data": {
      "image/png": "[encoded data removed]",
      "text/plain": [
       "<Figure size 640x480 with 1 Axes>"
      ]
     },
     "metadata": {},
     "output_type": "display_data"
    }
   ],
   "source": [
    "plt.plot(df_scores.threshold, df_scores.recall, label = 'Recall')\n",
    "plt.plot(df_scores.threshold, df_scores.precision, label = 'Precision')\n",
    "plt.ylabel(\"value\")\n",
    "plt.xlabel(\"threshold\")\n",
    "plt.title(\"Train Precision-Recall curve\")\n",
    "plt.legend()"
   ]
  },
  {
   "cell_type": "code",
   "execution_count": 57,
   "id": "98eef547",
   "metadata": {},
   "outputs": [
    {
     "data": {
      "image/png": "[encoded data removed]",
      "text/plain": [
       "<Figure size 640x480 with 1 Axes>"
      ]
     },
     "metadata": {},
     "output_type": "display_data"
    }
   ],
   "source": [
    "#### code from google' Gemini\n",
    "\n",
    "\n",
    "precision = df_scores.recall.values\n",
    "recall = df_scores.precision.values\n",
    "\n",
    "# Threshold values\n",
    "thresholds = np.arange(0.0, 1, step = 0.01)\n",
    "\n",
    "# Find the intersection point\n",
    "intersection_index = np.argmin(abs(precision - recall))\n",
    "intersection_point = (thresholds[intersection_index], precision[intersection_index])\n",
    "\n",
    "# Plot the precision-recall curve\n",
    "plt.plot(thresholds, precision, label='Precision')\n",
    "plt.plot(thresholds, recall, label='Recall')\n",
    "plt.scatter(intersection_point[0], intersection_point[1], color='red', label='Intersection')\n",
    "\n",
    "# Annotate the intersection point\n",
    "plt.annotate(f'Intersection: ({intersection_point[0]:.2f}, {intersection_point[1]:.2f})',\n",
    "             xy=intersection_point, xytext=(10, 10), textcoords='offset points',\n",
    "             arrowprops=dict(arrowstyle=\"->\"))\n",
    "\n",
    "plt.xlabel('Threshold')\n",
    "plt.ylabel('Value')\n",
    "plt.title('Precision-Recall Curve')\n",
    "plt.legend()\n",
    "plt.grid(True)\n",
    "plt.show()"
   ]
  },
  {
   "cell_type": "code",
   "execution_count": 58,
   "id": "ddee614b",
   "metadata": {},
   "outputs": [
    {
     "data": {
      "text/plain": [
       "(100, 3)"
      ]
     },
     "execution_count": 58,
     "metadata": {},
     "output_type": "execute_result"
    }
   ],
   "source": [
    "df_scores.shape"
   ]
  },
  {
   "cell_type": "markdown",
   "id": "413176da",
   "metadata": {},
   "source": [
    "#### Question 4"
   ]
  },
  {
   "cell_type": "markdown",
   "id": "86bf7c19",
   "metadata": {},
   "source": [
    "#### F1 Score"
   ]
  },
  {
   "cell_type": "code",
   "execution_count": 59,
   "id": "91ea3475",
   "metadata": {},
   "outputs": [
    {
     "data": {
      "text/plain": [
       "[(0.0, 0.12143331121433311, 1.0),\n",
       " (0.01, 0.13559742191373328, 0.9963570127504554),\n",
       " (0.02, 0.15930622358256813, 0.9954462659380692),\n",
       " (0.03, 0.1869625042999656, 0.9899817850637522),\n",
       " (0.04, 0.21891058581706063, 0.9699453551912568),\n",
       " (0.05, 0.2533268812000968, 0.953551912568306),\n",
       " (0.06, 0.2884180790960452, 0.9298724954462659),\n",
       " (0.07, 0.31543837357052096, 0.9043715846994536),\n",
       " (0.08, 0.3427362482369535, 0.8852459016393442),\n",
       " (0.09, 0.365815931941222, 0.8615664845173042),\n",
       " (0.1, 0.38264462809917354, 0.843351548269581),\n",
       " (0.11, 0.39707187222715173, 0.8151183970856102),\n",
       " (0.12, 0.41445783132530123, 0.7832422586520947),\n",
       " (0.13, 0.4280593958013313, 0.761384335154827),\n",
       " (0.14, 0.43928764166216944, 0.7413479052823315),\n",
       " (0.15, 0.4505370265686829, 0.7258652094717668),\n",
       " (0.16, 0.4638805970149254, 0.7076502732240437),\n",
       " (0.17, 0.47470331043098063, 0.692167577413479),\n",
       " (0.18, 0.48753280839895013, 0.6766848816029144),\n",
       " (0.19, 0.49931506849315066, 0.6639344262295082),\n",
       " (0.2, 0.507132667617689, 0.6475409836065574),\n",
       " (0.21, 0.5177514792899408, 0.6375227686703097),\n",
       " (0.22, 0.5280122793553338, 0.6265938069216758),\n",
       " (0.23, 0.5374697824335214, 0.6074681238615665),\n",
       " (0.24, 0.5417362270450752, 0.5910746812386156),\n",
       " (0.25, 0.5517841601392516, 0.5774134790528234),\n",
       " (0.26, 0.5568487018800358, 0.5664845173041895),\n",
       " (0.27, 0.5617455896007428, 0.5510018214936248),\n",
       " (0.28, 0.569377990430622, 0.5418943533697632),\n",
       " (0.29, 0.5705824284304047, 0.5264116575591985),\n",
       " (0.3, 0.5783009211873081, 0.5145719489981785),\n",
       " (0.31, 0.5839493136219641, 0.5036429872495446),\n",
       " (0.32, 0.5909090909090909, 0.4972677595628415),\n",
       " (0.33, 0.5977653631284916, 0.4872495446265938),\n",
       " (0.34, 0.5995370370370371, 0.47176684881602915),\n",
       " (0.35000000000000003, 0.6028368794326241, 0.4644808743169399),\n",
       " (0.36, 0.6094890510948905, 0.4562841530054645),\n",
       " (0.37, 0.6159600997506235, 0.44990892531876137),\n",
       " (0.38, 0.62002567394095, 0.43989071038251365),\n",
       " (0.39, 0.6235138705416117, 0.42987249544626593),\n",
       " (0.4, 0.6270491803278688, 0.4180327868852459),\n",
       " (0.41000000000000003, 0.63268156424581, 0.412568306010929),\n",
       " (0.42, 0.6370157819225251, 0.40437158469945356),\n",
       " (0.43, 0.6375739644970414, 0.3925318761384335),\n",
       " (0.44, 0.637593984962406, 0.3861566484517304),\n",
       " (0.45, 0.6393188854489165, 0.3761384335154827),\n",
       " (0.46, 0.6412698412698413, 0.3679417122040073),\n",
       " (0.47000000000000003, 0.6454248366013072, 0.35974499089253187),\n",
       " (0.48, 0.6531986531986532, 0.3533697632058288),\n",
       " (0.49, 0.6551724137931034, 0.3460837887067395),\n",
       " (0.5, 0.6578014184397163, 0.33788706739526414),\n",
       " (0.51, 0.6593806921675774, 0.3296903460837887),\n",
       " (0.52, 0.6567717996289425, 0.3224043715846995),\n",
       " (0.53, 0.6679389312977099, 0.31876138433515483),\n",
       " (0.54, 0.6679841897233202, 0.30783242258652094),\n",
       " (0.55, 0.6673469387755102, 0.2978142076502732),\n",
       " (0.56, 0.6708860759493671, 0.2896174863387978),\n",
       " (0.5700000000000001, 0.6759656652360515, 0.28688524590163933),\n",
       " (0.58, 0.676923076923077, 0.28051001821493626),\n",
       " (0.59, 0.6817155756207675, 0.2750455373406193),\n",
       " (0.6, 0.6791569086651054, 0.2641165755919854),\n",
       " (0.61, 0.6862745098039216, 0.2550091074681239),\n",
       " (0.62, 0.6919191919191919, 0.2495446265938069),\n",
       " (0.63, 0.6950904392764858, 0.24499089253187614),\n",
       " (0.64, 0.6965699208443272, 0.24043715846994534),\n",
       " (0.65, 0.692722371967655, 0.23406193078324225),\n",
       " (0.66, 0.6888888888888889, 0.22586520947176686),\n",
       " (0.67, 0.6883852691218131, 0.22131147540983606),\n",
       " (0.68, 0.6823529411764706, 0.21129326047358835),\n",
       " (0.6900000000000001, 0.6835820895522388, 0.20856102003642987),\n",
       " (0.7000000000000001, 0.6871165644171779, 0.2040072859744991),\n",
       " (0.71, 0.6855345911949685, 0.19854280510018216),\n",
       " (0.72, 0.6905537459283387, 0.1930783242258652),\n",
       " (0.73, 0.7003367003367004, 0.1894353369763206),\n",
       " (0.74, 0.7027972027972028, 0.1830601092896175),\n",
       " (0.75, 0.6974169741697417, 0.1721311475409836),\n",
       " (0.76, 0.694980694980695, 0.16393442622950818),\n",
       " (0.77, 0.7032520325203252, 0.1575591985428051),\n",
       " (0.78, 0.6932773109243697, 0.15027322404371585),\n",
       " (0.79, 0.6842105263157895, 0.14207650273224043),\n",
       " (0.8, 0.6820276497695853, 0.13479052823315119),\n",
       " (0.81, 0.6896551724137931, 0.12750455373406194),\n",
       " (0.8200000000000001, 0.6855670103092784, 0.12112932604735883),\n",
       " (0.8300000000000001, 0.6923076923076923, 0.11475409836065574),\n",
       " (0.84, 0.7058823529411765, 0.1092896174863388),\n",
       " (0.85, 0.70625, 0.1029143897996357),\n",
       " (0.86, 0.7, 0.09562841530054644),\n",
       " (0.87, 0.7058823529411765, 0.08743169398907104),\n",
       " (0.88, 0.7063492063492064, 0.08105646630236794),\n",
       " (0.89, 0.7192982456140351, 0.07468123861566485),\n",
       " (0.9, 0.7333333333333333, 0.07012750455373407),\n",
       " (0.91, 0.723404255319149, 0.061930783242258654),\n",
       " (0.92, 0.7142857142857143, 0.0546448087431694),\n",
       " (0.93, 0.6944444444444444, 0.04553734061930783),\n",
       " (0.9400000000000001, 0.676923076923077, 0.04007285974499089),\n",
       " (0.9500000000000001, 0.6724137931034483, 0.03551912568306011),\n",
       " (0.96, 0.6382978723404256, 0.0273224043715847),\n",
       " (0.97, 0.625, 0.022768670309653915),\n",
       " (0.98, 0.6875, 0.020036429872495445),\n",
       " (0.99, 0.6875, 0.010018214936247723)]"
      ]
     },
     "execution_count": 59,
     "metadata": {},
     "output_type": "execute_result"
    }
   ],
   "source": [
    "thresholds = np.arange(0.0, 1, step = 0.01)\n",
    "\n",
    "f1_scores = []\n",
    "\n",
    "for t in thresholds:\n",
    "    #Actual values\n",
    "    actual_positive = (y_val == 1)\n",
    "    actual_negative = (y_val == 0)\n",
    "    \n",
    "    #Prediction values\n",
    "    predict_positive = (y_pred >= t)\n",
    "    predict_negative = (y_pred < t)\n",
    "    \n",
    "    tp = (actual_positive & predict_positive).sum()\n",
    "    tn = (actual_negative & predict_negative).sum()\n",
    "\n",
    "    fp = (predict_positive & actual_negative).sum()\n",
    "    fn = (predict_negative & actual_positive).sum()\n",
    "    \n",
    "    precision = tp / (tp + fp) \n",
    "    recall = tp / (tp + fn)\n",
    "    \n",
    "    #f1 score formula\n",
    "    P_R = precision * recall\n",
    "    P_P_R = precision + recall\n",
    "    \n",
    "    f1_score = 2* (P_R/P_P_R)\n",
    "    \n",
    "    f1_scores.append((t, precision, recall, f1_score))\n",
    "    \n",
    "    \n",
    "scores"
   ]
  },
  {
   "cell_type": "code",
   "execution_count": 60,
   "id": "1694febf",
   "metadata": {},
   "outputs": [
    {
     "data": {
      "text/html": [
       "<div>\n",
       "<style scoped>\n",
       "    .dataframe tbody tr th:only-of-type {\n",
       "        vertical-align: middle;\n",
       "    }\n",
       "\n",
       "    .dataframe tbody tr th {\n",
       "        vertical-align: top;\n",
       "    }\n",
       "\n",
       "    .dataframe thead th {\n",
       "        text-align: right;\n",
       "    }\n",
       "</style>\n",
       "<table border=\"1\" class=\"dataframe\">\n",
       "  <thead>\n",
       "    <tr style=\"text-align: right;\">\n",
       "      <th></th>\n",
       "      <th>threshold</th>\n",
       "      <th>precision</th>\n",
       "      <th>recall</th>\n",
       "      <th>f1_score</th>\n",
       "    </tr>\n",
       "  </thead>\n",
       "  <tbody>\n",
       "    <tr>\n",
       "      <th>0</th>\n",
       "      <td>0.00</td>\n",
       "      <td>0.121433</td>\n",
       "      <td>1.000000</td>\n",
       "      <td>0.216568</td>\n",
       "    </tr>\n",
       "    <tr>\n",
       "      <th>1</th>\n",
       "      <td>0.01</td>\n",
       "      <td>0.135597</td>\n",
       "      <td>0.996357</td>\n",
       "      <td>0.238708</td>\n",
       "    </tr>\n",
       "    <tr>\n",
       "      <th>2</th>\n",
       "      <td>0.02</td>\n",
       "      <td>0.159306</td>\n",
       "      <td>0.995446</td>\n",
       "      <td>0.274658</td>\n",
       "    </tr>\n",
       "    <tr>\n",
       "      <th>3</th>\n",
       "      <td>0.03</td>\n",
       "      <td>0.186963</td>\n",
       "      <td>0.989982</td>\n",
       "      <td>0.314525</td>\n",
       "    </tr>\n",
       "    <tr>\n",
       "      <th>4</th>\n",
       "      <td>0.04</td>\n",
       "      <td>0.218911</td>\n",
       "      <td>0.969945</td>\n",
       "      <td>0.357203</td>\n",
       "    </tr>\n",
       "    <tr>\n",
       "      <th>...</th>\n",
       "      <td>...</td>\n",
       "      <td>...</td>\n",
       "      <td>...</td>\n",
       "      <td>...</td>\n",
       "    </tr>\n",
       "    <tr>\n",
       "      <th>95</th>\n",
       "      <td>0.95</td>\n",
       "      <td>0.672414</td>\n",
       "      <td>0.035519</td>\n",
       "      <td>0.067474</td>\n",
       "    </tr>\n",
       "    <tr>\n",
       "      <th>96</th>\n",
       "      <td>0.96</td>\n",
       "      <td>0.638298</td>\n",
       "      <td>0.027322</td>\n",
       "      <td>0.052402</td>\n",
       "    </tr>\n",
       "    <tr>\n",
       "      <th>97</th>\n",
       "      <td>0.97</td>\n",
       "      <td>0.625000</td>\n",
       "      <td>0.022769</td>\n",
       "      <td>0.043937</td>\n",
       "    </tr>\n",
       "    <tr>\n",
       "      <th>98</th>\n",
       "      <td>0.98</td>\n",
       "      <td>0.687500</td>\n",
       "      <td>0.020036</td>\n",
       "      <td>0.038938</td>\n",
       "    </tr>\n",
       "    <tr>\n",
       "      <th>99</th>\n",
       "      <td>0.99</td>\n",
       "      <td>0.687500</td>\n",
       "      <td>0.010018</td>\n",
       "      <td>0.019749</td>\n",
       "    </tr>\n",
       "  </tbody>\n",
       "</table>\n",
       "<p>100 rows × 4 columns</p>\n",
       "</div>"
      ],
      "text/plain": [
       "    threshold  precision    recall  f1_score\n",
       "0        0.00   0.121433  1.000000  0.216568\n",
       "1        0.01   0.135597  0.996357  0.238708\n",
       "2        0.02   0.159306  0.995446  0.274658\n",
       "3        0.03   0.186963  0.989982  0.314525\n",
       "4        0.04   0.218911  0.969945  0.357203\n",
       "..        ...        ...       ...       ...\n",
       "95       0.95   0.672414  0.035519  0.067474\n",
       "96       0.96   0.638298  0.027322  0.052402\n",
       "97       0.97   0.625000  0.022769  0.043937\n",
       "98       0.98   0.687500  0.020036  0.038938\n",
       "99       0.99   0.687500  0.010018  0.019749\n",
       "\n",
       "[100 rows x 4 columns]"
      ]
     },
     "execution_count": 60,
     "metadata": {},
     "output_type": "execute_result"
    }
   ],
   "source": [
    "columns = ['threshold', 'precision', 'recall', 'f1_score']\n",
    "df_f1scores = pd.DataFrame(f1_scores, columns = columns)\n",
    "    \n",
    "df_f1scores"
   ]
  },
  {
   "cell_type": "code",
   "execution_count": 61,
   "id": "e68b9490",
   "metadata": {},
   "outputs": [
    {
     "data": {
      "text/plain": [
       "Text(0, 0.5, 'f1_score')"
      ]
     },
     "execution_count": 61,
     "metadata": {},
     "output_type": "execute_result"
    },
    {
     "data": {
      "image/png": "[encoded data removed]",
      "text/plain": [
       "<Figure size 640x480 with 1 Axes>"
      ]
     },
     "metadata": {},
     "output_type": "display_data"
    }
   ],
   "source": [
    "plt.plot(df_f1scores.threshold, df_f1scores.f1_score)\n",
    "plt.xlabel('threshold')\n",
    "plt.ylabel('f1_score')"
   ]
  },
  {
   "cell_type": "markdown",
   "id": "32066d9c",
   "metadata": {},
   "source": [
    "####  F1_score is maximum at 0.02"
   ]
  },
  {
   "cell_type": "markdown",
   "id": "a27712b3",
   "metadata": {},
   "source": [
    "### Question 5 kfold"
   ]
  },
  {
   "cell_type": "code",
   "execution_count": 62,
   "id": "dfc56fa2",
   "metadata": {},
   "outputs": [],
   "source": [
    "from sklearn.model_selection import KFold"
   ]
  },
  {
   "cell_type": "code",
   "execution_count": 63,
   "id": "9d8e4451",
   "metadata": {},
   "outputs": [],
   "source": [
    "from tqdm.auto import tqdm"
   ]
  },
  {
   "cell_type": "code",
   "execution_count": 64,
   "id": "bd6cd3e2",
   "metadata": {},
   "outputs": [],
   "source": [
    "kfold = KFold(n_splits=5, shuffle=True, random_state=1)"
   ]
  },
  {
   "cell_type": "code",
   "execution_count": 65,
   "id": "e9fd0bbb",
   "metadata": {},
   "outputs": [
    {
     "data": {
      "text/plain": [
       "(36168, 28934, 7234)"
      ]
     },
     "execution_count": 65,
     "metadata": {},
     "output_type": "execute_result"
    }
   ],
   "source": [
    "train_idx, val_idx = next(kfold.split(df_full_train))\n",
    "\n",
    "len(df_full_train), len(train_idx), len(val_idx)"
   ]
  },
  {
   "cell_type": "code",
   "execution_count": 66,
   "id": "1992bc3c",
   "metadata": {},
   "outputs": [],
   "source": [
    "# df_train = df_full_train.iloc[train_idx]\n",
    "# df_val = df_full_train.iloc[val_idx]"
   ]
  },
  {
   "cell_type": "code",
   "execution_count": 67,
   "id": "8d55eedc",
   "metadata": {},
   "outputs": [
    {
     "data": {
      "application/vnd.jupyter.widget-view+json": {
       "model_id": "5c9e5ff32bbb45f28970fd1f316d6468",
       "version_major": 2,
       "version_minor": 0
      },
      "text/plain": [
       "0it [00:00, ?it/s]"
      ]
     },
     "metadata": {},
     "output_type": "display_data"
    }
   ],
   "source": [
    "kfoldscores = []\n",
    "\n",
    "for train_idx, val_idx in tqdm(kfold.split(df_full_train)):\n",
    "    df_train = df_full_train.iloc[train_idx]\n",
    "    df_val = df_full_train.iloc[val_idx]\n",
    "    \n",
    "    y_train = df_train.y.values\n",
    "    y_val = df_val.y.values\n",
    "    \n",
    "    dv, model = train(df_train, y_train)\n",
    "    y_pred = predict(df_val, dv, model)\n",
    "    \n",
    "    auc = roc_auc_score(y_val, y_pred)\n",
    "    kfoldscores.append(auc)"
   ]
  },
  {
   "cell_type": "code",
   "execution_count": 68,
   "id": "0add8f96",
   "metadata": {},
   "outputs": [
    {
     "data": {
      "text/plain": [
       "[0.9999994801659934, 1.0, 1.0, 1.0, 1.0]"
      ]
     },
     "execution_count": 68,
     "metadata": {},
     "output_type": "execute_result"
    }
   ],
   "source": [
    "kfoldscores"
   ]
  },
  {
   "cell_type": "code",
   "execution_count": 69,
   "id": "cdf938b3",
   "metadata": {},
   "outputs": [
    {
     "name": "stdout",
     "output_type": "stream",
     "text": [
      "1.000 +- 0.000\n"
     ]
    }
   ],
   "source": [
    "print('%.3f +- %.3f' % (np.mean(kfoldscores), np.std(kfoldscores)))"
   ]
  },
  {
   "cell_type": "markdown",
   "id": "6cb2f173",
   "metadata": {},
   "source": [
    "### Question 6"
   ]
  },
  {
   "cell_type": "markdown",
   "id": "ffa4ce5a",
   "metadata": {},
   "source": [
    "#### Hyperparameter Tuning"
   ]
  },
  {
   "cell_type": "code",
   "execution_count": 70,
   "id": "a9ffd0dd",
   "metadata": {},
   "outputs": [
    {
     "data": {
      "application/vnd.jupyter.widget-view+json": {
       "model_id": "2257b88c686e4eb190cfa0853d012f61",
       "version_major": 2,
       "version_minor": 0
      },
      "text/plain": [
       "  0%|          | 0/3 [00:00<?, ?it/s]"
      ]
     },
     "metadata": {},
     "output_type": "display_data"
    },
    {
     "name": "stdout",
     "output_type": "stream",
     "text": [
      "C = 1e-06 0.702 +-0.009\n",
      "C = 0.001 0.987 +-0.003\n",
      "C = 1 1.000 +-0.000\n"
     ]
    }
   ],
   "source": [
    "C = [0.000001, 0.001, 1]\n",
    "\n",
    "n_splits = 5\n",
    "\n",
    "for c in tqdm(C):\n",
    "    scores = []\n",
    "    \n",
    "    kfold = KFold(n_splits = n_splits, shuffle = True, random_state = 1)\n",
    "\n",
    "    for train_idx, val_idx in kfold.split(df_full_train):\n",
    "        df_train = df_full_train.iloc[train_idx]\n",
    "        df_val = df_full_train.iloc[val_idx]\n",
    "\n",
    "        y_train = df_train.y.values\n",
    "        y_val = df_val.y.values\n",
    "\n",
    "        dv, model = train(df_train, y_train, C = c)\n",
    "        y_pred = predict(df_val, dv, model)\n",
    "\n",
    "        auc = roc_auc_score(y_val, y_pred)\n",
    "        scores.append(auc)\n",
    "\n",
    "    print('C = %s %.3f +-%.3f' % (c, np.mean(scores), np.std(scores)))\n"
   ]
  },
  {
   "cell_type": "markdown",
   "id": "28fb8dd8",
   "metadata": {},
   "source": [
    "#### C = 1 leads to the best mean score"
   ]
  },
  {
   "cell_type": "code",
   "execution_count": null,
   "id": "79381d74",
   "metadata": {},
   "outputs": [],
   "source": []
  },
  {
   "cell_type": "code",
   "execution_count": null,
   "id": "19eb5b37",
   "metadata": {},
   "outputs": [],
   "source": []
  }
 ],
 "metadata": {
  "kernelspec": {
   "display_name": "Python 3 (ipykernel)",
   "language": "python",
   "name": "python3"
  },
  "language_info": {
   "codemirror_mode": {
    "name": "ipython",
    "version": 3
   },
   "file_extension": ".py",
   "mimetype": "text/x-python",
   "name": "python",
   "nbconvert_exporter": "python",
   "pygments_lexer": "ipython3",
   "version": "3.9.18"
  }
 },
 "nbformat": 4,
 "nbformat_minor": 5
}
