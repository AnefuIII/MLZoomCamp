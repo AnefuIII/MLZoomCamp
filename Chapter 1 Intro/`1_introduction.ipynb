{
 "cells": [
  {
   "cell_type": "code",
   "execution_count": 30,
   "id": "1992e5d6",
   "metadata": {},
   "outputs": [
    {
     "data": {
      "text/plain": [
       "'1.4.2'"
      ]
     },
     "execution_count": 30,
     "metadata": {},
     "output_type": "execute_result"
    }
   ],
   "source": [
    "import numpy as np\n",
    "import pandas as pd\n",
    "\n",
    "pd.__version__"
   ]
  },
  {
   "cell_type": "code",
   "execution_count": 4,
   "id": "f5f518e6",
   "metadata": {},
   "outputs": [],
   "source": [
    "#import wget"
   ]
  },
  {
   "cell_type": "code",
   "execution_count": 28,
   "id": "37f03a3b",
   "metadata": {},
   "outputs": [
    {
     "name": "stderr",
     "output_type": "stream",
     "text": [
      "--2024-09-20 09:43:01--  https://raw.githubusercontent.com/alexeygrigorev/datasets/master/laptops.csv\n",
      "Resolving raw.githubusercontent.com (raw.githubusercontent.com)... 185.199.110.133\n",
      "Connecting to raw.githubusercontent.com (raw.githubusercontent.com)|185.199.110.133|:443... connected.\n",
      "HTTP request sent, awaiting response... 200 OK\n",
      "Length: 298573 (292K) [text/plain]\n",
      "Saving to: '../data/laptops.csv'\n",
      "\n",
      "     0K .......... .......... .......... .......... .......... 17%  158K 2s\n",
      "    50K .......... .......... .......... .......... .......... 34% 61.7K 2s\n",
      "   100K .......... .......... .......... .......... .......... 51%  366K 1s\n",
      "   150K .......... .......... .......... .......... .......... 68%  197K 1s\n",
      "   200K .......... .......... .......... .......... .......... 85%  286K 0s\n",
      "   250K .......... .......... .......... .......... .         100%  805K=1.7s\n",
      "\n",
      "2024-09-20 09:43:04 (167 KB/s) - '../data/laptops.csv' saved [298573/298573]\n",
      "\n"
     ]
    },
    {
     "data": {
      "text/html": [
       "<div>\n",
       "<style scoped>\n",
       "    .dataframe tbody tr th:only-of-type {\n",
       "        vertical-align: middle;\n",
       "    }\n",
       "\n",
       "    .dataframe tbody tr th {\n",
       "        vertical-align: top;\n",
       "    }\n",
       "\n",
       "    .dataframe thead th {\n",
       "        text-align: right;\n",
       "    }\n",
       "</style>\n",
       "<table border=\"1\" class=\"dataframe\">\n",
       "  <thead>\n",
       "    <tr style=\"text-align: right;\">\n",
       "      <th></th>\n",
       "      <th>Laptop</th>\n",
       "      <th>Status</th>\n",
       "      <th>Brand</th>\n",
       "      <th>Model</th>\n",
       "      <th>CPU</th>\n",
       "      <th>RAM</th>\n",
       "      <th>Storage</th>\n",
       "      <th>Storage type</th>\n",
       "      <th>GPU</th>\n",
       "      <th>Screen</th>\n",
       "      <th>Touch</th>\n",
       "      <th>Final Price</th>\n",
       "    </tr>\n",
       "  </thead>\n",
       "  <tbody>\n",
       "    <tr>\n",
       "      <th>0</th>\n",
       "      <td>ASUS ExpertBook B1 B1502CBA-EJ0436X Intel Core...</td>\n",
       "      <td>New</td>\n",
       "      <td>Asus</td>\n",
       "      <td>ExpertBook</td>\n",
       "      <td>Intel Core i5</td>\n",
       "      <td>8</td>\n",
       "      <td>512</td>\n",
       "      <td>SSD</td>\n",
       "      <td>NaN</td>\n",
       "      <td>15.6</td>\n",
       "      <td>No</td>\n",
       "      <td>1009.00</td>\n",
       "    </tr>\n",
       "    <tr>\n",
       "      <th>1</th>\n",
       "      <td>Alurin Go Start Intel Celeron N4020/8GB/256GB ...</td>\n",
       "      <td>New</td>\n",
       "      <td>Alurin</td>\n",
       "      <td>Go</td>\n",
       "      <td>Intel Celeron</td>\n",
       "      <td>8</td>\n",
       "      <td>256</td>\n",
       "      <td>SSD</td>\n",
       "      <td>NaN</td>\n",
       "      <td>15.6</td>\n",
       "      <td>No</td>\n",
       "      <td>299.00</td>\n",
       "    </tr>\n",
       "    <tr>\n",
       "      <th>2</th>\n",
       "      <td>ASUS ExpertBook B1 B1502CBA-EJ0424X Intel Core...</td>\n",
       "      <td>New</td>\n",
       "      <td>Asus</td>\n",
       "      <td>ExpertBook</td>\n",
       "      <td>Intel Core i3</td>\n",
       "      <td>8</td>\n",
       "      <td>256</td>\n",
       "      <td>SSD</td>\n",
       "      <td>NaN</td>\n",
       "      <td>15.6</td>\n",
       "      <td>No</td>\n",
       "      <td>789.00</td>\n",
       "    </tr>\n",
       "    <tr>\n",
       "      <th>3</th>\n",
       "      <td>MSI Katana GF66 12UC-082XES Intel Core i7-1270...</td>\n",
       "      <td>New</td>\n",
       "      <td>MSI</td>\n",
       "      <td>Katana</td>\n",
       "      <td>Intel Core i7</td>\n",
       "      <td>16</td>\n",
       "      <td>1000</td>\n",
       "      <td>SSD</td>\n",
       "      <td>RTX 3050</td>\n",
       "      <td>15.6</td>\n",
       "      <td>No</td>\n",
       "      <td>1199.00</td>\n",
       "    </tr>\n",
       "    <tr>\n",
       "      <th>4</th>\n",
       "      <td>HP 15S-FQ5085NS Intel Core i5-1235U/16GB/512GB...</td>\n",
       "      <td>New</td>\n",
       "      <td>HP</td>\n",
       "      <td>15S</td>\n",
       "      <td>Intel Core i5</td>\n",
       "      <td>16</td>\n",
       "      <td>512</td>\n",
       "      <td>SSD</td>\n",
       "      <td>NaN</td>\n",
       "      <td>15.6</td>\n",
       "      <td>No</td>\n",
       "      <td>669.01</td>\n",
       "    </tr>\n",
       "  </tbody>\n",
       "</table>\n",
       "</div>"
      ],
      "text/plain": [
       "                                              Laptop Status   Brand  \\\n",
       "0  ASUS ExpertBook B1 B1502CBA-EJ0436X Intel Core...    New    Asus   \n",
       "1  Alurin Go Start Intel Celeron N4020/8GB/256GB ...    New  Alurin   \n",
       "2  ASUS ExpertBook B1 B1502CBA-EJ0424X Intel Core...    New    Asus   \n",
       "3  MSI Katana GF66 12UC-082XES Intel Core i7-1270...    New     MSI   \n",
       "4  HP 15S-FQ5085NS Intel Core i5-1235U/16GB/512GB...    New      HP   \n",
       "\n",
       "        Model            CPU  RAM  Storage Storage type       GPU  Screen  \\\n",
       "0  ExpertBook  Intel Core i5    8      512          SSD       NaN    15.6   \n",
       "1          Go  Intel Celeron    8      256          SSD       NaN    15.6   \n",
       "2  ExpertBook  Intel Core i3    8      256          SSD       NaN    15.6   \n",
       "3      Katana  Intel Core i7   16     1000          SSD  RTX 3050    15.6   \n",
       "4         15S  Intel Core i5   16      512          SSD       NaN    15.6   \n",
       "\n",
       "  Touch  Final Price  \n",
       "0    No      1009.00  \n",
       "1    No       299.00  \n",
       "2    No       789.00  \n",
       "3    No      1199.00  \n",
       "4    No       669.01  "
      ]
     },
     "execution_count": 28,
     "metadata": {},
     "output_type": "execute_result"
    }
   ],
   "source": [
    "# !wget -P ../data/ https://raw.githubusercontent.com/alexeygrigorev/datasets/master/laptops.csv\n",
    "# df = pd.read_csv('../data/laptops.csv', encoding='latin-1')\n",
    "# df.head()"
   ]
  },
  {
   "cell_type": "code",
   "execution_count": 8,
   "id": "3ba6d375",
   "metadata": {},
   "outputs": [
    {
     "name": "stderr",
     "output_type": "stream",
     "text": [
      "--2024-09-20 09:02:44--  https://raw.githubusercontent.com/alexeygrigorev/datasets/master/laptops.csv\n",
      "Resolving raw.githubusercontent.com (raw.githubusercontent.com)... 185.199.110.133\n",
      "Connecting to raw.githubusercontent.com (raw.githubusercontent.com)|185.199.110.133|:443... connected.\n",
      "HTTP request sent, awaiting response... 200 OK\n",
      "Length: 298573 (292K) [text/plain]\n",
      "Saving to: 'laptops.csv'\n",
      "\n",
      "     0K .......... .......... .......... .......... .......... 17% 32.1K 8s\n",
      "    50K .......... .......... .......... .......... .......... 34% 80.3K 4s\n",
      "   100K .......... .......... .......... .......... .......... 51%  151K 2s\n",
      "   150K .......... .......... .......... .......... .......... 68% 49.8K 2s\n",
      "   200K .......... .......... .......... .......... .......... 85% 29.1K 1s\n",
      "   250K .......... .......... .......... .......... .         100%  319K=5.4s\n",
      "\n",
      "2024-09-20 09:03:09 (54.4 KB/s) - 'laptops.csv' saved [298573/298573]\n",
      "\n"
     ]
    }
   ],
   "source": [
    "#!wget https://raw.githubusercontent.com/alexeygrigorev/datasets/master/laptops.csv\n"
   ]
  },
  {
   "cell_type": "code",
   "execution_count": 2,
   "id": "f9872224",
   "metadata": {},
   "outputs": [
    {
     "data": {
      "text/html": [
       "<div>\n",
       "<style scoped>\n",
       "    .dataframe tbody tr th:only-of-type {\n",
       "        vertical-align: middle;\n",
       "    }\n",
       "\n",
       "    .dataframe tbody tr th {\n",
       "        vertical-align: top;\n",
       "    }\n",
       "\n",
       "    .dataframe thead th {\n",
       "        text-align: right;\n",
       "    }\n",
       "</style>\n",
       "<table border=\"1\" class=\"dataframe\">\n",
       "  <thead>\n",
       "    <tr style=\"text-align: right;\">\n",
       "      <th></th>\n",
       "      <th>Laptop</th>\n",
       "      <th>Status</th>\n",
       "      <th>Brand</th>\n",
       "      <th>Model</th>\n",
       "      <th>CPU</th>\n",
       "      <th>RAM</th>\n",
       "      <th>Storage</th>\n",
       "      <th>Storage type</th>\n",
       "      <th>GPU</th>\n",
       "      <th>Screen</th>\n",
       "      <th>Touch</th>\n",
       "      <th>Final Price</th>\n",
       "    </tr>\n",
       "  </thead>\n",
       "  <tbody>\n",
       "    <tr>\n",
       "      <th>0</th>\n",
       "      <td>ASUS ExpertBook B1 B1502CBA-EJ0436X Intel Core...</td>\n",
       "      <td>New</td>\n",
       "      <td>Asus</td>\n",
       "      <td>ExpertBook</td>\n",
       "      <td>Intel Core i5</td>\n",
       "      <td>8</td>\n",
       "      <td>512</td>\n",
       "      <td>SSD</td>\n",
       "      <td>NaN</td>\n",
       "      <td>15.6</td>\n",
       "      <td>No</td>\n",
       "      <td>1009.00</td>\n",
       "    </tr>\n",
       "    <tr>\n",
       "      <th>1</th>\n",
       "      <td>Alurin Go Start Intel Celeron N4020/8GB/256GB ...</td>\n",
       "      <td>New</td>\n",
       "      <td>Alurin</td>\n",
       "      <td>Go</td>\n",
       "      <td>Intel Celeron</td>\n",
       "      <td>8</td>\n",
       "      <td>256</td>\n",
       "      <td>SSD</td>\n",
       "      <td>NaN</td>\n",
       "      <td>15.6</td>\n",
       "      <td>No</td>\n",
       "      <td>299.00</td>\n",
       "    </tr>\n",
       "    <tr>\n",
       "      <th>2</th>\n",
       "      <td>ASUS ExpertBook B1 B1502CBA-EJ0424X Intel Core...</td>\n",
       "      <td>New</td>\n",
       "      <td>Asus</td>\n",
       "      <td>ExpertBook</td>\n",
       "      <td>Intel Core i3</td>\n",
       "      <td>8</td>\n",
       "      <td>256</td>\n",
       "      <td>SSD</td>\n",
       "      <td>NaN</td>\n",
       "      <td>15.6</td>\n",
       "      <td>No</td>\n",
       "      <td>789.00</td>\n",
       "    </tr>\n",
       "    <tr>\n",
       "      <th>3</th>\n",
       "      <td>MSI Katana GF66 12UC-082XES Intel Core i7-1270...</td>\n",
       "      <td>New</td>\n",
       "      <td>MSI</td>\n",
       "      <td>Katana</td>\n",
       "      <td>Intel Core i7</td>\n",
       "      <td>16</td>\n",
       "      <td>1000</td>\n",
       "      <td>SSD</td>\n",
       "      <td>RTX 3050</td>\n",
       "      <td>15.6</td>\n",
       "      <td>No</td>\n",
       "      <td>1199.00</td>\n",
       "    </tr>\n",
       "    <tr>\n",
       "      <th>4</th>\n",
       "      <td>HP 15S-FQ5085NS Intel Core i5-1235U/16GB/512GB...</td>\n",
       "      <td>New</td>\n",
       "      <td>HP</td>\n",
       "      <td>15S</td>\n",
       "      <td>Intel Core i5</td>\n",
       "      <td>16</td>\n",
       "      <td>512</td>\n",
       "      <td>SSD</td>\n",
       "      <td>NaN</td>\n",
       "      <td>15.6</td>\n",
       "      <td>No</td>\n",
       "      <td>669.01</td>\n",
       "    </tr>\n",
       "  </tbody>\n",
       "</table>\n",
       "</div>"
      ],
      "text/plain": [
       "                                              Laptop Status   Brand  \\\n",
       "0  ASUS ExpertBook B1 B1502CBA-EJ0436X Intel Core...    New    Asus   \n",
       "1  Alurin Go Start Intel Celeron N4020/8GB/256GB ...    New  Alurin   \n",
       "2  ASUS ExpertBook B1 B1502CBA-EJ0424X Intel Core...    New    Asus   \n",
       "3  MSI Katana GF66 12UC-082XES Intel Core i7-1270...    New     MSI   \n",
       "4  HP 15S-FQ5085NS Intel Core i5-1235U/16GB/512GB...    New      HP   \n",
       "\n",
       "        Model            CPU  RAM  Storage Storage type       GPU  Screen  \\\n",
       "0  ExpertBook  Intel Core i5    8      512          SSD       NaN    15.6   \n",
       "1          Go  Intel Celeron    8      256          SSD       NaN    15.6   \n",
       "2  ExpertBook  Intel Core i3    8      256          SSD       NaN    15.6   \n",
       "3      Katana  Intel Core i7   16     1000          SSD  RTX 3050    15.6   \n",
       "4         15S  Intel Core i5   16      512          SSD       NaN    15.6   \n",
       "\n",
       "  Touch  Final Price  \n",
       "0    No      1009.00  \n",
       "1    No       299.00  \n",
       "2    No       789.00  \n",
       "3    No      1199.00  \n",
       "4    No       669.01  "
      ]
     },
     "execution_count": 2,
     "metadata": {},
     "output_type": "execute_result"
    }
   ],
   "source": [
    "df = pd.read_csv('laptops.csv')\n",
    "df.head()"
   ]
  },
  {
   "cell_type": "markdown",
   "id": "e74bfb4a",
   "metadata": {},
   "source": [
    "#### Q2 RECORDS COUNT"
   ]
  },
  {
   "cell_type": "code",
   "execution_count": 3,
   "id": "3c0d942b",
   "metadata": {},
   "outputs": [
    {
     "data": {
      "text/plain": [
       "(2160, 12)"
      ]
     },
     "execution_count": 3,
     "metadata": {},
     "output_type": "execute_result"
    }
   ],
   "source": [
    "df.shape"
   ]
  },
  {
   "cell_type": "markdown",
   "id": "ea5e7b81",
   "metadata": {},
   "source": [
    "   #### Q3 Laptop brands"
   ]
  },
  {
   "cell_type": "code",
   "execution_count": 4,
   "id": "0fc962c4",
   "metadata": {},
   "outputs": [
    {
     "data": {
      "text/plain": [
       "array(['Asus', 'Alurin', 'MSI', 'HP', 'Lenovo', 'Medion', 'Acer', 'Apple',\n",
       "       'Razer', 'Gigabyte', 'Dell', 'LG', 'Samsung', 'PcCom', 'Microsoft',\n",
       "       'Primux', 'Prixton', 'Dynabook Toshiba', 'Thomson', 'Denver',\n",
       "       'Deep Gaming', 'Vant', 'Innjoo', 'Jetwing', 'Millenium', 'Realme',\n",
       "       'Toshiba'], dtype=object)"
      ]
     },
     "execution_count": 4,
     "metadata": {},
     "output_type": "execute_result"
    }
   ],
   "source": [
    "df['Brand'].unique()"
   ]
  },
  {
   "cell_type": "code",
   "execution_count": 5,
   "id": "e87e99ba",
   "metadata": {},
   "outputs": [
    {
     "data": {
      "text/plain": [
       "27"
      ]
     },
     "execution_count": 5,
     "metadata": {},
     "output_type": "execute_result"
    }
   ],
   "source": [
    "df['Brand'].nunique()"
   ]
  },
  {
   "cell_type": "code",
   "execution_count": 6,
   "id": "9977a900",
   "metadata": {},
   "outputs": [
    {
     "data": {
      "text/plain": [
       "2160"
      ]
     },
     "execution_count": 6,
     "metadata": {},
     "output_type": "execute_result"
    }
   ],
   "source": [
    "df['Brand'].count()"
   ]
  },
  {
   "cell_type": "markdown",
   "id": "162284fa",
   "metadata": {},
   "source": [
    "#### Q4. Missing values"
   ]
  },
  {
   "cell_type": "code",
   "execution_count": 7,
   "id": "ea5a147c",
   "metadata": {},
   "outputs": [
    {
     "data": {
      "text/plain": [
       "Laptop             0\n",
       "Status             0\n",
       "Brand              0\n",
       "Model              0\n",
       "CPU                0\n",
       "RAM                0\n",
       "Storage            0\n",
       "Storage type      42\n",
       "GPU             1371\n",
       "Screen             4\n",
       "Touch              0\n",
       "Final Price        0\n",
       "dtype: int64"
      ]
     },
     "execution_count": 7,
     "metadata": {},
     "output_type": "execute_result"
    }
   ],
   "source": [
    "df.isnull().sum()"
   ]
  },
  {
   "cell_type": "markdown",
   "id": "4304b2a2",
   "metadata": {},
   "source": [
    "#### Q5. Maximum final price of Dell"
   ]
  },
  {
   "cell_type": "code",
   "execution_count": 8,
   "id": "a19d5b46",
   "metadata": {},
   "outputs": [
    {
     "data": {
      "text/html": [
       "<div>\n",
       "<style scoped>\n",
       "    .dataframe tbody tr th:only-of-type {\n",
       "        vertical-align: middle;\n",
       "    }\n",
       "\n",
       "    .dataframe tbody tr th {\n",
       "        vertical-align: top;\n",
       "    }\n",
       "\n",
       "    .dataframe thead th {\n",
       "        text-align: right;\n",
       "    }\n",
       "</style>\n",
       "<table border=\"1\" class=\"dataframe\">\n",
       "  <thead>\n",
       "    <tr style=\"text-align: right;\">\n",
       "      <th></th>\n",
       "      <th>Laptop</th>\n",
       "      <th>Status</th>\n",
       "      <th>Brand</th>\n",
       "      <th>Model</th>\n",
       "      <th>CPU</th>\n",
       "      <th>RAM</th>\n",
       "      <th>Storage</th>\n",
       "      <th>Storage type</th>\n",
       "      <th>GPU</th>\n",
       "      <th>Screen</th>\n",
       "      <th>Touch</th>\n",
       "      <th>Final Price</th>\n",
       "    </tr>\n",
       "  </thead>\n",
       "  <tbody>\n",
       "    <tr>\n",
       "      <th>161</th>\n",
       "      <td>Dell Vostro 3510 Intel Core i3-1115G4/8 GB/256...</td>\n",
       "      <td>New</td>\n",
       "      <td>Dell</td>\n",
       "      <td>Vostro</td>\n",
       "      <td>Intel Core i3</td>\n",
       "      <td>8</td>\n",
       "      <td>256</td>\n",
       "      <td>SSD</td>\n",
       "      <td>NaN</td>\n",
       "      <td>15.6</td>\n",
       "      <td>No</td>\n",
       "      <td>599.00</td>\n",
       "    </tr>\n",
       "    <tr>\n",
       "      <th>271</th>\n",
       "      <td>Dell Vostro 3510 Intel Core i5-1135G7/8 GB/256...</td>\n",
       "      <td>New</td>\n",
       "      <td>Dell</td>\n",
       "      <td>Vostro</td>\n",
       "      <td>Intel Core i5</td>\n",
       "      <td>8</td>\n",
       "      <td>256</td>\n",
       "      <td>SSD</td>\n",
       "      <td>NaN</td>\n",
       "      <td>15.6</td>\n",
       "      <td>No</td>\n",
       "      <td>690.15</td>\n",
       "    </tr>\n",
       "    <tr>\n",
       "      <th>281</th>\n",
       "      <td>Dell Vostro 3520 Intel Core i7-1255U/16GB/512G...</td>\n",
       "      <td>New</td>\n",
       "      <td>Dell</td>\n",
       "      <td>Vostro</td>\n",
       "      <td>Intel Core i7</td>\n",
       "      <td>16</td>\n",
       "      <td>512</td>\n",
       "      <td>SSD</td>\n",
       "      <td>NaN</td>\n",
       "      <td>15.6</td>\n",
       "      <td>No</td>\n",
       "      <td>889.00</td>\n",
       "    </tr>\n",
       "    <tr>\n",
       "      <th>319</th>\n",
       "      <td>Dell Latitude 3520 Intel Core i5-1135G7/8GB/25...</td>\n",
       "      <td>New</td>\n",
       "      <td>Dell</td>\n",
       "      <td>Latitude</td>\n",
       "      <td>Intel Core i5</td>\n",
       "      <td>8</td>\n",
       "      <td>256</td>\n",
       "      <td>SSD</td>\n",
       "      <td>NaN</td>\n",
       "      <td>15.6</td>\n",
       "      <td>No</td>\n",
       "      <td>789.00</td>\n",
       "    </tr>\n",
       "    <tr>\n",
       "      <th>328</th>\n",
       "      <td>Dell Vostro 3510 Intel Core i5-1135G7/16 GB/51...</td>\n",
       "      <td>New</td>\n",
       "      <td>Dell</td>\n",
       "      <td>Vostro</td>\n",
       "      <td>Intel Core i5</td>\n",
       "      <td>16</td>\n",
       "      <td>512</td>\n",
       "      <td>SSD</td>\n",
       "      <td>NaN</td>\n",
       "      <td>15.6</td>\n",
       "      <td>No</td>\n",
       "      <td>869.00</td>\n",
       "    </tr>\n",
       "  </tbody>\n",
       "</table>\n",
       "</div>"
      ],
      "text/plain": [
       "                                                Laptop Status Brand     Model  \\\n",
       "161  Dell Vostro 3510 Intel Core i3-1115G4/8 GB/256...    New  Dell    Vostro   \n",
       "271  Dell Vostro 3510 Intel Core i5-1135G7/8 GB/256...    New  Dell    Vostro   \n",
       "281  Dell Vostro 3520 Intel Core i7-1255U/16GB/512G...    New  Dell    Vostro   \n",
       "319  Dell Latitude 3520 Intel Core i5-1135G7/8GB/25...    New  Dell  Latitude   \n",
       "328  Dell Vostro 3510 Intel Core i5-1135G7/16 GB/51...    New  Dell    Vostro   \n",
       "\n",
       "               CPU  RAM  Storage Storage type  GPU  Screen Touch  Final Price  \n",
       "161  Intel Core i3    8      256          SSD  NaN    15.6    No       599.00  \n",
       "271  Intel Core i5    8      256          SSD  NaN    15.6    No       690.15  \n",
       "281  Intel Core i7   16      512          SSD  NaN    15.6    No       889.00  \n",
       "319  Intel Core i5    8      256          SSD  NaN    15.6    No       789.00  \n",
       "328  Intel Core i5   16      512          SSD  NaN    15.6    No       869.00  "
      ]
     },
     "execution_count": 8,
     "metadata": {},
     "output_type": "execute_result"
    }
   ],
   "source": [
    "dellmax = df[df['Brand'] == 'Dell']\n",
    "dellmax.head()"
   ]
  },
  {
   "cell_type": "code",
   "execution_count": 9,
   "id": "f835c406",
   "metadata": {},
   "outputs": [
    {
     "data": {
      "text/plain": [
       "3936.0"
      ]
     },
     "execution_count": 9,
     "metadata": {},
     "output_type": "execute_result"
    }
   ],
   "source": [
    "dellmax['Final Price'].max()"
   ]
  },
  {
   "cell_type": "markdown",
   "id": "4b628acb",
   "metadata": {},
   "source": [
    "#### Q6. Median value of Screen Column"
   ]
  },
  {
   "cell_type": "code",
   "execution_count": 10,
   "id": "3d4d9941",
   "metadata": {},
   "outputs": [
    {
     "data": {
      "text/plain": [
       "15.6"
      ]
     },
     "execution_count": 10,
     "metadata": {},
     "output_type": "execute_result"
    }
   ],
   "source": [
    "# MEDIAN\n",
    "\n",
    "df['Screen'].median()"
   ]
  },
  {
   "cell_type": "code",
   "execution_count": 11,
   "id": "473690ac",
   "metadata": {},
   "outputs": [
    {
     "data": {
      "text/plain": [
       "0    15.6\n",
       "Name: Screen, dtype: float64"
      ]
     },
     "execution_count": 11,
     "metadata": {},
     "output_type": "execute_result"
    }
   ],
   "source": [
    "# MOST FREQUENT\n",
    "\n",
    "df['Screen'].mode()"
   ]
  },
  {
   "cell_type": "code",
   "execution_count": 12,
   "id": "b00b1acc",
   "metadata": {},
   "outputs": [],
   "source": [
    "df = df.fillna(value = df['Screen'].median(), axis = 0)"
   ]
  },
  {
   "cell_type": "code",
   "execution_count": 13,
   "id": "3e7e075f",
   "metadata": {},
   "outputs": [
    {
     "data": {
      "text/plain": [
       "Laptop          0\n",
       "Status          0\n",
       "Brand           0\n",
       "Model           0\n",
       "CPU             0\n",
       "RAM             0\n",
       "Storage         0\n",
       "Storage type    0\n",
       "GPU             0\n",
       "Screen          0\n",
       "Touch           0\n",
       "Final Price     0\n",
       "dtype: int64"
      ]
     },
     "execution_count": 13,
     "metadata": {},
     "output_type": "execute_result"
    }
   ],
   "source": [
    "df.isnull().sum()"
   ]
  },
  {
   "cell_type": "code",
   "execution_count": 14,
   "id": "8ab1b824",
   "metadata": {},
   "outputs": [
    {
     "data": {
      "text/plain": [
       "15.6"
      ]
     },
     "execution_count": 14,
     "metadata": {},
     "output_type": "execute_result"
    }
   ],
   "source": [
    "# NEW MEDIAN\n",
    "\n",
    "df['Screen'].median()"
   ]
  },
  {
   "cell_type": "code",
   "execution_count": null,
   "id": "9ed7cecf",
   "metadata": {},
   "outputs": [],
   "source": []
  },
  {
   "cell_type": "markdown",
   "id": "024e2c40",
   "metadata": {},
   "source": [
    "#### Q7. Sum of weights\n",
    "\n",
    "Select all the \"Innjoo\" laptops from the dataset.\n",
    "\n",
    "Select only columns RAM, Storage, Screen.\n",
    "\n",
    "Get the underlying NumPy array. Let's call it X.\n",
    "\n",
    "Compute matrix-matrix multiplication between the transpose of X and X. To get the transpose, use X.T. Let's call the result XTX.\n",
    "\n",
    "Compute the inverse of XTX.\n",
    "\n",
    "Create an array y with values [1100, 1300, 800, 900, 1000, 1100].\n",
    "\n",
    "Multiply the inverse of XTX with the transpose of X, and then multiply the result by y. Call the result w.\n",
    "\n",
    "What's the sum of all the elements of the result?"
   ]
  },
  {
   "cell_type": "code",
   "execution_count": 20,
   "id": "74eaf7cf",
   "metadata": {},
   "outputs": [
    {
     "data": {
      "text/html": [
       "<div>\n",
       "<style scoped>\n",
       "    .dataframe tbody tr th:only-of-type {\n",
       "        vertical-align: middle;\n",
       "    }\n",
       "\n",
       "    .dataframe tbody tr th {\n",
       "        vertical-align: top;\n",
       "    }\n",
       "\n",
       "    .dataframe thead th {\n",
       "        text-align: right;\n",
       "    }\n",
       "</style>\n",
       "<table border=\"1\" class=\"dataframe\">\n",
       "  <thead>\n",
       "    <tr style=\"text-align: right;\">\n",
       "      <th></th>\n",
       "      <th>Laptop</th>\n",
       "      <th>Status</th>\n",
       "      <th>Brand</th>\n",
       "      <th>Model</th>\n",
       "      <th>CPU</th>\n",
       "      <th>RAM</th>\n",
       "      <th>Storage</th>\n",
       "      <th>Storage type</th>\n",
       "      <th>GPU</th>\n",
       "      <th>Screen</th>\n",
       "      <th>Touch</th>\n",
       "      <th>Final Price</th>\n",
       "    </tr>\n",
       "  </thead>\n",
       "  <tbody>\n",
       "    <tr>\n",
       "      <th>1478</th>\n",
       "      <td>InnJoo Voom Excellence Intel Celeron N4020/8GB...</td>\n",
       "      <td>New</td>\n",
       "      <td>Innjoo</td>\n",
       "      <td>Voom</td>\n",
       "      <td>Intel Celeron</td>\n",
       "      <td>8</td>\n",
       "      <td>256</td>\n",
       "      <td>SSD</td>\n",
       "      <td>15.6</td>\n",
       "      <td>15.6</td>\n",
       "      <td>No</td>\n",
       "      <td>311.37</td>\n",
       "    </tr>\n",
       "    <tr>\n",
       "      <th>1479</th>\n",
       "      <td>InnJoo Voom Excellence Pro Intel Celeron N4020...</td>\n",
       "      <td>New</td>\n",
       "      <td>Innjoo</td>\n",
       "      <td>Voom</td>\n",
       "      <td>Intel Celeron</td>\n",
       "      <td>8</td>\n",
       "      <td>512</td>\n",
       "      <td>SSD</td>\n",
       "      <td>15.6</td>\n",
       "      <td>15.6</td>\n",
       "      <td>No</td>\n",
       "      <td>392.55</td>\n",
       "    </tr>\n",
       "    <tr>\n",
       "      <th>1480</th>\n",
       "      <td>Innjoo Voom Intel Celeron N3350/4GB/64GB eMMC/...</td>\n",
       "      <td>New</td>\n",
       "      <td>Innjoo</td>\n",
       "      <td>Voom</td>\n",
       "      <td>Intel Celeron</td>\n",
       "      <td>4</td>\n",
       "      <td>64</td>\n",
       "      <td>eMMC</td>\n",
       "      <td>15.6</td>\n",
       "      <td>14.1</td>\n",
       "      <td>No</td>\n",
       "      <td>251.40</td>\n",
       "    </tr>\n",
       "    <tr>\n",
       "      <th>1481</th>\n",
       "      <td>Innjoo Voom Laptop Max Intel Celeron N3350/6GB...</td>\n",
       "      <td>New</td>\n",
       "      <td>Innjoo</td>\n",
       "      <td>Voom</td>\n",
       "      <td>Intel Celeron</td>\n",
       "      <td>6</td>\n",
       "      <td>64</td>\n",
       "      <td>eMMC</td>\n",
       "      <td>15.6</td>\n",
       "      <td>14.1</td>\n",
       "      <td>No</td>\n",
       "      <td>383.61</td>\n",
       "    </tr>\n",
       "    <tr>\n",
       "      <th>1482</th>\n",
       "      <td>Innjoo Voom Laptop Pro Intel Celeron N3350/6GB...</td>\n",
       "      <td>New</td>\n",
       "      <td>Innjoo</td>\n",
       "      <td>Voom</td>\n",
       "      <td>Intel Celeron</td>\n",
       "      <td>6</td>\n",
       "      <td>128</td>\n",
       "      <td>SSD</td>\n",
       "      <td>15.6</td>\n",
       "      <td>14.1</td>\n",
       "      <td>No</td>\n",
       "      <td>317.02</td>\n",
       "    </tr>\n",
       "    <tr>\n",
       "      <th>1483</th>\n",
       "      <td>Innjoo Voom Pro Intel Celeron N3350/6GB/128GB ...</td>\n",
       "      <td>New</td>\n",
       "      <td>Innjoo</td>\n",
       "      <td>Voom</td>\n",
       "      <td>Intel Celeron</td>\n",
       "      <td>6</td>\n",
       "      <td>128</td>\n",
       "      <td>eMMC</td>\n",
       "      <td>15.6</td>\n",
       "      <td>14.1</td>\n",
       "      <td>No</td>\n",
       "      <td>431.38</td>\n",
       "    </tr>\n",
       "  </tbody>\n",
       "</table>\n",
       "</div>"
      ],
      "text/plain": [
       "                                                 Laptop Status   Brand Model  \\\n",
       "1478  InnJoo Voom Excellence Intel Celeron N4020/8GB...    New  Innjoo  Voom   \n",
       "1479  InnJoo Voom Excellence Pro Intel Celeron N4020...    New  Innjoo  Voom   \n",
       "1480  Innjoo Voom Intel Celeron N3350/4GB/64GB eMMC/...    New  Innjoo  Voom   \n",
       "1481  Innjoo Voom Laptop Max Intel Celeron N3350/6GB...    New  Innjoo  Voom   \n",
       "1482  Innjoo Voom Laptop Pro Intel Celeron N3350/6GB...    New  Innjoo  Voom   \n",
       "1483  Innjoo Voom Pro Intel Celeron N3350/6GB/128GB ...    New  Innjoo  Voom   \n",
       "\n",
       "                CPU  RAM  Storage Storage type   GPU  Screen Touch  \\\n",
       "1478  Intel Celeron    8      256          SSD  15.6    15.6    No   \n",
       "1479  Intel Celeron    8      512          SSD  15.6    15.6    No   \n",
       "1480  Intel Celeron    4       64         eMMC  15.6    14.1    No   \n",
       "1481  Intel Celeron    6       64         eMMC  15.6    14.1    No   \n",
       "1482  Intel Celeron    6      128          SSD  15.6    14.1    No   \n",
       "1483  Intel Celeron    6      128         eMMC  15.6    14.1    No   \n",
       "\n",
       "      Final Price  \n",
       "1478       311.37  \n",
       "1479       392.55  \n",
       "1480       251.40  \n",
       "1481       383.61  \n",
       "1482       317.02  \n",
       "1483       431.38  "
      ]
     },
     "execution_count": 20,
     "metadata": {},
     "output_type": "execute_result"
    }
   ],
   "source": [
    "innjoo = df[df['Brand'] == 'Innjoo']\n",
    "innjoo#.head()"
   ]
  },
  {
   "cell_type": "code",
   "execution_count": 19,
   "id": "3f9c7acd",
   "metadata": {},
   "outputs": [
    {
     "data": {
      "text/plain": [
       "(6, 12)"
      ]
     },
     "execution_count": 19,
     "metadata": {},
     "output_type": "execute_result"
    }
   ],
   "source": [
    "innjoo.shape"
   ]
  },
  {
   "cell_type": "code",
   "execution_count": 23,
   "id": "cd14ef6e",
   "metadata": {},
   "outputs": [
    {
     "data": {
      "text/html": [
       "<div>\n",
       "<style scoped>\n",
       "    .dataframe tbody tr th:only-of-type {\n",
       "        vertical-align: middle;\n",
       "    }\n",
       "\n",
       "    .dataframe tbody tr th {\n",
       "        vertical-align: top;\n",
       "    }\n",
       "\n",
       "    .dataframe thead th {\n",
       "        text-align: right;\n",
       "    }\n",
       "</style>\n",
       "<table border=\"1\" class=\"dataframe\">\n",
       "  <thead>\n",
       "    <tr style=\"text-align: right;\">\n",
       "      <th></th>\n",
       "      <th>RAM</th>\n",
       "      <th>Storage</th>\n",
       "      <th>Screen</th>\n",
       "    </tr>\n",
       "  </thead>\n",
       "  <tbody>\n",
       "    <tr>\n",
       "      <th>1478</th>\n",
       "      <td>8</td>\n",
       "      <td>256</td>\n",
       "      <td>15.6</td>\n",
       "    </tr>\n",
       "    <tr>\n",
       "      <th>1479</th>\n",
       "      <td>8</td>\n",
       "      <td>512</td>\n",
       "      <td>15.6</td>\n",
       "    </tr>\n",
       "    <tr>\n",
       "      <th>1480</th>\n",
       "      <td>4</td>\n",
       "      <td>64</td>\n",
       "      <td>14.1</td>\n",
       "    </tr>\n",
       "    <tr>\n",
       "      <th>1481</th>\n",
       "      <td>6</td>\n",
       "      <td>64</td>\n",
       "      <td>14.1</td>\n",
       "    </tr>\n",
       "    <tr>\n",
       "      <th>1482</th>\n",
       "      <td>6</td>\n",
       "      <td>128</td>\n",
       "      <td>14.1</td>\n",
       "    </tr>\n",
       "    <tr>\n",
       "      <th>1483</th>\n",
       "      <td>6</td>\n",
       "      <td>128</td>\n",
       "      <td>14.1</td>\n",
       "    </tr>\n",
       "  </tbody>\n",
       "</table>\n",
       "</div>"
      ],
      "text/plain": [
       "      RAM  Storage  Screen\n",
       "1478    8      256    15.6\n",
       "1479    8      512    15.6\n",
       "1480    4       64    14.1\n",
       "1481    6       64    14.1\n",
       "1482    6      128    14.1\n",
       "1483    6      128    14.1"
      ]
     },
     "execution_count": 23,
     "metadata": {},
     "output_type": "execute_result"
    }
   ],
   "source": [
    "# Selecting only columns RAM, Storage, Screen.\n",
    "\n",
    "innjoo = innjoo[['RAM', 'Storage', 'Screen']]\n",
    "innjoo"
   ]
  },
  {
   "cell_type": "code",
   "execution_count": 24,
   "id": "2fa4e7fe",
   "metadata": {},
   "outputs": [
    {
     "data": {
      "text/plain": [
       "array([[  8. , 256. ,  15.6],\n",
       "       [  8. , 512. ,  15.6],\n",
       "       [  4. ,  64. ,  14.1],\n",
       "       [  6. ,  64. ,  14.1],\n",
       "       [  6. , 128. ,  14.1],\n",
       "       [  6. , 128. ,  14.1]])"
      ]
     },
     "execution_count": 24,
     "metadata": {},
     "output_type": "execute_result"
    }
   ],
   "source": [
    "# Conver innjoo to a numpy array\n",
    "\n",
    "X = innjoo.to_numpy()\n",
    "X"
   ]
  },
  {
   "cell_type": "code",
   "execution_count": 28,
   "id": "a6c67c15",
   "metadata": {},
   "outputs": [
    {
     "data": {
      "text/plain": [
       "array([[  8. ,   8. ,   4. ,   6. ,   6. ,   6. ],\n",
       "       [256. , 512. ,  64. ,  64. , 128. , 128. ],\n",
       "       [ 15.6,  15.6,  14.1,  14.1,  14.1,  14.1]])"
      ]
     },
     "execution_count": 28,
     "metadata": {},
     "output_type": "execute_result"
    }
   ],
   "source": [
    "# Matrix multiplication between X transpose (X.T) and X\n",
    "\n",
    "# X transpose\n",
    "XT = X.T\n",
    "XT"
   ]
  },
  {
   "cell_type": "code",
   "execution_count": 31,
   "id": "08f58d6f",
   "metadata": {},
   "outputs": [
    {
     "data": {
      "text/plain": [
       "array([[2.52000e+02, 8.32000e+03, 5.59800e+02],\n",
       "       [8.32000e+03, 3.68640e+05, 1.73952e+04],\n",
       "       [5.59800e+02, 1.73952e+04, 1.28196e+03]])"
      ]
     },
     "execution_count": 31,
     "metadata": {},
     "output_type": "execute_result"
    }
   ],
   "source": [
    "# matrix multiplication XT.X\n",
    "\n",
    "XTX = np.matmul(XT,X)\n",
    "\n",
    "XTX"
   ]
  },
  {
   "cell_type": "code",
   "execution_count": 32,
   "id": "9a4d83c6",
   "metadata": {},
   "outputs": [
    {
     "data": {
      "text/plain": [
       "array([[ 2.78025381e-01, -1.51791334e-03, -1.00809855e-01],\n",
       "       [-1.51791334e-03,  1.58286725e-05,  4.48052175e-04],\n",
       "       [-1.00809855e-01,  4.48052175e-04,  3.87214888e-02]])"
      ]
     },
     "execution_count": 32,
     "metadata": {},
     "output_type": "execute_result"
    }
   ],
   "source": [
    "# Inverse of XTX\n",
    "\n",
    "XTX_Inv = np.linalg.inv(XTX)\n",
    "XTX_Inv"
   ]
  },
  {
   "cell_type": "code",
   "execution_count": 33,
   "id": "44d8ff7a",
   "metadata": {},
   "outputs": [
    {
     "data": {
      "text/plain": [
       "array([1100, 1300,  800,  900, 1000, 1100])"
      ]
     },
     "execution_count": 33,
     "metadata": {},
     "output_type": "execute_result"
    }
   ],
   "source": [
    "y = np.array([1100, 1300, 800, 900, 1000, 1100])\n",
    "y"
   ]
  },
  {
   "cell_type": "code",
   "execution_count": 35,
   "id": "588f2460",
   "metadata": {},
   "outputs": [
    {
     "data": {
      "text/plain": [
       "array([[ 0.26298349, -0.12560233, -0.40646389,  0.14958687,  0.05244042,\n",
       "         0.05244042],\n",
       "       [-0.00110155,  0.00295059,  0.00125892, -0.00177691, -0.00076387,\n",
       "        -0.00076387],\n",
       "       [-0.08772226,  0.0269791 ,  0.17140891, -0.0302108 , -0.00153546,\n",
       "        -0.00153546]])"
      ]
     },
     "execution_count": 35,
     "metadata": {},
     "output_type": "execute_result"
    }
   ],
   "source": [
    "#Multiply the inverse of XTX with the transpose of X, and then multiply the result by y. Call the result w.\n",
    "\n",
    "Z = np.matmul(XTX_Inv, XT)\n",
    "\n",
    "Z"
   ]
  },
  {
   "cell_type": "code",
   "execution_count": 37,
   "id": "bedf2183",
   "metadata": {},
   "outputs": [
    {
     "data": {
      "text/plain": [
       "array([45.58076606,  0.42783519, 45.29127938])"
      ]
     },
     "execution_count": 37,
     "metadata": {},
     "output_type": "execute_result"
    }
   ],
   "source": [
    "w = np.matmul(Z,y)\n",
    "w"
   ]
  },
  {
   "cell_type": "code",
   "execution_count": 38,
   "id": "bfa24910",
   "metadata": {},
   "outputs": [
    {
     "data": {
      "text/plain": [
       "91.29988062995815"
      ]
     },
     "execution_count": 38,
     "metadata": {},
     "output_type": "execute_result"
    }
   ],
   "source": [
    "#  sum of all the elements of w\n",
    "\n",
    "sum_w = np.sum(w)\n",
    "sum_w"
   ]
  },
  {
   "cell_type": "code",
   "execution_count": null,
   "id": "aa1d26ce",
   "metadata": {},
   "outputs": [],
   "source": []
  }
 ],
 "metadata": {
  "kernelspec": {
   "display_name": "Python 3 (ipykernel)",
   "language": "python",
   "name": "python3"
  },
  "language_info": {
   "codemirror_mode": {
    "name": "ipython",
    "version": 3
   },
   "file_extension": ".py",
   "mimetype": "text/x-python",
   "name": "python",
   "nbconvert_exporter": "python",
   "pygments_lexer": "ipython3",
   "version": "3.9.18"
  }
 },
 "nbformat": 4,
 "nbformat_minor": 5
}
