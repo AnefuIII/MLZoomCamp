{
 "cells": [
  {
   "cell_type": "code",
   "execution_count": 2,
   "id": "1bc1580e-b6d0-4d1d-8f11-93cadfcdc40a",
   "metadata": {},
   "outputs": [
    {
     "data": {
      "application/javascript": [
       "IPython.notebook.set_autosave_interval(0)"
      ]
     },
     "metadata": {},
     "output_type": "display_data"
    },
    {
     "name": "stdout",
     "output_type": "stream",
     "text": [
      "Autosave disabled\n"
     ]
    }
   ],
   "source": [
    "#%autosave 0"
   ]
  },
  {
   "cell_type": "code",
   "execution_count": 3,
   "id": "63059ee6-3e8d-4039-864e-5723da016d1f",
   "metadata": {},
   "outputs": [],
   "source": [
    "import requests"
   ]
  },
  {
   "cell_type": "code",
   "execution_count": 22,
   "id": "07ba160d-90fc-4ae4-b710-3dbe87ce4081",
   "metadata": {},
   "outputs": [],
   "source": [
    "patient = {'age': 53,\n",
    " 'sex': 1,\n",
    " 'cp': 0,\n",
    " 'trestbps': '110',\n",
    " 'chol': '335',\n",
    " 'fbs': '0',\n",
    " 'restecg': '1',\n",
    " 'thalachh': '143',\n",
    " 'exang': '1',\n",
    " 'oldpeak': 3.0,\n",
    " 'slope': '1',\n",
    " 'ca': '1',\n",
    " 'thal': '3',\n",
    "  }"
   ]
  },
  {
   "cell_type": "code",
   "execution_count": 23,
   "id": "54b58a74-a241-443b-a6e1-64f0fbb8b646",
   "metadata": {},
   "outputs": [],
   "source": [
    "url = 'http://localhost:9696/predict'"
   ]
  },
  {
   "cell_type": "code",
   "execution_count": 24,
   "id": "3bde0439-90ec-4f28-bf04-890eef308945",
   "metadata": {},
   "outputs": [
    {
     "data": {
      "text/plain": [
       "{'The patient heart disease probability is: ': 0.0, 'The risk is ': False}"
      ]
     },
     "execution_count": 24,
     "metadata": {},
     "output_type": "execute_result"
    }
   ],
   "source": [
    "response = requests.post(url, json = patient).json()\n",
    "response"
   ]
  },
  {
   "cell_type": "code",
   "execution_count": 17,
   "id": "e29232e5-b673-4ca0-b47d-c1fec73ee541",
   "metadata": {},
   "outputs": [
    {
     "name": "stdout",
     "output_type": "stream",
     "text": [
      "Consider starting a medical process immediately\n"
     ]
    }
   ],
   "source": [
    "if response['The risk is '] == True:\n",
    "    print(\"Consider starting a medical process immediately\")"
   ]
  },
  {
   "cell_type": "code",
   "execution_count": null,
   "id": "3baff3b9-2e08-47a7-8c87-6ae528a61f27",
   "metadata": {},
   "outputs": [],
   "source": []
  }
 ],
 "metadata": {
  "kernelspec": {
   "display_name": "Python 3 (ipykernel)",
   "language": "python",
   "name": "python3"
  },
  "language_info": {
   "codemirror_mode": {
    "name": "ipython",
    "version": 3
   },
   "file_extension": ".py",
   "mimetype": "text/x-python",
   "name": "python",
   "nbconvert_exporter": "python",
   "pygments_lexer": "ipython3",
   "version": "3.12.7"
  }
 },
 "nbformat": 4,
 "nbformat_minor": 5
}
